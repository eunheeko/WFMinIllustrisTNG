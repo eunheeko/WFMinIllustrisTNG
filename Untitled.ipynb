{
 "cells": [
  {
   "cell_type": "code",
   "execution_count": 1,
   "id": "empirical-visit",
   "metadata": {},
   "outputs": [],
   "source": [
    "import requests\n"
   ]
  },
  {
   "cell_type": "code",
   "execution_count": 2,
   "id": "lucky-genealogy",
   "metadata": {},
   "outputs": [],
   "source": [
    "baseUrl = 'http://www.tng-project.org/api/'\n",
    "headers = {\"api-key\":\"f96eabbae6f336408a63f875f8cce22f\"}"
   ]
  },
  {
   "cell_type": "code",
   "execution_count": 3,
   "id": "enormous-latter",
   "metadata": {},
   "outputs": [],
   "source": [
    "def get(path, params=None):\n",
    "    # make HTTP GET request to path\n",
    "    r = requests.get(path, params=params, headers=headers)\n",
    "\n",
    "    # raise exception if response code is not HTTP SUCCESS (200)\n",
    "    r.raise_for_status()\n",
    "\n",
    "    if r.headers['content-type'] == 'application/json':\n",
    "        return r.json() # parse json responses automatically\n",
    "    return r"
   ]
  },
  {
   "cell_type": "code",
   "execution_count": 4,
   "id": "disciplinary-moscow",
   "metadata": {},
   "outputs": [],
   "source": [
    "r = get(baseUrl)"
   ]
  },
  {
   "cell_type": "code",
   "execution_count": 6,
   "id": "embedded-cloud",
   "metadata": {},
   "outputs": [
    {
     "data": {
      "text/plain": [
       "dict_keys(['simulations'])"
      ]
     },
     "execution_count": 6,
     "metadata": {},
     "output_type": "execute_result"
    }
   ],
   "source": [
    "r.keys()"
   ]
  },
  {
   "cell_type": "code",
   "execution_count": 17,
   "id": "useful-capital",
   "metadata": {
    "scrolled": true
   },
   "outputs": [
    {
     "name": "stdout",
     "output_type": "stream",
     "text": [
      "18\n"
     ]
    }
   ],
   "source": [
    "names = [sim['name'] for sim in r['simulations']]\n",
    "print(names.index('TNG50-1'))"
   ]
  },
  {
   "cell_type": "code",
   "execution_count": 18,
   "id": "tough-accommodation",
   "metadata": {},
   "outputs": [],
   "source": [
    "sim = get(r['simulations'][18]['url'])"
   ]
  },
  {
   "cell_type": "code",
   "execution_count": 19,
   "id": "scientific-excerpt",
   "metadata": {},
   "outputs": [
    {
     "data": {
      "text/plain": [
       "dict_keys(['name', 'description', 'name_alt', 'boxsize', 'z_start', 'z_final', 'cosmology', 'omega_0', 'omega_L', 'omega_B', 'hubble', 'physics_model', 'has_cooling', 'has_starformation', 'has_winds', 'has_blackholes', 'mass_gas', 'mass_dm', 'softening_dm_comoving', 'softening_stars_comoving', 'softening_blackholes_comoving', 'softening_gas_comoving', 'softening_dm_max_phys', 'softening_stars_max_phys', 'softening_blackholes_max_phys', 'softening_gas_max_phys', 'softening_gas_factor', 'softening_gas_comoving_min', 'num_dm', 'num_tr_mc', 'num_tr_vel', 'longids', 'is_uniform', 'is_zoom', 'is_subbox', 'num_files_snapshot', 'num_files_groupcat', 'num_files_rockstar', 'num_files_lhalotree', 'num_files_sublink', 'num_files_ctrees', 'filesize_lhalotree', 'filesize_sublink', 'filesize_ctrees', 'filesize_ics', 'filesize_simulation', 'has_fof', 'has_subfind', 'has_rockstar', 'has_lhalotree', 'has_sublink', 'has_ctrees', 'permission_required', 'num_snapshots', 'url', 'parent_simulation', 'child_simulations', 'files', 'checksums', 'snapshots'])"
      ]
     },
     "execution_count": 19,
     "metadata": {},
     "output_type": "execute_result"
    }
   ],
   "source": [
    "sim.keys()"
   ]
  },
  {
   "cell_type": "code",
   "execution_count": 25,
   "id": "mineral-serial",
   "metadata": {},
   "outputs": [],
   "source": [
    "snaps = get(sim['snapshots'])"
   ]
  },
  {
   "cell_type": "code",
   "execution_count": 41,
   "id": "meaning-savage",
   "metadata": {},
   "outputs": [
    {
     "data": {
      "text/plain": [
       "{'number': 55,\n",
       " 'redshift': 0.816709979011851,\n",
       " 'num_groups_subfind': 6587236,\n",
       " 'url': 'http://www.tng-project.org/api/TNG50-1/snapshots/55/'}"
      ]
     },
     "execution_count": 41,
     "metadata": {},
     "output_type": "execute_result"
    }
   ],
   "source": [
    "snaps[55]"
   ]
  },
  {
   "cell_type": "code",
   "execution_count": 30,
   "id": "signal-brook",
   "metadata": {},
   "outputs": [],
   "source": [
    "snap = get(snaps[-1]['url'])"
   ]
  },
  {
   "cell_type": "code",
   "execution_count": 32,
   "id": "least-ultimate",
   "metadata": {},
   "outputs": [
    {
     "data": {
      "text/plain": [
       "dict_keys(['simulation', 'number', 'redshift', 'num_gas', 'num_dm', 'num_trmc', 'num_stars', 'num_bhs', 'num_groups_fof', 'num_groups_subfind', 'num_groups_rockstar', 'filesize_snapshot', 'filesize_groupcat', 'filesize_rockstar', 'url', 'subhalos', 'vis', 'files'])"
      ]
     },
     "execution_count": 32,
     "metadata": {},
     "output_type": "execute_result"
    }
   ],
   "source": [
    "snap.keys()"
   ]
  },
  {
   "cell_type": "code",
   "execution_count": 35,
   "id": "bulgarian-christopher",
   "metadata": {},
   "outputs": [
    {
     "data": {
      "text/plain": [
       "{'snapshot': 'http://www.tng-project.org/api/TNG50-1/files/snapshot-99/',\n",
       " 'groupcat': 'http://www.tng-project.org/api/TNG50-1/files/groupcat-99/'}"
      ]
     },
     "execution_count": 35,
     "metadata": {},
     "output_type": "execute_result"
    }
   ],
   "source": [
    "snap['files']"
   ]
  },
  {
   "cell_type": "code",
   "execution_count": 36,
   "id": "sapphire-alberta",
   "metadata": {},
   "outputs": [
    {
     "data": {
      "text/plain": [
       "'http://www.tng-project.org/api/TNG50-1/snapshots/99/subhalos/'"
      ]
     },
     "execution_count": 36,
     "metadata": {},
     "output_type": "execute_result"
    }
   ],
   "source": [
    "snap['subhalos']"
   ]
  },
  {
   "cell_type": "code",
   "execution_count": 37,
   "id": "crazy-recipient",
   "metadata": {},
   "outputs": [],
   "source": [
    "subhalo = get(snap['subhalos']) #100"
   ]
  },
  {
   "cell_type": "code",
   "execution_count": 45,
   "id": "prospective-interference",
   "metadata": {},
   "outputs": [],
   "source": [
    "# subhalo"
   ]
  },
  {
   "cell_type": "code",
   "execution_count": 39,
   "id": "following-tampa",
   "metadata": {},
   "outputs": [
    {
     "data": {
      "text/plain": [
       "5688113"
      ]
     },
     "execution_count": 39,
     "metadata": {},
     "output_type": "execute_result"
    }
   ],
   "source": [
    "subhalo['count']"
   ]
  },
  {
   "cell_type": "code",
   "execution_count": 51,
   "id": "impaired-trash",
   "metadata": {},
   "outputs": [],
   "source": [
    "mass_min = 10**13.5 / 1e10 * 0.704\n",
    "# mass_max = 10**12.1 / 1e10 * 0.704\n",
    "\n",
    "search_query = '?mass__gt=' + str(mass_min)"
   ]
  },
  {
   "cell_type": "code",
   "execution_count": 52,
   "id": "sharp-marathon",
   "metadata": {},
   "outputs": [
    {
     "data": {
      "text/plain": [
       "'http://www.tng-project.org/api/TNG50-1/snapshots/99/subhalos/?mass__gt=2226.243472758539'"
      ]
     },
     "execution_count": 52,
     "metadata": {},
     "output_type": "execute_result"
    }
   ],
   "source": [
    "snap['subhalos'] + search_query"
   ]
  },
  {
   "cell_type": "code",
   "execution_count": 53,
   "id": "suburban-service",
   "metadata": {},
   "outputs": [],
   "source": [
    "subhalos = get(snap['subhalos'] + search_query)"
   ]
  },
  {
   "cell_type": "code",
   "execution_count": 54,
   "id": "latter-century",
   "metadata": {},
   "outputs": [
    {
     "data": {
      "text/plain": [
       "{'count': 7,\n",
       " 'next': None,\n",
       " 'previous': None,\n",
       " 'results': [{'id': 0,\n",
       "   'sfr': 1.15783,\n",
       "   'mass_log_msun': 14.292666717121172,\n",
       "   'url': 'http://www.tng-project.org/api/TNG50-1/snapshots/99/subhalos/0/'},\n",
       "  {'id': 63864,\n",
       "   'sfr': 6.13795,\n",
       "   'mass_log_msun': 13.962841843135472,\n",
       "   'url': 'http://www.tng-project.org/api/TNG50-1/snapshots/99/subhalos/63864/'},\n",
       "  {'id': 96762,\n",
       "   'sfr': 7.45007,\n",
       "   'mass_log_msun': 13.82340549107875,\n",
       "   'url': 'http://www.tng-project.org/api/TNG50-1/snapshots/99/subhalos/96762/'},\n",
       "  {'id': 117250,\n",
       "   'sfr': 69.4192,\n",
       "   'mass_log_msun': 13.6375878067962,\n",
       "   'url': 'http://www.tng-project.org/api/TNG50-1/snapshots/99/subhalos/117250/'},\n",
       "  {'id': 143880,\n",
       "   'sfr': 21.5256,\n",
       "   'mass_log_msun': 13.578176139039536,\n",
       "   'url': 'http://www.tng-project.org/api/TNG50-1/snapshots/99/subhalos/143880/'},\n",
       "  {'id': 184931,\n",
       "   'sfr': 38.1246,\n",
       "   'mass_log_msun': 13.571428229826205,\n",
       "   'url': 'http://www.tng-project.org/api/TNG50-1/snapshots/99/subhalos/184931/'},\n",
       "  {'id': 198182,\n",
       "   'sfr': 24.9075,\n",
       "   'mass_log_msun': 13.554880808530891,\n",
       "   'url': 'http://www.tng-project.org/api/TNG50-1/snapshots/99/subhalos/198182/'}]}"
      ]
     },
     "execution_count": 54,
     "metadata": {},
     "output_type": "execute_result"
    }
   ],
   "source": [
    "subhalos"
   ]
  },
  {
   "cell_type": "code",
   "execution_count": 46,
   "id": "entertaining-medicaid",
   "metadata": {},
   "outputs": [],
   "source": [
    "# subhalo['results']"
   ]
  },
  {
   "cell_type": "code",
   "execution_count": null,
   "id": "arctic-metro",
   "metadata": {},
   "outputs": [],
   "source": []
  }
 ],
 "metadata": {
  "kernelspec": {
   "display_name": "Python 3",
   "language": "python",
   "name": "python3"
  },
  "language_info": {
   "codemirror_mode": {
    "name": "ipython",
    "version": 3
   },
   "file_extension": ".py",
   "mimetype": "text/x-python",
   "name": "python",
   "nbconvert_exporter": "python",
   "pygments_lexer": "ipython3",
   "version": "3.7.10"
  },
  "varInspector": {
   "cols": {
    "lenName": 16,
    "lenType": 16,
    "lenVar": 40
   },
   "kernels_config": {
    "python": {
     "delete_cmd_postfix": "",
     "delete_cmd_prefix": "del ",
     "library": "var_list.py",
     "varRefreshCmd": "print(var_dic_list())"
    },
    "r": {
     "delete_cmd_postfix": ") ",
     "delete_cmd_prefix": "rm(",
     "library": "var_list.r",
     "varRefreshCmd": "cat(var_dic_list()) "
    }
   },
   "types_to_exclude": [
    "module",
    "function",
    "builtin_function_or_method",
    "instance",
    "_Feature"
   ],
   "window_display": false
  }
 },
 "nbformat": 4,
 "nbformat_minor": 5
}
