{
 "cells": [
  {
   "cell_type": "code",
   "execution_count": 77,
   "id": "romance-store",
   "metadata": {},
   "outputs": [],
   "source": [
    "import requests\n",
    "import tqdm\n",
    "import h5py\n",
    "\n",
    "import os\n",
    "\n",
    "import matplotlib.pyplot as plt"
   ]
  },
  {
   "cell_type": "code",
   "execution_count": 6,
   "id": "conditional-bermuda",
   "metadata": {},
   "outputs": [],
   "source": [
    "baseUrl = 'http://www.tng-project.org/api/'\n",
    "headers = {\"api-key\":\"f96eabbae6f336408a63f875f8cce22f\"}"
   ]
  },
  {
   "cell_type": "code",
   "execution_count": 14,
   "id": "neutral-fighter",
   "metadata": {},
   "outputs": [],
   "source": [
    "def get(path, params=None):\n",
    "    # make HTTP GET request to path\n",
    "    r = requests.get(path, params=params, headers=headers)\n",
    "\n",
    "    # raise exception if response code is not HTTP SUCCESS (200)\n",
    "    r.raise_for_status()\n",
    "\n",
    "    if r.headers['content-type'] == 'application/json':\n",
    "        return r.json() # parse json responses automatically\n",
    "    return r\n",
    "\n",
    "def get_save(path, fname, params=None):\n",
    "    # make HTTP GET request to path\n",
    "    r = requests.get(path, params=params, headers=headers)\n",
    "\n",
    "    # raise exception if response code is not HTTP SUCCESS (200)\n",
    "    r.raise_for_status()\n",
    "\n",
    "#     if r.headers['content-type'] == 'application/json':\n",
    "#         return r.json() # parse json responses automatically\n",
    "\n",
    "    if 'content-disposition' in r.headers:\n",
    "#         filename = r.headers['content-disposition'].split(\"filename=\")[1]\n",
    "        with open(fname, 'wb') as f:\n",
    "            f.write(r.content)\n",
    "        return # return the filename string\n",
    "\n",
    "    return r"
   ]
  },
  {
   "cell_type": "code",
   "execution_count": 7,
   "id": "yellow-shopper",
   "metadata": {},
   "outputs": [],
   "source": [
    "sim = get(baseUrl + 'TNG50-1/')"
   ]
  },
  {
   "cell_type": "code",
   "execution_count": 62,
   "id": "synthetic-digest",
   "metadata": {},
   "outputs": [
    {
     "data": {
      "text/plain": [
       "dict_keys(['name', 'description', 'name_alt', 'boxsize', 'z_start', 'z_final', 'cosmology', 'omega_0', 'omega_L', 'omega_B', 'hubble', 'physics_model', 'has_cooling', 'has_starformation', 'has_winds', 'has_blackholes', 'mass_gas', 'mass_dm', 'softening_dm_comoving', 'softening_stars_comoving', 'softening_blackholes_comoving', 'softening_gas_comoving', 'softening_dm_max_phys', 'softening_stars_max_phys', 'softening_blackholes_max_phys', 'softening_gas_max_phys', 'softening_gas_factor', 'softening_gas_comoving_min', 'num_dm', 'num_tr_mc', 'num_tr_vel', 'longids', 'is_uniform', 'is_zoom', 'is_subbox', 'num_files_snapshot', 'num_files_groupcat', 'num_files_rockstar', 'num_files_lhalotree', 'num_files_sublink', 'num_files_ctrees', 'filesize_lhalotree', 'filesize_sublink', 'filesize_ctrees', 'filesize_ics', 'filesize_simulation', 'has_fof', 'has_subfind', 'has_rockstar', 'has_lhalotree', 'has_sublink', 'has_ctrees', 'permission_required', 'num_snapshots', 'url', 'parent_simulation', 'child_simulations', 'files', 'checksums', 'snapshots'])"
      ]
     },
     "execution_count": 62,
     "metadata": {},
     "output_type": "execute_result"
    }
   ],
   "source": [
    "sim.keys()"
   ]
  },
  {
   "cell_type": "code",
   "execution_count": 13,
   "id": "manual-suite",
   "metadata": {},
   "outputs": [
    {
     "name": "stdout",
     "output_type": "stream",
     "text": [
      "num snapshots = 100\n",
      "num files snapshots = 680\n"
     ]
    }
   ],
   "source": [
    "num_snapshots = sim['num_snapshots']\n",
    "print(f'num snapshots = {num_snapshots}')\n",
    "\n",
    "num_files_snapshot = sim['num_files_snapshot']\n",
    "print(f'num files snapshots = {num_files_snapshot}')"
   ]
  },
  {
   "cell_type": "markdown",
   "id": "competent-survey",
   "metadata": {},
   "source": [
    "# Find the galaxy clusters at z = 0\n",
    "\n",
    "Find the galaxy clusters ($M_{200}$ $\\geq$ 1e13)"
   ]
  },
  {
   "cell_type": "code",
   "execution_count": 61,
   "id": "frozen-briefs",
   "metadata": {},
   "outputs": [
    {
     "data": {
      "text/plain": [
       "{'lhalotree': 'http://www.tng-project.org/api/TNG50-1/files/lhalotree/',\n",
       " 'sublink': 'http://www.tng-project.org/api/TNG50-1/files/sublink/',\n",
       " 'offsets': 'http://www.tng-project.org/api/TNG50-1/files/offsets/',\n",
       " 'ics': 'http://www.tng-project.org/api/TNG50-1/files/ics.hdf5',\n",
       " 'simulation': 'http://www.tng-project.org/api/TNG50-1/files/simulation.hdf5',\n",
       " 'stellar_circs': 'http://www.tng-project.org/api/TNG50-1/files/stellar_circs.hdf5',\n",
       " 'subhalo_matching_to_dark': 'http://www.tng-project.org/api/TNG50-1/files/subhalo_matching_to_dark.hdf5',\n",
       " 'blackhole_mergers': 'http://www.tng-project.org/api/TNG50-1/files/blackhole_mergers.hdf5',\n",
       " 'blackhole_details': 'http://www.tng-project.org/api/TNG50-1/files/blackhole_details.hdf5',\n",
       " 'stellar_assembly': 'http://www.tng-project.org/api/TNG50-1/files/stellar_assembly.hdf5',\n",
       " 'subbox_subhalo_list_0': 'http://www.tng-project.org/api/TNG50-1/files/subbox_subhalo_list.0.hdf5',\n",
       " 'subbox_subhalo_list_1': 'http://www.tng-project.org/api/TNG50-1/files/subbox_subhalo_list.1.hdf5',\n",
       " 'subbox_subhalo_list_2': 'http://www.tng-project.org/api/TNG50-1/files/subbox_subhalo_list.2.hdf5',\n",
       " 'star_formation_rates': 'http://www.tng-project.org/api/TNG50-1/files/star_formation_rates.hdf5',\n",
       " 'aperture_masses': 'http://www.tng-project.org/api/TNG50-1/files/aperture_masses.hdf5',\n",
       " 'morphologies_deeplearn': 'http://www.tng-project.org/api/TNG50-1/files/morphologies_deeplearn.hdf5',\n",
       " 'halo_structure': 'http://www.tng-project.org/api/TNG50-1/files/halo_structure/',\n",
       " 'hih2_galaxy': 'http://www.tng-project.org/api/TNG50-1/files/hih2_galaxy/',\n",
       " 'stellar_sizes': 'http://www.tng-project.org/api/TNG50-1/files/stellar_sizes/',\n",
       " 'kinematic_decomposition': 'http://www.tng-project.org/api/TNG50-1/files/kinematic_decomposition/'}"
      ]
     },
     "execution_count": 61,
     "metadata": {},
     "output_type": "execute_result"
    }
   ],
   "source": [
    "sim['files']"
   ]
  },
  {
   "cell_type": "code",
   "execution_count": 36,
   "id": "simplified-hybrid",
   "metadata": {},
   "outputs": [
    {
     "name": "stdout",
     "output_type": "stream",
     "text": [
      "initial Group_M_TopHat200 saved\n",
      "initial GroupFirstSub saved\n",
      "initial GroupNsubs saved\n"
     ]
    }
   ],
   "source": [
    "url = 'http://www.tng-project.org/api/TNG50-1/files/groupcat-99/'\n",
    "query_mass = '?Group=Group_M_TopHat200'\n",
    "\n",
    "get_save(url + query_mass, './initial/Group_M_TopHat200')\n",
    "print('initial Group_M_TopHat200 saved')\n",
    "\n",
    "query_firstsub = '?Group=GroupFirstSub'\n",
    "get_save(url + query_firstsub, './initial/GroupFirstSub')\n",
    "print('initial GroupFirstSub saved')\n",
    "\n",
    "\n",
    "query_nsub = '?Group=GroupNsubs'\n",
    "get_save(url + query_nsub, './initial/GroupNsubs')\n",
    "print('initial GroupNsubs saved')"
   ]
  },
  {
   "cell_type": "code",
   "execution_count": 37,
   "id": "piano-conservative",
   "metadata": {},
   "outputs": [],
   "source": [
    "with h5py.File('./initial/Group_M_TopHat200', 'r') as f:\n",
    "    M200 = f['Group']['Group_M_TopHat200'][:] * 1e10 / 0.704"
   ]
  },
  {
   "cell_type": "code",
   "execution_count": 39,
   "id": "raised-refund",
   "metadata": {},
   "outputs": [],
   "source": [
    "cl_index = np.where(M200 >= 1e13)[0]"
   ]
  },
  {
   "cell_type": "code",
   "execution_count": 47,
   "id": "banner-excess",
   "metadata": {},
   "outputs": [],
   "source": [
    "with h5py.File('./initial/GroupFirstSub', 'r') as f:\n",
    "    firstsub = f['Group']['GroupFirstSub'][:][cl_index]\n",
    "    \n",
    "with h5py.File('./initial/GroupNsubs', 'r') as f:\n",
    "    nsub = f['Group']['GroupNsubs'][:][cl_index]"
   ]
  },
  {
   "cell_type": "code",
   "execution_count": 48,
   "id": "literary-record",
   "metadata": {
    "scrolled": true
   },
   "outputs": [
    {
     "data": {
      "text/plain": [
       "array([     0,  63864,  96762, 117250, 143880, 167392, 184931, 198182,\n",
       "       208811, 220595, 229933, 242788, 253861, 264883, 275545, 282779,\n",
       "       289385, 294866, 300903, 307485, 313692, 319730, 324123, 329508,\n",
       "       333424, 338446], dtype=int32)"
      ]
     },
     "execution_count": 48,
     "metadata": {},
     "output_type": "execute_result"
    }
   ],
   "source": [
    "firstsub"
   ]
  },
  {
   "cell_type": "code",
   "execution_count": 49,
   "id": "short-movement",
   "metadata": {},
   "outputs": [
    {
     "data": {
      "text/plain": [
       "array([63864, 32898, 20488, 26630, 23512, 17539, 13251, 10629, 11784,\n",
       "        9338, 12855, 11073, 11022, 10662,  7234,  6606,  5481,  6037,\n",
       "        6582,  6207,  6038,  4393,  5385,  3916,  5022,  4000],\n",
       "      dtype=int32)"
      ]
     },
     "execution_count": 49,
     "metadata": {},
     "output_type": "execute_result"
    }
   ],
   "source": [
    "nsub"
   ]
  },
  {
   "cell_type": "code",
   "execution_count": 58,
   "id": "antique-colony",
   "metadata": {
    "scrolled": true
   },
   "outputs": [
    {
     "name": "stderr",
     "output_type": "stream",
     "text": [
      "100%|██████████| 100/100 [00:00<00:00, 1566.43it/s]\n"
     ]
    }
   ],
   "source": [
    "if not os.path.exists('./snaps/'):\n",
    "    \n",
    "    os.mkdir('./snaps/')\n",
    "    \n",
    "for i in tqdm.trange(100):\n",
    "    \n",
    "    path_name = f'./snaps/snap{i}'\n",
    "    \n",
    "    if not os.path.exists(path_name):\n",
    "        os.mkdir(path_name)"
   ]
  },
  {
   "cell_type": "code",
   "execution_count": 60,
   "id": "median-republic",
   "metadata": {},
   "outputs": [
    {
     "name": "stderr",
     "output_type": "stream",
     "text": [
      "100%|██████████| 100/100 [3:42:23<00:00, 133.44s/it] \n"
     ]
    }
   ],
   "source": [
    "for i in tqdm.trange(100):\n",
    "    \n",
    "    url = f'http://www.tng-project.org/api/TNG50-1/files/groupcat-{i}/'\n",
    "    path_name = f'./snaps/snap{i}/'\n",
    "    \n",
    "    query_mass = '?Group=Group_M_TopHat200'\n",
    "    get_save(url + query_mass, path_name + 'Group_M_TopHat200')\n",
    "\n",
    "    query_firstsub = '?Group=GroupFirstSub'\n",
    "    get_save(url + query_firstsub, path_name + 'GroupFirstSub')\n",
    "\n",
    "    query_nsub = '?Group=GroupNsubs'\n",
    "    get_save(url + query_nsub, path_name + 'GroupNsubs')\n"
   ]
  },
  {
   "cell_type": "code",
   "execution_count": 61,
   "id": "adverse-senate",
   "metadata": {
    "scrolled": true
   },
   "outputs": [
    {
     "data": {
      "text/plain": [
       "array([ 0,  1,  2,  3,  4,  5,  6,  7,  8,  9, 10, 11, 12, 13, 14, 15, 16,\n",
       "       17, 18, 19, 20, 21, 22, 23, 24, 25])"
      ]
     },
     "execution_count": 61,
     "metadata": {},
     "output_type": "execute_result"
    }
   ],
   "source": [
    "cl_index "
   ]
  },
  {
   "cell_type": "markdown",
   "id": "devoted-shape",
   "metadata": {},
   "source": [
    "# Find the progenitor cluster"
   ]
  },
  {
   "cell_type": "code",
   "execution_count": 176,
   "id": "horizontal-breach",
   "metadata": {},
   "outputs": [
    {
     "data": {
      "text/plain": [
       "range(0, 63864)"
      ]
     },
     "execution_count": 176,
     "metadata": {},
     "output_type": "execute_result"
    }
   ],
   "source": [
    "range(firstsub[0], nsub[0]) # subhalos in first FOF group at z = 0"
   ]
  },
  {
   "cell_type": "code",
   "execution_count": 94,
   "id": "visible-kernel",
   "metadata": {},
   "outputs": [
    {
     "data": {
      "text/plain": [
       "'http://www.tng-project.org/api/TNG50-1/snapshots/99/subhalos/0'"
      ]
     },
     "execution_count": 94,
     "metadata": {},
     "output_type": "execute_result"
    }
   ],
   "source": [
    "url = f'http://www.tng-project.org/api/TNG50-1/snapshots/99/subhalos/' + str(0)"
   ]
  },
  {
   "cell_type": "code",
   "execution_count": 95,
   "id": "august-title",
   "metadata": {},
   "outputs": [],
   "source": [
    "sub = get(url)"
   ]
  },
  {
   "cell_type": "code",
   "execution_count": 123,
   "id": "fifty-pizza",
   "metadata": {},
   "outputs": [
    {
     "data": {
      "text/plain": [
       "dict_keys(['snap', 'id', 'bhmdot', 'cm_x', 'cm_y', 'cm_z', 'gasmetallicity', 'gasmetallicityhalfrad', 'gasmetallicitymaxrad', 'gasmetallicitysfr', 'gasmetallicitysfrweighted', 'pos_x', 'pos_y', 'pos_z', 'halfmassrad', 'halfmassrad_gas', 'halfmassrad_dm', 'halfmassrad_stars', 'halfmassrad_bhs', 'len', 'len_gas', 'len_dm', 'len_stars', 'len_bhs', 'mass', 'mass_gas', 'mass_dm', 'mass_stars', 'mass_bhs', 'massinhalfrad', 'massinhalfrad_gas', 'massinhalfrad_dm', 'massinhalfrad_stars', 'massinhalfrad_bhs', 'massinmaxrad', 'massinmaxrad_gas', 'massinmaxrad_dm', 'massinmaxrad_stars', 'massinmaxrad_bhs', 'massinrad', 'massinrad_gas', 'massinrad_dm', 'massinrad_stars', 'massinrad_bhs', 'sfr', 'sfrinhalfrad', 'sfrinmaxrad', 'sfrinrad', 'spin_x', 'spin_y', 'spin_z', 'starmetallicity', 'starmetallicityhalfrad', 'starmetallicitymaxrad', 'stellarphotometrics_u', 'stellarphotometrics_b', 'stellarphotometrics_v', 'stellarphotometrics_k', 'stellarphotometrics_g', 'stellarphotometrics_r', 'stellarphotometrics_i', 'stellarphotometrics_z', 'stellarphotometricsmassinrad', 'stellarphotometricsrad', 'vel_x', 'vel_y', 'vel_z', 'veldisp', 'vmax', 'vmaxrad', 'windmass', 'prog_snap', 'prog_sfid', 'desc_snap', 'desc_sfid', 'parent', 'grnr', 'primary_flag', 'mass_log_msun', 'related', 'cutouts', 'trees', 'supplementary_data', 'vis', 'meta'])"
      ]
     },
     "execution_count": 123,
     "metadata": {},
     "output_type": "execute_result"
    }
   ],
   "source": [
    "sub.keys()"
   ]
  },
  {
   "cell_type": "markdown",
   "id": "ignored-honolulu",
   "metadata": {},
   "source": [
    "**sublink_simple**\n",
    "\n",
    "retrieve a simple representation of the SubLink tree, the Main Progenitor Branch (in 'Main') and a list of past mergers (in 'Mergers') only. In both cases a snapshot number and subhalo ID pair is given."
   ]
  },
  {
   "cell_type": "code",
   "execution_count": 121,
   "id": "ignored-oregon",
   "metadata": {
    "scrolled": true
   },
   "outputs": [
    {
     "data": {
      "text/plain": [
       "{'sublink': 'http://www.tng-project.org/api/TNG50-1/snapshots/99/subhalos/0/sublink/full.hdf5',\n",
       " 'sublink_mpb': 'http://www.tng-project.org/api/TNG50-1/snapshots/99/subhalos/0/sublink/mpb.hdf5',\n",
       " 'sublink_mdb': 'http://www.tng-project.org/api/TNG50-1/snapshots/99/subhalos/0/sublink/mdb.hdf5',\n",
       " 'sublink_simple': 'http://www.tng-project.org/api/TNG50-1/snapshots/99/subhalos/0/sublink/simple.json',\n",
       " 'lhalotree': 'http://www.tng-project.org/api/TNG50-1/snapshots/99/subhalos/0/lhalotree/full.hdf5',\n",
       " 'lhalotree_mpb': 'http://www.tng-project.org/api/TNG50-1/snapshots/99/subhalos/0/lhalotree/mpb.hdf5'}"
      ]
     },
     "execution_count": 121,
     "metadata": {},
     "output_type": "execute_result"
    }
   ],
   "source": [
    "sub['trees']"
   ]
  },
  {
   "cell_type": "code",
   "execution_count": 159,
   "id": "loved-struggle",
   "metadata": {},
   "outputs": [],
   "source": [
    "submpb = get_save(sub['trees']['sublink_mpb'], 'subplink_mpb')"
   ]
  },
  {
   "cell_type": "code",
   "execution_count": 165,
   "id": "floral-stability",
   "metadata": {
    "scrolled": true
   },
   "outputs": [
    {
     "name": "stderr",
     "output_type": "stream",
     "text": [
      "/home/ehko/anaconda3/lib/python3.7/site-packages/ipykernel_launcher.py:1: H5pyDeprecationWarning: The default file mode will change to 'r' (read-only) in h5py 3.0. To suppress this warning, pass the mode you need to h5py.File(), or set the global default h5.get_config().default_file_mode, or set the environment variable H5PY_DEFAULT_READONLY=1. Available modes are: 'r', 'r+', 'w', 'w-'/'x', 'a'. See the docs for details.\n",
      "  \"\"\"Entry point for launching an IPython kernel.\n"
     ]
    }
   ],
   "source": [
    "submpb = h5py.File('subplink_mpb')"
   ]
  },
  {
   "cell_type": "code",
   "execution_count": 167,
   "id": "outstanding-pepper",
   "metadata": {},
   "outputs": [
    {
     "data": {
      "text/plain": [
       "<KeysViewHDF5 ['DescendantID', 'FirstProgenitorID', 'FirstSubhaloInFOFGroupID', 'GroupBHMass', 'GroupBHMdot', 'GroupCM', 'GroupFirstSub', 'GroupGasMetalFractions', 'GroupGasMetallicity', 'GroupLen', 'GroupLenType', 'GroupMass', 'GroupMassType', 'GroupNsubs', 'GroupPos', 'GroupSFR', 'GroupStarMetalFractions', 'GroupStarMetallicity', 'GroupVel', 'GroupWindMass', 'Group_M_Crit200', 'Group_M_Crit500', 'Group_M_Mean200', 'Group_M_TopHat200', 'Group_R_Crit200', 'Group_R_Crit500', 'Group_R_Mean200', 'Group_R_TopHat200', 'LastProgenitorID', 'MainLeafProgenitorID', 'Mass', 'MassHistory', 'NextProgenitorID', 'NextSubhaloInFOFGroupID', 'NumParticles', 'RootDescendantID', 'SnapNum', 'SubfindID', 'SubhaloBHMass', 'SubhaloBHMdot', 'SubhaloCM', 'SubhaloGasMetalFractions', 'SubhaloGasMetalFractionsHalfRad', 'SubhaloGasMetalFractionsMaxRad', 'SubhaloGasMetalFractionsSfr', 'SubhaloGasMetalFractionsSfrWeighted', 'SubhaloGasMetallicity', 'SubhaloGasMetallicityHalfRad', 'SubhaloGasMetallicityMaxRad', 'SubhaloGasMetallicitySfr', 'SubhaloGasMetallicitySfrWeighted', 'SubhaloGrNr', 'SubhaloHalfmassRad', 'SubhaloHalfmassRadType', 'SubhaloID', 'SubhaloIDMostbound', 'SubhaloIDRaw', 'SubhaloLen', 'SubhaloLenType', 'SubhaloMass', 'SubhaloMassInHalfRad', 'SubhaloMassInHalfRadType', 'SubhaloMassInMaxRad', 'SubhaloMassInMaxRadType', 'SubhaloMassInRad', 'SubhaloMassInRadType', 'SubhaloMassType', 'SubhaloParent', 'SubhaloPos', 'SubhaloSFR', 'SubhaloSFRinHalfRad', 'SubhaloSFRinMaxRad', 'SubhaloSFRinRad', 'SubhaloSpin', 'SubhaloStarMetalFractions', 'SubhaloStarMetalFractionsHalfRad', 'SubhaloStarMetalFractionsMaxRad', 'SubhaloStarMetallicity', 'SubhaloStarMetallicityHalfRad', 'SubhaloStarMetallicityMaxRad', 'SubhaloStellarPhotometrics', 'SubhaloStellarPhotometricsMassInRad', 'SubhaloStellarPhotometricsRad', 'SubhaloVel', 'SubhaloVelDisp', 'SubhaloVmax', 'SubhaloVmaxRad', 'SubhaloWindMass', 'TreeID']>"
      ]
     },
     "execution_count": 167,
     "metadata": {},
     "output_type": "execute_result"
    }
   ],
   "source": [
    "submpb.keys()"
   ]
  },
  {
   "cell_type": "code",
   "execution_count": 187,
   "id": "elect-studio",
   "metadata": {},
   "outputs": [
    {
     "data": {
      "text/plain": [
       "array([99, 98, 97, 96, 95, 94, 93, 92, 91, 90, 89, 88, 87, 86, 85, 84, 83,\n",
       "       82, 81, 80, 79, 78, 77, 76, 75, 74, 73, 72, 71, 70, 69, 68, 67, 66,\n",
       "       65, 64, 63, 62, 61, 60, 59, 58, 57, 56, 55, 54, 53, 52, 51, 50, 49,\n",
       "       48, 47, 46, 45, 44, 43, 42, 41, 40, 39, 38, 37, 36, 35, 34, 33, 32,\n",
       "       31, 30, 29, 28, 27, 26, 25, 24, 23, 22, 21, 20, 19, 18, 17, 16, 15,\n",
       "       14, 13, 12, 11, 10,  9,  8,  7,  6,  5,  4,  3,  2,  1,  0],\n",
       "      dtype=int16)"
      ]
     },
     "execution_count": 187,
     "metadata": {},
     "output_type": "execute_result"
    }
   ],
   "source": [
    "submpb['SnapNum'][:]"
   ]
  },
  {
   "cell_type": "code",
   "execution_count": 183,
   "id": "numerical-series",
   "metadata": {},
   "outputs": [
    {
     "data": {
      "text/plain": [
       "array([0, 0, 0, 0, 0, 0, 0, 0, 0, 0, 0, 0, 0, 0, 0, 0, 0, 0, 0, 0, 0, 0,\n",
       "       0, 0, 0, 0, 0, 0, 0, 0, 0, 0, 0, 0, 0, 0, 0, 0, 0, 0, 0, 0, 0, 0,\n",
       "       0, 0, 0, 0, 0, 0, 0, 0, 0, 0, 0, 0, 0, 0, 0, 0, 0, 0, 0, 0, 0, 0,\n",
       "       0, 0, 0, 0, 0, 0, 0, 0, 0, 0, 0, 0, 0, 0, 0, 0, 0, 0, 0, 0, 0, 0,\n",
       "       0, 0, 0, 0, 0, 0, 0, 0, 0, 0, 0, 0])"
      ]
     },
     "execution_count": 183,
     "metadata": {},
     "output_type": "execute_result"
    }
   ],
   "source": [
    "submpb['TreeID'][:]"
   ]
  },
  {
   "cell_type": "code",
   "execution_count": 181,
   "id": "lesbian-classics",
   "metadata": {},
   "outputs": [
    {
     "data": {
      "text/plain": [
       "array([90497240, 90497241, 90497242, 90497243, 90497244, 90497245,\n",
       "       90497246, 90497247, 90497248, 90497249, 90497250, 90497251,\n",
       "       90497252, 90497253, 90497254, 90497255, 90497256, 90497257,\n",
       "       90497258, 90497259, 90497260, 90497261, 90497262, 90497263,\n",
       "       90497264, 90497265, 90497266, 90497267, 90497268, 90497269,\n",
       "       90497270, 90497271, 90497272, 90497273, 90497274, 90497275,\n",
       "       90497276, 90497277, 90497278, 90497279, 90497280, 90497281,\n",
       "       90497282, 90497283, 90497284, 90497285, 90497286, 90497287,\n",
       "       90497288, 90497289, 90497290, 90497291, 90497292, 90497293,\n",
       "       90497294, 90497295, 90497296, 90497297, 90497298, 90497299,\n",
       "       90497300, 90497301, 90497302, 90497303, 90497304, 90497305,\n",
       "       90497306, 90497307, 90497308, 90497309, 90497310, 90497311,\n",
       "       90497312, 90497313, 90497314, 90497315, 90497316, 90497317,\n",
       "       90497318, 90497319, 90497320, 90497321, 90497322, 90497323,\n",
       "       90497324, 90497325, 90497326, 90497327, 90497328, 90497329,\n",
       "       90497330, 90497331, 90497332, 90497333, 90497334, 90497335,\n",
       "       90497336, 90497337, 90497338, 90497339])"
      ]
     },
     "execution_count": 181,
     "metadata": {},
     "output_type": "execute_result"
    }
   ],
   "source": [
    "submpb['SubhaloID'][:]"
   ]
  },
  {
   "cell_type": "code",
   "execution_count": 179,
   "id": "greater-monthly",
   "metadata": {},
   "outputs": [
    {
     "data": {
      "text/plain": [
       "array([90497241, 90497242, 90497243, 90497244, 90497245, 90497246,\n",
       "       90497247, 90497248, 90497249, 90497250, 90497251, 90497252,\n",
       "       90497253, 90497254, 90497255, 90497256, 90497257, 90497258,\n",
       "       90497259, 90497260, 90497261, 90497262, 90497263, 90497264,\n",
       "       90497265, 90497266, 90497267, 90497268, 90497269, 90497270,\n",
       "       90497271, 90497272, 90497273, 90497274, 90497275, 90497276,\n",
       "       90497277, 90497278, 90497279, 90497280, 90497281, 90497282,\n",
       "       90497283, 90497284, 90497285, 90497286, 90497287, 90497288,\n",
       "       90497289, 90497290, 90497291, 90497292, 90497293, 90497294,\n",
       "       90497295, 90497296, 90497297, 90497298, 90497299, 90497300,\n",
       "       90497301, 90497302, 90497303, 90497304, 90497305, 90497306,\n",
       "       90497307, 90497308, 90497309, 90497310, 90497311, 90497312,\n",
       "       90497313, 90497314, 90497315, 90497316, 90497317, 90497318,\n",
       "       90497319, 90497320, 90497321, 90497322, 90497323, 90497324,\n",
       "       90497325, 90497326, 90497327, 90497328, 90497329, 90497330,\n",
       "       90497331, 90497332, 90497333, 90497334, 90497335, 90497336,\n",
       "       90497337, 90497338, 90497339,       -1])"
      ]
     },
     "execution_count": 179,
     "metadata": {},
     "output_type": "execute_result"
    }
   ],
   "source": [
    "submpb['FirstProgenitorID'][:]"
   ]
  },
  {
   "cell_type": "code",
   "execution_count": 171,
   "id": "piano-cycle",
   "metadata": {},
   "outputs": [
    {
     "data": {
      "text/plain": [
       "array([90497240, 90497241, 90497242, 90497243, 90497244, 90497245,\n",
       "       90497246, 90497247, 90497248, 90497249, 90497250, 90497251,\n",
       "       90497252, 90497253, 90497254, 90497255, 90497256, 90497257,\n",
       "       90497258, 90497259, 90497260, 90497261, 90497262, 90497263,\n",
       "       90497264, 90497265, 90497266, 90497267, 90497268, 90497269,\n",
       "       90497270, 90497271, 90497272, 90497273, 90497274, 90497275,\n",
       "       90497276, 90497277, 90497278, 90497279, 90497280, 90497281,\n",
       "       90497282, 90497283, 90497284, 90497285, 90497286, 90497287,\n",
       "       90497288, 90497289, 90497290, 90497291, 90497292, 90497293,\n",
       "       90497294, 90497295, 90497296, 90497297, 90497298, 90497299,\n",
       "       90497300, 90497301, 90497302, 90497303, 90497304, 90497305,\n",
       "       90497306, 90497307, 90497308, 90497309, 90497310, 90497311,\n",
       "       90497312, 90497313, 90497314, 90497315, 90497316, 90497317,\n",
       "       90497318, 90497319, 90497320, 90497321, 90497322, 90497323,\n",
       "       90497324, 90497325, 90497326, 90497327, 90497328, 90497329,\n",
       "       90497330, 90497331, 90497332, 90497333, 90497334, 90497335,\n",
       "       90497336, 90497337, 90497338, 90497339])"
      ]
     },
     "execution_count": 171,
     "metadata": {},
     "output_type": "execute_result"
    }
   ],
   "source": [
    "submpb['FirstSubhaloInFOFGroupID'][:]"
   ]
  },
  {
   "cell_type": "code",
   "execution_count": 145,
   "id": "operational-victory",
   "metadata": {},
   "outputs": [],
   "source": [
    "mpb = get_save(sub['trees']['lhalotree_mpb'], 'lhalotree_mpb')"
   ]
  },
  {
   "cell_type": "code",
   "execution_count": 146,
   "id": "super-resistance",
   "metadata": {},
   "outputs": [
    {
     "name": "stderr",
     "output_type": "stream",
     "text": [
      "/home/ehko/anaconda3/lib/python3.7/site-packages/ipykernel_launcher.py:1: H5pyDeprecationWarning: The default file mode will change to 'r' (read-only) in h5py 3.0. To suppress this warning, pass the mode you need to h5py.File(), or set the global default h5.get_config().default_file_mode, or set the environment variable H5PY_DEFAULT_READONLY=1. Available modes are: 'r', 'r+', 'w', 'w-'/'x', 'a'. See the docs for details.\n",
      "  \"\"\"Entry point for launching an IPython kernel.\n"
     ]
    }
   ],
   "source": [
    "mpb = h5py.File('lhalotree_mpb')"
   ]
  },
  {
   "cell_type": "code",
   "execution_count": 190,
   "id": "ambient-preference",
   "metadata": {},
   "outputs": [
    {
     "data": {
      "text/plain": [
       "<KeysViewHDF5 ['Descendant', 'FileNr', 'FirstHaloInFOFGroup', 'FirstProgenitor', 'GroupCM', 'GroupMassType', 'Group_M_Crit200', 'Group_M_Crit500', 'Group_M_Mean200', 'Group_M_TopHat200', 'Group_R_Crit200', 'Group_R_Crit500', 'Group_R_Mean200', 'Group_R_TopHat200', 'NextHaloInFOFGroup', 'NextProgenitor', 'SnapNum', 'SubhaloBHMass', 'SubhaloBHMdot', 'SubhaloGasMetalFractions', 'SubhaloGasMetalFractionsSfr', 'SubhaloGasMetallicity', 'SubhaloGasMetallicitySfr', 'SubhaloGrNr', 'SubhaloHalfmassRad', 'SubhaloHalfmassRadType', 'SubhaloIDMostBound', 'SubhaloLen', 'SubhaloLenType', 'SubhaloMassInRadType', 'SubhaloMassType', 'SubhaloNumber', 'SubhaloOffsetType', 'SubhaloPos', 'SubhaloSFR', 'SubhaloSFRinRad', 'SubhaloSpin', 'SubhaloStarMetalFractions', 'SubhaloStarMetallicity', 'SubhaloStellarPhotometrics', 'SubhaloVMax', 'SubhaloVel', 'SubhaloVelDisp']>"
      ]
     },
     "execution_count": 190,
     "metadata": {},
     "output_type": "execute_result"
    }
   ],
   "source": [
    "mpb.keys()"
   ]
  },
  {
   "cell_type": "code",
   "execution_count": 189,
   "id": "critical-vampire",
   "metadata": {},
   "outputs": [
    {
     "data": {
      "text/plain": [
       "array([99, 98, 97, 96, 95, 94, 93, 92, 91, 90, 89, 88, 87, 86, 85, 84, 83,\n",
       "       82, 81, 80, 79, 78, 77, 76, 75, 74, 73, 72, 71, 70, 69, 68, 67, 66,\n",
       "       65, 64, 63, 62, 61, 60, 59, 58, 57, 56, 55, 54, 53, 52, 51, 50, 49,\n",
       "       48, 47, 46, 45, 44, 43, 42, 41, 40, 39, 38, 37, 36, 35, 34, 33, 32,\n",
       "       31, 30, 29, 28, 27, 26, 25, 24, 23, 22, 21, 20, 19, 18, 17, 16, 15,\n",
       "       14, 13, 12, 11, 10,  9,  8,  7,  6,  5,  4,  3,  2,  1,  0],\n",
       "      dtype=int32)"
      ]
     },
     "execution_count": 189,
     "metadata": {},
     "output_type": "execute_result"
    }
   ],
   "source": [
    "mpb['SnapNum'][:]"
   ]
  },
  {
   "cell_type": "code",
   "execution_count": 158,
   "id": "coastal-desire",
   "metadata": {},
   "outputs": [
    {
     "data": {
      "text/plain": [
       "array([    0,     0,     0,     0,     0,     0,     0,     0,     0,\n",
       "           0,     0,     0,     0,     0,     0,     0,     0,     0,\n",
       "           0,     0,     0,     0,     0,     0,     0,     0,     0,\n",
       "           0,     0,     0,     0,     0,     0,     0,     0,     0,\n",
       "           0,     0,     0,     0,     0,     0,     0,     0,     0,\n",
       "           0,     0,     0,     0,     0,     0,     0,     0, 15511,\n",
       "       15404, 15624, 15693, 15268, 15472, 15216, 15220, 15195,  9247,\n",
       "        8857,  8266, 15343,  8068, 14355, 13700, 13673, 13021,  9440,\n",
       "       10323,  8987,  3769,  3258,  5996,  4230,  3857,  3618,  3738,\n",
       "        2918,  3119,  1836,  4458,  4301,  4308,  3400,  2314,  2120,\n",
       "        2014,  1470,  1393,  1317,  1329,  3971,  6134,  4334,  3853,\n",
       "        1171], dtype=int32)"
      ]
     },
     "execution_count": 158,
     "metadata": {},
     "output_type": "execute_result"
    }
   ],
   "source": [
    "mpb['SubhaloNumber'][:]"
   ]
  },
  {
   "cell_type": "code",
   "execution_count": 126,
   "id": "controlling-transformation",
   "metadata": {},
   "outputs": [],
   "source": [
    "temp = get(sub['trees']['sublink_simple']) #Main, Merger"
   ]
  },
  {
   "cell_type": "code",
   "execution_count": 140,
   "id": "eastern-solution",
   "metadata": {
    "scrolled": true
   },
   "outputs": [],
   "source": [
    "temp2 = np.array(temp['Mergers'])"
   ]
  },
  {
   "cell_type": "code",
   "execution_count": 175,
   "id": "mobile-convenience",
   "metadata": {},
   "outputs": [
    {
     "data": {
      "text/plain": [
       "array([], shape=(0, 2), dtype=int64)"
      ]
     },
     "execution_count": 175,
     "metadata": {},
     "output_type": "execute_result"
    }
   ],
   "source": [
    "temp2[(temp2[:, 0] == 98) & (temp2[:, 1] == 0)]"
   ]
  },
  {
   "cell_type": "code",
   "execution_count": null,
   "id": "sexual-reading",
   "metadata": {},
   "outputs": [],
   "source": [
    "for i in range(100)\n",
    "\n",
    "    # request the full subhalo details of the descendant by following the sublink URL\n",
    "    sub = get(sub['related']['sublink_projenitor'])"
   ]
  },
  {
   "cell_type": "code",
   "execution_count": null,
   "id": "changing-soviet",
   "metadata": {},
   "outputs": [],
   "source": [
    "#find halos whose masses are greater than 14.\n",
    "# link the halos in the direction of redshift\n",
    "# check gas, star-forming galxy distribution\n",
    "\n",
    "#reference: IllustriTNG-50 page"
   ]
  }
 ],
 "metadata": {
  "kernelspec": {
   "display_name": "Python 3",
   "language": "python",
   "name": "python3"
  },
  "language_info": {
   "codemirror_mode": {
    "name": "ipython",
    "version": 3
   },
   "file_extension": ".py",
   "mimetype": "text/x-python",
   "name": "python",
   "nbconvert_exporter": "python",
   "pygments_lexer": "ipython3",
   "version": "3.7.10"
  },
  "varInspector": {
   "cols": {
    "lenName": 16,
    "lenType": 16,
    "lenVar": 40
   },
   "kernels_config": {
    "python": {
     "delete_cmd_postfix": "",
     "delete_cmd_prefix": "del ",
     "library": "var_list.py",
     "varRefreshCmd": "print(var_dic_list())"
    },
    "r": {
     "delete_cmd_postfix": ") ",
     "delete_cmd_prefix": "rm(",
     "library": "var_list.r",
     "varRefreshCmd": "cat(var_dic_list()) "
    }
   },
   "types_to_exclude": [
    "module",
    "function",
    "builtin_function_or_method",
    "instance",
    "_Feature"
   ],
   "window_display": false
  }
 },
 "nbformat": 4,
 "nbformat_minor": 5
}
