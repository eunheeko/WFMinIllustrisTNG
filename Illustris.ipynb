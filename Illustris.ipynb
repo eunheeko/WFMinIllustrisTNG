{
 "cells": [
  {
   "cell_type": "code",
   "execution_count": 89,
   "id": "romance-store",
   "metadata": {},
   "outputs": [],
   "source": [
    "import requests\n",
    "import tqdm\n",
    "import h5py"
   ]
  },
  {
   "cell_type": "code",
   "execution_count": 2,
   "id": "conditional-bermuda",
   "metadata": {},
   "outputs": [],
   "source": [
    "baseUrl = 'http://www.tng-project.org/api/'\n",
    "headers = {\"api-key\":\"f96eabbae6f336408a63f875f8cce22f\"}"
   ]
  },
  {
   "cell_type": "code",
   "execution_count": 3,
   "id": "neutral-fighter",
   "metadata": {},
   "outputs": [],
   "source": [
    "def get(path, params=None):\n",
    "    # make HTTP GET request to path\n",
    "    r = requests.get(path, params=params, headers=headers)\n",
    "\n",
    "    # raise exception if response code is not HTTP SUCCESS (200)\n",
    "    r.raise_for_status()\n",
    "\n",
    "    if r.headers['content-type'] == 'application/json':\n",
    "        return r.json() # parse json responses automatically\n",
    "    return r"
   ]
  },
  {
   "cell_type": "code",
   "execution_count": 4,
   "id": "optical-imaging",
   "metadata": {},
   "outputs": [],
   "source": [
    "r = get(baseUrl)"
   ]
  },
  {
   "cell_type": "code",
   "execution_count": 17,
   "id": "center-dispute",
   "metadata": {
    "scrolled": true
   },
   "outputs": [
    {
     "name": "stdout",
     "output_type": "stream",
     "text": [
      "18\n"
     ]
    }
   ],
   "source": [
    "names = [sim['name'] for sim in r['simulations']]\n",
    "print(names.index('TNG50-1'))"
   ]
  },
  {
   "cell_type": "code",
   "execution_count": 18,
   "id": "yellow-shopper",
   "metadata": {},
   "outputs": [],
   "source": [
    "sim = get(r['simulations'][18]['url'])"
   ]
  },
  {
   "cell_type": "code",
   "execution_count": 62,
   "id": "synthetic-digest",
   "metadata": {},
   "outputs": [
    {
     "data": {
      "text/plain": [
       "dict_keys(['name', 'description', 'name_alt', 'boxsize', 'z_start', 'z_final', 'cosmology', 'omega_0', 'omega_L', 'omega_B', 'hubble', 'physics_model', 'has_cooling', 'has_starformation', 'has_winds', 'has_blackholes', 'mass_gas', 'mass_dm', 'softening_dm_comoving', 'softening_stars_comoving', 'softening_blackholes_comoving', 'softening_gas_comoving', 'softening_dm_max_phys', 'softening_stars_max_phys', 'softening_blackholes_max_phys', 'softening_gas_max_phys', 'softening_gas_factor', 'softening_gas_comoving_min', 'num_dm', 'num_tr_mc', 'num_tr_vel', 'longids', 'is_uniform', 'is_zoom', 'is_subbox', 'num_files_snapshot', 'num_files_groupcat', 'num_files_rockstar', 'num_files_lhalotree', 'num_files_sublink', 'num_files_ctrees', 'filesize_lhalotree', 'filesize_sublink', 'filesize_ctrees', 'filesize_ics', 'filesize_simulation', 'has_fof', 'has_subfind', 'has_rockstar', 'has_lhalotree', 'has_sublink', 'has_ctrees', 'permission_required', 'num_snapshots', 'url', 'parent_simulation', 'child_simulations', 'files', 'checksums', 'snapshots'])"
      ]
     },
     "execution_count": 62,
     "metadata": {},
     "output_type": "execute_result"
    }
   ],
   "source": [
    "sim.keys()"
   ]
  },
  {
   "cell_type": "code",
   "execution_count": 61,
   "id": "frozen-briefs",
   "metadata": {},
   "outputs": [
    {
     "data": {
      "text/plain": [
       "{'lhalotree': 'http://www.tng-project.org/api/TNG50-1/files/lhalotree/',\n",
       " 'sublink': 'http://www.tng-project.org/api/TNG50-1/files/sublink/',\n",
       " 'offsets': 'http://www.tng-project.org/api/TNG50-1/files/offsets/',\n",
       " 'ics': 'http://www.tng-project.org/api/TNG50-1/files/ics.hdf5',\n",
       " 'simulation': 'http://www.tng-project.org/api/TNG50-1/files/simulation.hdf5',\n",
       " 'stellar_circs': 'http://www.tng-project.org/api/TNG50-1/files/stellar_circs.hdf5',\n",
       " 'subhalo_matching_to_dark': 'http://www.tng-project.org/api/TNG50-1/files/subhalo_matching_to_dark.hdf5',\n",
       " 'blackhole_mergers': 'http://www.tng-project.org/api/TNG50-1/files/blackhole_mergers.hdf5',\n",
       " 'blackhole_details': 'http://www.tng-project.org/api/TNG50-1/files/blackhole_details.hdf5',\n",
       " 'stellar_assembly': 'http://www.tng-project.org/api/TNG50-1/files/stellar_assembly.hdf5',\n",
       " 'subbox_subhalo_list_0': 'http://www.tng-project.org/api/TNG50-1/files/subbox_subhalo_list.0.hdf5',\n",
       " 'subbox_subhalo_list_1': 'http://www.tng-project.org/api/TNG50-1/files/subbox_subhalo_list.1.hdf5',\n",
       " 'subbox_subhalo_list_2': 'http://www.tng-project.org/api/TNG50-1/files/subbox_subhalo_list.2.hdf5',\n",
       " 'star_formation_rates': 'http://www.tng-project.org/api/TNG50-1/files/star_formation_rates.hdf5',\n",
       " 'aperture_masses': 'http://www.tng-project.org/api/TNG50-1/files/aperture_masses.hdf5',\n",
       " 'morphologies_deeplearn': 'http://www.tng-project.org/api/TNG50-1/files/morphologies_deeplearn.hdf5',\n",
       " 'halo_structure': 'http://www.tng-project.org/api/TNG50-1/files/halo_structure/',\n",
       " 'hih2_galaxy': 'http://www.tng-project.org/api/TNG50-1/files/hih2_galaxy/',\n",
       " 'stellar_sizes': 'http://www.tng-project.org/api/TNG50-1/files/stellar_sizes/',\n",
       " 'kinematic_decomposition': 'http://www.tng-project.org/api/TNG50-1/files/kinematic_decomposition/'}"
      ]
     },
     "execution_count": 61,
     "metadata": {},
     "output_type": "execute_result"
    }
   ],
   "source": [
    "sim['files']"
   ]
  },
  {
   "cell_type": "code",
   "execution_count": 63,
   "id": "warming-explorer",
   "metadata": {},
   "outputs": [],
   "source": [
    "snaps = get(sim['snapshots'])"
   ]
  },
  {
   "cell_type": "code",
   "execution_count": 66,
   "id": "placed-recommendation",
   "metadata": {
    "scrolled": true
   },
   "outputs": [],
   "source": [
    "snap = get(snaps[-1]['url'])"
   ]
  },
  {
   "cell_type": "code",
   "execution_count": 67,
   "id": "conceptual-founder",
   "metadata": {},
   "outputs": [
    {
     "data": {
      "text/plain": [
       "{'simulation': 'http://www.tng-project.org/api/TNG50-1/',\n",
       " 'number': 99,\n",
       " 'redshift': 2.22044604925031e-16,\n",
       " 'num_gas': 8737803526,\n",
       " 'num_dm': 10077696000,\n",
       " 'num_trmc': 10077696000,\n",
       " 'num_stars': 1289575331,\n",
       " 'num_bhs': 4055,\n",
       " 'num_groups_fof': 10247012,\n",
       " 'num_groups_subfind': 5688113,\n",
       " 'num_groups_rockstar': 0,\n",
       " 'filesize_snapshot': 2921762412696.0,\n",
       " 'filesize_groupcat': 6321263889.0,\n",
       " 'filesize_rockstar': 0.0,\n",
       " 'url': 'http://www.tng-project.org/api/TNG50-1/snapshots/99/',\n",
       " 'subhalos': 'http://www.tng-project.org/api/TNG50-1/snapshots/99/subhalos/',\n",
       " 'vis': {'groupcat_sfms': 'http://www.tng-project.org/api/TNG50-1/snapshots/99/subhalos/plot.png?xQuant=mstar2_log&yQuant=ssfr&xlim=9.0%2C11.0',\n",
       "  'groupcat_sizemass': 'http://www.tng-project.org/api/TNG50-1/snapshots/99/subhalos/plot.png?xQuant=mstar2_log&yQuant=size_stars',\n",
       "  'groupcat_mz_gas': 'http://www.tng-project.org/api/TNG50-1/snapshots/99/subhalos/plot.png?xQuant=mstar2_log&yQuant=Z_gas',\n",
       "  'groupcat_mz_stars': 'http://www.tng-project.org/api/TNG50-1/snapshots/99/subhalos/plot.png?xQuant=mstar2_log&yQuant=Z_stars',\n",
       "  'groupcat_mstar_mhalo': 'http://www.tng-project.org/api/TNG50-1/snapshots/99/subhalos/plot.png?xQuant=mhalo_200_log&yQuant=mstar2_log',\n",
       "  'groupcat_smhm': 'http://www.tng-project.org/api/TNG50-1/snapshots/99/subhalos/plot.png?xQuant=mhalo_200_log&yQuant=mstar2_mhalo200_ratio&xlim=10.0%2C14.5',\n",
       "  'groupcat_halo_sizemass': 'http://www.tng-project.org/api/TNG50-1/snapshots/99/subhalos/plot.png?xQuant=mhalo_200_log&yQuant=rhalo_200&xlim=9.0%2C15.0',\n",
       "  'groupcat_fmr': 'http://www.tng-project.org/api/TNG50-1/snapshots/99/subhalos/plot.png?xQuant=mstar2_log&yQuant=delta_sfms&cQuant=Z_gas&xlim=8.5%2C11.0&ylim=-1.5%2C1.5&cRel=0.7%2C1.3'},\n",
       " 'files': {'snapshot': 'http://www.tng-project.org/api/TNG50-1/files/snapshot-99/',\n",
       "  'groupcat': 'http://www.tng-project.org/api/TNG50-1/files/groupcat-99/'}}"
      ]
     },
     "execution_count": 67,
     "metadata": {},
     "output_type": "execute_result"
    }
   ],
   "source": [
    "snap"
   ]
  },
  {
   "cell_type": "code",
   "execution_count": 76,
   "id": "powerful-geography",
   "metadata": {
    "scrolled": true
   },
   "outputs": [
    {
     "data": {
      "text/plain": [
       "'http://www.tng-project.org/api/TNG50-1/files/groupcat-99/'"
      ]
     },
     "execution_count": 76,
     "metadata": {},
     "output_type": "execute_result"
    }
   ],
   "source": [
    "snap['files']['groupcat']"
   ]
  },
  {
   "cell_type": "code",
   "execution_count": 71,
   "id": "double-lighting",
   "metadata": {},
   "outputs": [],
   "source": [
    "groupcat = get(snap['files']['groupcat'])"
   ]
  },
  {
   "cell_type": "code",
   "execution_count": 73,
   "id": "eligible-klein",
   "metadata": {},
   "outputs": [
    {
     "data": {
      "text/plain": [
       "dict_keys(['files'])"
      ]
     },
     "execution_count": 73,
     "metadata": {},
     "output_type": "execute_result"
    }
   ],
   "source": [
    "groupcat.keys()"
   ]
  },
  {
   "cell_type": "code",
   "execution_count": 90,
   "id": "trained-handling",
   "metadata": {},
   "outputs": [
    {
     "data": {
      "text/plain": [
       "['http://www.tng-project.org/api/TNG50-1/files/groupcat-99.0.hdf5',\n",
       " 'http://www.tng-project.org/api/TNG50-1/files/groupcat-99.1.hdf5',\n",
       " 'http://www.tng-project.org/api/TNG50-1/files/groupcat-99.2.hdf5',\n",
       " 'http://www.tng-project.org/api/TNG50-1/files/groupcat-99.3.hdf5',\n",
       " 'http://www.tng-project.org/api/TNG50-1/files/groupcat-99.4.hdf5',\n",
       " 'http://www.tng-project.org/api/TNG50-1/files/groupcat-99.5.hdf5',\n",
       " 'http://www.tng-project.org/api/TNG50-1/files/groupcat-99.6.hdf5',\n",
       " 'http://www.tng-project.org/api/TNG50-1/files/groupcat-99.7.hdf5',\n",
       " 'http://www.tng-project.org/api/TNG50-1/files/groupcat-99.8.hdf5',\n",
       " 'http://www.tng-project.org/api/TNG50-1/files/groupcat-99.9.hdf5',\n",
       " 'http://www.tng-project.org/api/TNG50-1/files/groupcat-99.10.hdf5',\n",
       " 'http://www.tng-project.org/api/TNG50-1/files/groupcat-99.11.hdf5',\n",
       " 'http://www.tng-project.org/api/TNG50-1/files/groupcat-99.12.hdf5',\n",
       " 'http://www.tng-project.org/api/TNG50-1/files/groupcat-99.13.hdf5',\n",
       " 'http://www.tng-project.org/api/TNG50-1/files/groupcat-99.14.hdf5',\n",
       " 'http://www.tng-project.org/api/TNG50-1/files/groupcat-99.15.hdf5',\n",
       " 'http://www.tng-project.org/api/TNG50-1/files/groupcat-99.16.hdf5',\n",
       " 'http://www.tng-project.org/api/TNG50-1/files/groupcat-99.17.hdf5',\n",
       " 'http://www.tng-project.org/api/TNG50-1/files/groupcat-99.18.hdf5',\n",
       " 'http://www.tng-project.org/api/TNG50-1/files/groupcat-99.19.hdf5',\n",
       " 'http://www.tng-project.org/api/TNG50-1/files/groupcat-99.20.hdf5',\n",
       " 'http://www.tng-project.org/api/TNG50-1/files/groupcat-99.21.hdf5',\n",
       " 'http://www.tng-project.org/api/TNG50-1/files/groupcat-99.22.hdf5',\n",
       " 'http://www.tng-project.org/api/TNG50-1/files/groupcat-99.23.hdf5',\n",
       " 'http://www.tng-project.org/api/TNG50-1/files/groupcat-99.24.hdf5',\n",
       " 'http://www.tng-project.org/api/TNG50-1/files/groupcat-99.25.hdf5',\n",
       " 'http://www.tng-project.org/api/TNG50-1/files/groupcat-99.26.hdf5',\n",
       " 'http://www.tng-project.org/api/TNG50-1/files/groupcat-99.27.hdf5',\n",
       " 'http://www.tng-project.org/api/TNG50-1/files/groupcat-99.28.hdf5',\n",
       " 'http://www.tng-project.org/api/TNG50-1/files/groupcat-99.29.hdf5',\n",
       " 'http://www.tng-project.org/api/TNG50-1/files/groupcat-99.30.hdf5',\n",
       " 'http://www.tng-project.org/api/TNG50-1/files/groupcat-99.31.hdf5',\n",
       " 'http://www.tng-project.org/api/TNG50-1/files/groupcat-99.32.hdf5',\n",
       " 'http://www.tng-project.org/api/TNG50-1/files/groupcat-99.33.hdf5',\n",
       " 'http://www.tng-project.org/api/TNG50-1/files/groupcat-99.34.hdf5',\n",
       " 'http://www.tng-project.org/api/TNG50-1/files/groupcat-99.35.hdf5',\n",
       " 'http://www.tng-project.org/api/TNG50-1/files/groupcat-99.36.hdf5',\n",
       " 'http://www.tng-project.org/api/TNG50-1/files/groupcat-99.37.hdf5',\n",
       " 'http://www.tng-project.org/api/TNG50-1/files/groupcat-99.38.hdf5',\n",
       " 'http://www.tng-project.org/api/TNG50-1/files/groupcat-99.39.hdf5',\n",
       " 'http://www.tng-project.org/api/TNG50-1/files/groupcat-99.40.hdf5',\n",
       " 'http://www.tng-project.org/api/TNG50-1/files/groupcat-99.41.hdf5',\n",
       " 'http://www.tng-project.org/api/TNG50-1/files/groupcat-99.42.hdf5',\n",
       " 'http://www.tng-project.org/api/TNG50-1/files/groupcat-99.43.hdf5',\n",
       " 'http://www.tng-project.org/api/TNG50-1/files/groupcat-99.44.hdf5',\n",
       " 'http://www.tng-project.org/api/TNG50-1/files/groupcat-99.45.hdf5',\n",
       " 'http://www.tng-project.org/api/TNG50-1/files/groupcat-99.46.hdf5',\n",
       " 'http://www.tng-project.org/api/TNG50-1/files/groupcat-99.47.hdf5',\n",
       " 'http://www.tng-project.org/api/TNG50-1/files/groupcat-99.48.hdf5',\n",
       " 'http://www.tng-project.org/api/TNG50-1/files/groupcat-99.49.hdf5',\n",
       " 'http://www.tng-project.org/api/TNG50-1/files/groupcat-99.50.hdf5',\n",
       " 'http://www.tng-project.org/api/TNG50-1/files/groupcat-99.51.hdf5',\n",
       " 'http://www.tng-project.org/api/TNG50-1/files/groupcat-99.52.hdf5',\n",
       " 'http://www.tng-project.org/api/TNG50-1/files/groupcat-99.53.hdf5',\n",
       " 'http://www.tng-project.org/api/TNG50-1/files/groupcat-99.54.hdf5',\n",
       " 'http://www.tng-project.org/api/TNG50-1/files/groupcat-99.55.hdf5',\n",
       " 'http://www.tng-project.org/api/TNG50-1/files/groupcat-99.56.hdf5',\n",
       " 'http://www.tng-project.org/api/TNG50-1/files/groupcat-99.57.hdf5',\n",
       " 'http://www.tng-project.org/api/TNG50-1/files/groupcat-99.58.hdf5',\n",
       " 'http://www.tng-project.org/api/TNG50-1/files/groupcat-99.59.hdf5',\n",
       " 'http://www.tng-project.org/api/TNG50-1/files/groupcat-99.60.hdf5',\n",
       " 'http://www.tng-project.org/api/TNG50-1/files/groupcat-99.61.hdf5',\n",
       " 'http://www.tng-project.org/api/TNG50-1/files/groupcat-99.62.hdf5',\n",
       " 'http://www.tng-project.org/api/TNG50-1/files/groupcat-99.63.hdf5',\n",
       " 'http://www.tng-project.org/api/TNG50-1/files/groupcat-99.64.hdf5',\n",
       " 'http://www.tng-project.org/api/TNG50-1/files/groupcat-99.65.hdf5',\n",
       " 'http://www.tng-project.org/api/TNG50-1/files/groupcat-99.66.hdf5',\n",
       " 'http://www.tng-project.org/api/TNG50-1/files/groupcat-99.67.hdf5',\n",
       " 'http://www.tng-project.org/api/TNG50-1/files/groupcat-99.68.hdf5',\n",
       " 'http://www.tng-project.org/api/TNG50-1/files/groupcat-99.69.hdf5',\n",
       " 'http://www.tng-project.org/api/TNG50-1/files/groupcat-99.70.hdf5',\n",
       " 'http://www.tng-project.org/api/TNG50-1/files/groupcat-99.71.hdf5',\n",
       " 'http://www.tng-project.org/api/TNG50-1/files/groupcat-99.72.hdf5',\n",
       " 'http://www.tng-project.org/api/TNG50-1/files/groupcat-99.73.hdf5',\n",
       " 'http://www.tng-project.org/api/TNG50-1/files/groupcat-99.74.hdf5',\n",
       " 'http://www.tng-project.org/api/TNG50-1/files/groupcat-99.75.hdf5',\n",
       " 'http://www.tng-project.org/api/TNG50-1/files/groupcat-99.76.hdf5',\n",
       " 'http://www.tng-project.org/api/TNG50-1/files/groupcat-99.77.hdf5',\n",
       " 'http://www.tng-project.org/api/TNG50-1/files/groupcat-99.78.hdf5',\n",
       " 'http://www.tng-project.org/api/TNG50-1/files/groupcat-99.79.hdf5',\n",
       " 'http://www.tng-project.org/api/TNG50-1/files/groupcat-99.80.hdf5',\n",
       " 'http://www.tng-project.org/api/TNG50-1/files/groupcat-99.81.hdf5',\n",
       " 'http://www.tng-project.org/api/TNG50-1/files/groupcat-99.82.hdf5',\n",
       " 'http://www.tng-project.org/api/TNG50-1/files/groupcat-99.83.hdf5',\n",
       " 'http://www.tng-project.org/api/TNG50-1/files/groupcat-99.84.hdf5',\n",
       " 'http://www.tng-project.org/api/TNG50-1/files/groupcat-99.85.hdf5',\n",
       " 'http://www.tng-project.org/api/TNG50-1/files/groupcat-99.86.hdf5',\n",
       " 'http://www.tng-project.org/api/TNG50-1/files/groupcat-99.87.hdf5',\n",
       " 'http://www.tng-project.org/api/TNG50-1/files/groupcat-99.88.hdf5',\n",
       " 'http://www.tng-project.org/api/TNG50-1/files/groupcat-99.89.hdf5',\n",
       " 'http://www.tng-project.org/api/TNG50-1/files/groupcat-99.90.hdf5',\n",
       " 'http://www.tng-project.org/api/TNG50-1/files/groupcat-99.91.hdf5',\n",
       " 'http://www.tng-project.org/api/TNG50-1/files/groupcat-99.92.hdf5',\n",
       " 'http://www.tng-project.org/api/TNG50-1/files/groupcat-99.93.hdf5',\n",
       " 'http://www.tng-project.org/api/TNG50-1/files/groupcat-99.94.hdf5',\n",
       " 'http://www.tng-project.org/api/TNG50-1/files/groupcat-99.95.hdf5',\n",
       " 'http://www.tng-project.org/api/TNG50-1/files/groupcat-99.96.hdf5',\n",
       " 'http://www.tng-project.org/api/TNG50-1/files/groupcat-99.97.hdf5',\n",
       " 'http://www.tng-project.org/api/TNG50-1/files/groupcat-99.98.hdf5',\n",
       " 'http://www.tng-project.org/api/TNG50-1/files/groupcat-99.99.hdf5',\n",
       " 'http://www.tng-project.org/api/TNG50-1/files/groupcat-99.100.hdf5',\n",
       " 'http://www.tng-project.org/api/TNG50-1/files/groupcat-99.101.hdf5',\n",
       " 'http://www.tng-project.org/api/TNG50-1/files/groupcat-99.102.hdf5',\n",
       " 'http://www.tng-project.org/api/TNG50-1/files/groupcat-99.103.hdf5',\n",
       " 'http://www.tng-project.org/api/TNG50-1/files/groupcat-99.104.hdf5',\n",
       " 'http://www.tng-project.org/api/TNG50-1/files/groupcat-99.105.hdf5',\n",
       " 'http://www.tng-project.org/api/TNG50-1/files/groupcat-99.106.hdf5',\n",
       " 'http://www.tng-project.org/api/TNG50-1/files/groupcat-99.107.hdf5',\n",
       " 'http://www.tng-project.org/api/TNG50-1/files/groupcat-99.108.hdf5',\n",
       " 'http://www.tng-project.org/api/TNG50-1/files/groupcat-99.109.hdf5',\n",
       " 'http://www.tng-project.org/api/TNG50-1/files/groupcat-99.110.hdf5',\n",
       " 'http://www.tng-project.org/api/TNG50-1/files/groupcat-99.111.hdf5',\n",
       " 'http://www.tng-project.org/api/TNG50-1/files/groupcat-99.112.hdf5',\n",
       " 'http://www.tng-project.org/api/TNG50-1/files/groupcat-99.113.hdf5',\n",
       " 'http://www.tng-project.org/api/TNG50-1/files/groupcat-99.114.hdf5',\n",
       " 'http://www.tng-project.org/api/TNG50-1/files/groupcat-99.115.hdf5',\n",
       " 'http://www.tng-project.org/api/TNG50-1/files/groupcat-99.116.hdf5',\n",
       " 'http://www.tng-project.org/api/TNG50-1/files/groupcat-99.117.hdf5',\n",
       " 'http://www.tng-project.org/api/TNG50-1/files/groupcat-99.118.hdf5',\n",
       " 'http://www.tng-project.org/api/TNG50-1/files/groupcat-99.119.hdf5',\n",
       " 'http://www.tng-project.org/api/TNG50-1/files/groupcat-99.120.hdf5',\n",
       " 'http://www.tng-project.org/api/TNG50-1/files/groupcat-99.121.hdf5',\n",
       " 'http://www.tng-project.org/api/TNG50-1/files/groupcat-99.122.hdf5',\n",
       " 'http://www.tng-project.org/api/TNG50-1/files/groupcat-99.123.hdf5',\n",
       " 'http://www.tng-project.org/api/TNG50-1/files/groupcat-99.124.hdf5',\n",
       " 'http://www.tng-project.org/api/TNG50-1/files/groupcat-99.125.hdf5',\n",
       " 'http://www.tng-project.org/api/TNG50-1/files/groupcat-99.126.hdf5',\n",
       " 'http://www.tng-project.org/api/TNG50-1/files/groupcat-99.127.hdf5',\n",
       " 'http://www.tng-project.org/api/TNG50-1/files/groupcat-99.128.hdf5',\n",
       " 'http://www.tng-project.org/api/TNG50-1/files/groupcat-99.129.hdf5',\n",
       " 'http://www.tng-project.org/api/TNG50-1/files/groupcat-99.130.hdf5',\n",
       " 'http://www.tng-project.org/api/TNG50-1/files/groupcat-99.131.hdf5',\n",
       " 'http://www.tng-project.org/api/TNG50-1/files/groupcat-99.132.hdf5',\n",
       " 'http://www.tng-project.org/api/TNG50-1/files/groupcat-99.133.hdf5',\n",
       " 'http://www.tng-project.org/api/TNG50-1/files/groupcat-99.134.hdf5',\n",
       " 'http://www.tng-project.org/api/TNG50-1/files/groupcat-99.135.hdf5',\n",
       " 'http://www.tng-project.org/api/TNG50-1/files/groupcat-99.136.hdf5',\n",
       " 'http://www.tng-project.org/api/TNG50-1/files/groupcat-99.137.hdf5',\n",
       " 'http://www.tng-project.org/api/TNG50-1/files/groupcat-99.138.hdf5',\n",
       " 'http://www.tng-project.org/api/TNG50-1/files/groupcat-99.139.hdf5',\n",
       " 'http://www.tng-project.org/api/TNG50-1/files/groupcat-99.140.hdf5',\n",
       " 'http://www.tng-project.org/api/TNG50-1/files/groupcat-99.141.hdf5',\n",
       " 'http://www.tng-project.org/api/TNG50-1/files/groupcat-99.142.hdf5',\n",
       " 'http://www.tng-project.org/api/TNG50-1/files/groupcat-99.143.hdf5',\n",
       " 'http://www.tng-project.org/api/TNG50-1/files/groupcat-99.144.hdf5',\n",
       " 'http://www.tng-project.org/api/TNG50-1/files/groupcat-99.145.hdf5',\n",
       " 'http://www.tng-project.org/api/TNG50-1/files/groupcat-99.146.hdf5',\n",
       " 'http://www.tng-project.org/api/TNG50-1/files/groupcat-99.147.hdf5',\n",
       " 'http://www.tng-project.org/api/TNG50-1/files/groupcat-99.148.hdf5',\n",
       " 'http://www.tng-project.org/api/TNG50-1/files/groupcat-99.149.hdf5',\n",
       " 'http://www.tng-project.org/api/TNG50-1/files/groupcat-99.150.hdf5',\n",
       " 'http://www.tng-project.org/api/TNG50-1/files/groupcat-99.151.hdf5',\n",
       " 'http://www.tng-project.org/api/TNG50-1/files/groupcat-99.152.hdf5',\n",
       " 'http://www.tng-project.org/api/TNG50-1/files/groupcat-99.153.hdf5',\n",
       " 'http://www.tng-project.org/api/TNG50-1/files/groupcat-99.154.hdf5',\n",
       " 'http://www.tng-project.org/api/TNG50-1/files/groupcat-99.155.hdf5',\n",
       " 'http://www.tng-project.org/api/TNG50-1/files/groupcat-99.156.hdf5',\n",
       " 'http://www.tng-project.org/api/TNG50-1/files/groupcat-99.157.hdf5',\n",
       " 'http://www.tng-project.org/api/TNG50-1/files/groupcat-99.158.hdf5',\n",
       " 'http://www.tng-project.org/api/TNG50-1/files/groupcat-99.159.hdf5',\n",
       " 'http://www.tng-project.org/api/TNG50-1/files/groupcat-99.160.hdf5',\n",
       " 'http://www.tng-project.org/api/TNG50-1/files/groupcat-99.161.hdf5',\n",
       " 'http://www.tng-project.org/api/TNG50-1/files/groupcat-99.162.hdf5',\n",
       " 'http://www.tng-project.org/api/TNG50-1/files/groupcat-99.163.hdf5',\n",
       " 'http://www.tng-project.org/api/TNG50-1/files/groupcat-99.164.hdf5',\n",
       " 'http://www.tng-project.org/api/TNG50-1/files/groupcat-99.165.hdf5',\n",
       " 'http://www.tng-project.org/api/TNG50-1/files/groupcat-99.166.hdf5',\n",
       " 'http://www.tng-project.org/api/TNG50-1/files/groupcat-99.167.hdf5',\n",
       " 'http://www.tng-project.org/api/TNG50-1/files/groupcat-99.168.hdf5',\n",
       " 'http://www.tng-project.org/api/TNG50-1/files/groupcat-99.169.hdf5',\n",
       " 'http://www.tng-project.org/api/TNG50-1/files/groupcat-99.170.hdf5',\n",
       " 'http://www.tng-project.org/api/TNG50-1/files/groupcat-99.171.hdf5',\n",
       " 'http://www.tng-project.org/api/TNG50-1/files/groupcat-99.172.hdf5',\n",
       " 'http://www.tng-project.org/api/TNG50-1/files/groupcat-99.173.hdf5',\n",
       " 'http://www.tng-project.org/api/TNG50-1/files/groupcat-99.174.hdf5',\n",
       " 'http://www.tng-project.org/api/TNG50-1/files/groupcat-99.175.hdf5',\n",
       " 'http://www.tng-project.org/api/TNG50-1/files/groupcat-99.176.hdf5',\n",
       " 'http://www.tng-project.org/api/TNG50-1/files/groupcat-99.177.hdf5',\n",
       " 'http://www.tng-project.org/api/TNG50-1/files/groupcat-99.178.hdf5',\n",
       " 'http://www.tng-project.org/api/TNG50-1/files/groupcat-99.179.hdf5',\n",
       " 'http://www.tng-project.org/api/TNG50-1/files/groupcat-99.180.hdf5',\n",
       " 'http://www.tng-project.org/api/TNG50-1/files/groupcat-99.181.hdf5',\n",
       " 'http://www.tng-project.org/api/TNG50-1/files/groupcat-99.182.hdf5',\n",
       " 'http://www.tng-project.org/api/TNG50-1/files/groupcat-99.183.hdf5',\n",
       " 'http://www.tng-project.org/api/TNG50-1/files/groupcat-99.184.hdf5',\n",
       " 'http://www.tng-project.org/api/TNG50-1/files/groupcat-99.185.hdf5',\n",
       " 'http://www.tng-project.org/api/TNG50-1/files/groupcat-99.186.hdf5',\n",
       " 'http://www.tng-project.org/api/TNG50-1/files/groupcat-99.187.hdf5',\n",
       " 'http://www.tng-project.org/api/TNG50-1/files/groupcat-99.188.hdf5',\n",
       " 'http://www.tng-project.org/api/TNG50-1/files/groupcat-99.189.hdf5',\n",
       " 'http://www.tng-project.org/api/TNG50-1/files/groupcat-99.190.hdf5',\n",
       " 'http://www.tng-project.org/api/TNG50-1/files/groupcat-99.191.hdf5',\n",
       " 'http://www.tng-project.org/api/TNG50-1/files/groupcat-99.192.hdf5',\n",
       " 'http://www.tng-project.org/api/TNG50-1/files/groupcat-99.193.hdf5',\n",
       " 'http://www.tng-project.org/api/TNG50-1/files/groupcat-99.194.hdf5',\n",
       " 'http://www.tng-project.org/api/TNG50-1/files/groupcat-99.195.hdf5',\n",
       " 'http://www.tng-project.org/api/TNG50-1/files/groupcat-99.196.hdf5',\n",
       " 'http://www.tng-project.org/api/TNG50-1/files/groupcat-99.197.hdf5',\n",
       " 'http://www.tng-project.org/api/TNG50-1/files/groupcat-99.198.hdf5',\n",
       " 'http://www.tng-project.org/api/TNG50-1/files/groupcat-99.199.hdf5',\n",
       " 'http://www.tng-project.org/api/TNG50-1/files/groupcat-99.200.hdf5',\n",
       " 'http://www.tng-project.org/api/TNG50-1/files/groupcat-99.201.hdf5',\n",
       " 'http://www.tng-project.org/api/TNG50-1/files/groupcat-99.202.hdf5',\n",
       " 'http://www.tng-project.org/api/TNG50-1/files/groupcat-99.203.hdf5',\n",
       " 'http://www.tng-project.org/api/TNG50-1/files/groupcat-99.204.hdf5',\n",
       " 'http://www.tng-project.org/api/TNG50-1/files/groupcat-99.205.hdf5',\n",
       " 'http://www.tng-project.org/api/TNG50-1/files/groupcat-99.206.hdf5',\n",
       " 'http://www.tng-project.org/api/TNG50-1/files/groupcat-99.207.hdf5',\n",
       " 'http://www.tng-project.org/api/TNG50-1/files/groupcat-99.208.hdf5',\n",
       " 'http://www.tng-project.org/api/TNG50-1/files/groupcat-99.209.hdf5',\n",
       " 'http://www.tng-project.org/api/TNG50-1/files/groupcat-99.210.hdf5',\n",
       " 'http://www.tng-project.org/api/TNG50-1/files/groupcat-99.211.hdf5',\n",
       " 'http://www.tng-project.org/api/TNG50-1/files/groupcat-99.212.hdf5',\n",
       " 'http://www.tng-project.org/api/TNG50-1/files/groupcat-99.213.hdf5',\n",
       " 'http://www.tng-project.org/api/TNG50-1/files/groupcat-99.214.hdf5',\n",
       " 'http://www.tng-project.org/api/TNG50-1/files/groupcat-99.215.hdf5',\n",
       " 'http://www.tng-project.org/api/TNG50-1/files/groupcat-99.216.hdf5',\n",
       " 'http://www.tng-project.org/api/TNG50-1/files/groupcat-99.217.hdf5',\n",
       " 'http://www.tng-project.org/api/TNG50-1/files/groupcat-99.218.hdf5',\n",
       " 'http://www.tng-project.org/api/TNG50-1/files/groupcat-99.219.hdf5',\n",
       " 'http://www.tng-project.org/api/TNG50-1/files/groupcat-99.220.hdf5',\n",
       " 'http://www.tng-project.org/api/TNG50-1/files/groupcat-99.221.hdf5',\n",
       " 'http://www.tng-project.org/api/TNG50-1/files/groupcat-99.222.hdf5',\n",
       " 'http://www.tng-project.org/api/TNG50-1/files/groupcat-99.223.hdf5',\n",
       " 'http://www.tng-project.org/api/TNG50-1/files/groupcat-99.224.hdf5',\n",
       " 'http://www.tng-project.org/api/TNG50-1/files/groupcat-99.225.hdf5',\n",
       " 'http://www.tng-project.org/api/TNG50-1/files/groupcat-99.226.hdf5',\n",
       " 'http://www.tng-project.org/api/TNG50-1/files/groupcat-99.227.hdf5',\n",
       " 'http://www.tng-project.org/api/TNG50-1/files/groupcat-99.228.hdf5',\n",
       " 'http://www.tng-project.org/api/TNG50-1/files/groupcat-99.229.hdf5',\n",
       " 'http://www.tng-project.org/api/TNG50-1/files/groupcat-99.230.hdf5',\n",
       " 'http://www.tng-project.org/api/TNG50-1/files/groupcat-99.231.hdf5',\n",
       " 'http://www.tng-project.org/api/TNG50-1/files/groupcat-99.232.hdf5',\n",
       " 'http://www.tng-project.org/api/TNG50-1/files/groupcat-99.233.hdf5',\n",
       " 'http://www.tng-project.org/api/TNG50-1/files/groupcat-99.234.hdf5',\n",
       " 'http://www.tng-project.org/api/TNG50-1/files/groupcat-99.235.hdf5',\n",
       " 'http://www.tng-project.org/api/TNG50-1/files/groupcat-99.236.hdf5',\n",
       " 'http://www.tng-project.org/api/TNG50-1/files/groupcat-99.237.hdf5',\n",
       " 'http://www.tng-project.org/api/TNG50-1/files/groupcat-99.238.hdf5',\n",
       " 'http://www.tng-project.org/api/TNG50-1/files/groupcat-99.239.hdf5',\n",
       " 'http://www.tng-project.org/api/TNG50-1/files/groupcat-99.240.hdf5',\n",
       " 'http://www.tng-project.org/api/TNG50-1/files/groupcat-99.241.hdf5',\n",
       " 'http://www.tng-project.org/api/TNG50-1/files/groupcat-99.242.hdf5',\n",
       " 'http://www.tng-project.org/api/TNG50-1/files/groupcat-99.243.hdf5',\n",
       " 'http://www.tng-project.org/api/TNG50-1/files/groupcat-99.244.hdf5',\n",
       " 'http://www.tng-project.org/api/TNG50-1/files/groupcat-99.245.hdf5',\n",
       " 'http://www.tng-project.org/api/TNG50-1/files/groupcat-99.246.hdf5',\n",
       " 'http://www.tng-project.org/api/TNG50-1/files/groupcat-99.247.hdf5',\n",
       " 'http://www.tng-project.org/api/TNG50-1/files/groupcat-99.248.hdf5',\n",
       " 'http://www.tng-project.org/api/TNG50-1/files/groupcat-99.249.hdf5',\n",
       " 'http://www.tng-project.org/api/TNG50-1/files/groupcat-99.250.hdf5',\n",
       " 'http://www.tng-project.org/api/TNG50-1/files/groupcat-99.251.hdf5',\n",
       " 'http://www.tng-project.org/api/TNG50-1/files/groupcat-99.252.hdf5',\n",
       " 'http://www.tng-project.org/api/TNG50-1/files/groupcat-99.253.hdf5',\n",
       " 'http://www.tng-project.org/api/TNG50-1/files/groupcat-99.254.hdf5',\n",
       " 'http://www.tng-project.org/api/TNG50-1/files/groupcat-99.255.hdf5',\n",
       " 'http://www.tng-project.org/api/TNG50-1/files/groupcat-99.256.hdf5',\n",
       " 'http://www.tng-project.org/api/TNG50-1/files/groupcat-99.257.hdf5',\n",
       " 'http://www.tng-project.org/api/TNG50-1/files/groupcat-99.258.hdf5',\n",
       " 'http://www.tng-project.org/api/TNG50-1/files/groupcat-99.259.hdf5',\n",
       " 'http://www.tng-project.org/api/TNG50-1/files/groupcat-99.260.hdf5',\n",
       " 'http://www.tng-project.org/api/TNG50-1/files/groupcat-99.261.hdf5',\n",
       " 'http://www.tng-project.org/api/TNG50-1/files/groupcat-99.262.hdf5',\n",
       " 'http://www.tng-project.org/api/TNG50-1/files/groupcat-99.263.hdf5',\n",
       " 'http://www.tng-project.org/api/TNG50-1/files/groupcat-99.264.hdf5',\n",
       " 'http://www.tng-project.org/api/TNG50-1/files/groupcat-99.265.hdf5',\n",
       " 'http://www.tng-project.org/api/TNG50-1/files/groupcat-99.266.hdf5',\n",
       " 'http://www.tng-project.org/api/TNG50-1/files/groupcat-99.267.hdf5',\n",
       " 'http://www.tng-project.org/api/TNG50-1/files/groupcat-99.268.hdf5',\n",
       " 'http://www.tng-project.org/api/TNG50-1/files/groupcat-99.269.hdf5',\n",
       " 'http://www.tng-project.org/api/TNG50-1/files/groupcat-99.270.hdf5',\n",
       " 'http://www.tng-project.org/api/TNG50-1/files/groupcat-99.271.hdf5',\n",
       " 'http://www.tng-project.org/api/TNG50-1/files/groupcat-99.272.hdf5',\n",
       " 'http://www.tng-project.org/api/TNG50-1/files/groupcat-99.273.hdf5',\n",
       " 'http://www.tng-project.org/api/TNG50-1/files/groupcat-99.274.hdf5',\n",
       " 'http://www.tng-project.org/api/TNG50-1/files/groupcat-99.275.hdf5',\n",
       " 'http://www.tng-project.org/api/TNG50-1/files/groupcat-99.276.hdf5',\n",
       " 'http://www.tng-project.org/api/TNG50-1/files/groupcat-99.277.hdf5',\n",
       " 'http://www.tng-project.org/api/TNG50-1/files/groupcat-99.278.hdf5',\n",
       " 'http://www.tng-project.org/api/TNG50-1/files/groupcat-99.279.hdf5',\n",
       " 'http://www.tng-project.org/api/TNG50-1/files/groupcat-99.280.hdf5',\n",
       " 'http://www.tng-project.org/api/TNG50-1/files/groupcat-99.281.hdf5',\n",
       " 'http://www.tng-project.org/api/TNG50-1/files/groupcat-99.282.hdf5',\n",
       " 'http://www.tng-project.org/api/TNG50-1/files/groupcat-99.283.hdf5',\n",
       " 'http://www.tng-project.org/api/TNG50-1/files/groupcat-99.284.hdf5',\n",
       " 'http://www.tng-project.org/api/TNG50-1/files/groupcat-99.285.hdf5',\n",
       " 'http://www.tng-project.org/api/TNG50-1/files/groupcat-99.286.hdf5',\n",
       " 'http://www.tng-project.org/api/TNG50-1/files/groupcat-99.287.hdf5',\n",
       " 'http://www.tng-project.org/api/TNG50-1/files/groupcat-99.288.hdf5',\n",
       " 'http://www.tng-project.org/api/TNG50-1/files/groupcat-99.289.hdf5',\n",
       " 'http://www.tng-project.org/api/TNG50-1/files/groupcat-99.290.hdf5',\n",
       " 'http://www.tng-project.org/api/TNG50-1/files/groupcat-99.291.hdf5',\n",
       " 'http://www.tng-project.org/api/TNG50-1/files/groupcat-99.292.hdf5',\n",
       " 'http://www.tng-project.org/api/TNG50-1/files/groupcat-99.293.hdf5',\n",
       " 'http://www.tng-project.org/api/TNG50-1/files/groupcat-99.294.hdf5',\n",
       " 'http://www.tng-project.org/api/TNG50-1/files/groupcat-99.295.hdf5',\n",
       " 'http://www.tng-project.org/api/TNG50-1/files/groupcat-99.296.hdf5',\n",
       " 'http://www.tng-project.org/api/TNG50-1/files/groupcat-99.297.hdf5',\n",
       " 'http://www.tng-project.org/api/TNG50-1/files/groupcat-99.298.hdf5',\n",
       " 'http://www.tng-project.org/api/TNG50-1/files/groupcat-99.299.hdf5',\n",
       " 'http://www.tng-project.org/api/TNG50-1/files/groupcat-99.300.hdf5',\n",
       " 'http://www.tng-project.org/api/TNG50-1/files/groupcat-99.301.hdf5',\n",
       " 'http://www.tng-project.org/api/TNG50-1/files/groupcat-99.302.hdf5',\n",
       " 'http://www.tng-project.org/api/TNG50-1/files/groupcat-99.303.hdf5',\n",
       " 'http://www.tng-project.org/api/TNG50-1/files/groupcat-99.304.hdf5',\n",
       " 'http://www.tng-project.org/api/TNG50-1/files/groupcat-99.305.hdf5',\n",
       " 'http://www.tng-project.org/api/TNG50-1/files/groupcat-99.306.hdf5',\n",
       " 'http://www.tng-project.org/api/TNG50-1/files/groupcat-99.307.hdf5',\n",
       " 'http://www.tng-project.org/api/TNG50-1/files/groupcat-99.308.hdf5',\n",
       " 'http://www.tng-project.org/api/TNG50-1/files/groupcat-99.309.hdf5',\n",
       " 'http://www.tng-project.org/api/TNG50-1/files/groupcat-99.310.hdf5',\n",
       " 'http://www.tng-project.org/api/TNG50-1/files/groupcat-99.311.hdf5',\n",
       " 'http://www.tng-project.org/api/TNG50-1/files/groupcat-99.312.hdf5',\n",
       " 'http://www.tng-project.org/api/TNG50-1/files/groupcat-99.313.hdf5',\n",
       " 'http://www.tng-project.org/api/TNG50-1/files/groupcat-99.314.hdf5',\n",
       " 'http://www.tng-project.org/api/TNG50-1/files/groupcat-99.315.hdf5',\n",
       " 'http://www.tng-project.org/api/TNG50-1/files/groupcat-99.316.hdf5',\n",
       " 'http://www.tng-project.org/api/TNG50-1/files/groupcat-99.317.hdf5',\n",
       " 'http://www.tng-project.org/api/TNG50-1/files/groupcat-99.318.hdf5',\n",
       " 'http://www.tng-project.org/api/TNG50-1/files/groupcat-99.319.hdf5',\n",
       " 'http://www.tng-project.org/api/TNG50-1/files/groupcat-99.320.hdf5',\n",
       " 'http://www.tng-project.org/api/TNG50-1/files/groupcat-99.321.hdf5',\n",
       " 'http://www.tng-project.org/api/TNG50-1/files/groupcat-99.322.hdf5',\n",
       " 'http://www.tng-project.org/api/TNG50-1/files/groupcat-99.323.hdf5',\n",
       " 'http://www.tng-project.org/api/TNG50-1/files/groupcat-99.324.hdf5',\n",
       " 'http://www.tng-project.org/api/TNG50-1/files/groupcat-99.325.hdf5',\n",
       " 'http://www.tng-project.org/api/TNG50-1/files/groupcat-99.326.hdf5',\n",
       " 'http://www.tng-project.org/api/TNG50-1/files/groupcat-99.327.hdf5',\n",
       " 'http://www.tng-project.org/api/TNG50-1/files/groupcat-99.328.hdf5',\n",
       " 'http://www.tng-project.org/api/TNG50-1/files/groupcat-99.329.hdf5',\n",
       " 'http://www.tng-project.org/api/TNG50-1/files/groupcat-99.330.hdf5',\n",
       " 'http://www.tng-project.org/api/TNG50-1/files/groupcat-99.331.hdf5',\n",
       " 'http://www.tng-project.org/api/TNG50-1/files/groupcat-99.332.hdf5',\n",
       " 'http://www.tng-project.org/api/TNG50-1/files/groupcat-99.333.hdf5',\n",
       " 'http://www.tng-project.org/api/TNG50-1/files/groupcat-99.334.hdf5',\n",
       " 'http://www.tng-project.org/api/TNG50-1/files/groupcat-99.335.hdf5',\n",
       " 'http://www.tng-project.org/api/TNG50-1/files/groupcat-99.336.hdf5',\n",
       " 'http://www.tng-project.org/api/TNG50-1/files/groupcat-99.337.hdf5',\n",
       " 'http://www.tng-project.org/api/TNG50-1/files/groupcat-99.338.hdf5',\n",
       " 'http://www.tng-project.org/api/TNG50-1/files/groupcat-99.339.hdf5',\n",
       " 'http://www.tng-project.org/api/TNG50-1/files/groupcat-99.340.hdf5',\n",
       " 'http://www.tng-project.org/api/TNG50-1/files/groupcat-99.341.hdf5',\n",
       " 'http://www.tng-project.org/api/TNG50-1/files/groupcat-99.342.hdf5',\n",
       " 'http://www.tng-project.org/api/TNG50-1/files/groupcat-99.343.hdf5',\n",
       " 'http://www.tng-project.org/api/TNG50-1/files/groupcat-99.344.hdf5',\n",
       " 'http://www.tng-project.org/api/TNG50-1/files/groupcat-99.345.hdf5',\n",
       " 'http://www.tng-project.org/api/TNG50-1/files/groupcat-99.346.hdf5',\n",
       " 'http://www.tng-project.org/api/TNG50-1/files/groupcat-99.347.hdf5',\n",
       " 'http://www.tng-project.org/api/TNG50-1/files/groupcat-99.348.hdf5',\n",
       " 'http://www.tng-project.org/api/TNG50-1/files/groupcat-99.349.hdf5',\n",
       " 'http://www.tng-project.org/api/TNG50-1/files/groupcat-99.350.hdf5',\n",
       " 'http://www.tng-project.org/api/TNG50-1/files/groupcat-99.351.hdf5',\n",
       " 'http://www.tng-project.org/api/TNG50-1/files/groupcat-99.352.hdf5',\n",
       " 'http://www.tng-project.org/api/TNG50-1/files/groupcat-99.353.hdf5',\n",
       " 'http://www.tng-project.org/api/TNG50-1/files/groupcat-99.354.hdf5',\n",
       " 'http://www.tng-project.org/api/TNG50-1/files/groupcat-99.355.hdf5',\n",
       " 'http://www.tng-project.org/api/TNG50-1/files/groupcat-99.356.hdf5',\n",
       " 'http://www.tng-project.org/api/TNG50-1/files/groupcat-99.357.hdf5',\n",
       " 'http://www.tng-project.org/api/TNG50-1/files/groupcat-99.358.hdf5',\n",
       " 'http://www.tng-project.org/api/TNG50-1/files/groupcat-99.359.hdf5',\n",
       " 'http://www.tng-project.org/api/TNG50-1/files/groupcat-99.360.hdf5',\n",
       " 'http://www.tng-project.org/api/TNG50-1/files/groupcat-99.361.hdf5',\n",
       " 'http://www.tng-project.org/api/TNG50-1/files/groupcat-99.362.hdf5',\n",
       " 'http://www.tng-project.org/api/TNG50-1/files/groupcat-99.363.hdf5',\n",
       " 'http://www.tng-project.org/api/TNG50-1/files/groupcat-99.364.hdf5',\n",
       " 'http://www.tng-project.org/api/TNG50-1/files/groupcat-99.365.hdf5',\n",
       " 'http://www.tng-project.org/api/TNG50-1/files/groupcat-99.366.hdf5',\n",
       " 'http://www.tng-project.org/api/TNG50-1/files/groupcat-99.367.hdf5',\n",
       " 'http://www.tng-project.org/api/TNG50-1/files/groupcat-99.368.hdf5',\n",
       " 'http://www.tng-project.org/api/TNG50-1/files/groupcat-99.369.hdf5',\n",
       " 'http://www.tng-project.org/api/TNG50-1/files/groupcat-99.370.hdf5',\n",
       " 'http://www.tng-project.org/api/TNG50-1/files/groupcat-99.371.hdf5',\n",
       " 'http://www.tng-project.org/api/TNG50-1/files/groupcat-99.372.hdf5',\n",
       " 'http://www.tng-project.org/api/TNG50-1/files/groupcat-99.373.hdf5',\n",
       " 'http://www.tng-project.org/api/TNG50-1/files/groupcat-99.374.hdf5',\n",
       " 'http://www.tng-project.org/api/TNG50-1/files/groupcat-99.375.hdf5',\n",
       " 'http://www.tng-project.org/api/TNG50-1/files/groupcat-99.376.hdf5',\n",
       " 'http://www.tng-project.org/api/TNG50-1/files/groupcat-99.377.hdf5',\n",
       " 'http://www.tng-project.org/api/TNG50-1/files/groupcat-99.378.hdf5',\n",
       " 'http://www.tng-project.org/api/TNG50-1/files/groupcat-99.379.hdf5',\n",
       " 'http://www.tng-project.org/api/TNG50-1/files/groupcat-99.380.hdf5',\n",
       " 'http://www.tng-project.org/api/TNG50-1/files/groupcat-99.381.hdf5',\n",
       " 'http://www.tng-project.org/api/TNG50-1/files/groupcat-99.382.hdf5',\n",
       " 'http://www.tng-project.org/api/TNG50-1/files/groupcat-99.383.hdf5',\n",
       " 'http://www.tng-project.org/api/TNG50-1/files/groupcat-99.384.hdf5',\n",
       " 'http://www.tng-project.org/api/TNG50-1/files/groupcat-99.385.hdf5',\n",
       " 'http://www.tng-project.org/api/TNG50-1/files/groupcat-99.386.hdf5',\n",
       " 'http://www.tng-project.org/api/TNG50-1/files/groupcat-99.387.hdf5',\n",
       " 'http://www.tng-project.org/api/TNG50-1/files/groupcat-99.388.hdf5',\n",
       " 'http://www.tng-project.org/api/TNG50-1/files/groupcat-99.389.hdf5',\n",
       " 'http://www.tng-project.org/api/TNG50-1/files/groupcat-99.390.hdf5',\n",
       " 'http://www.tng-project.org/api/TNG50-1/files/groupcat-99.391.hdf5',\n",
       " 'http://www.tng-project.org/api/TNG50-1/files/groupcat-99.392.hdf5',\n",
       " 'http://www.tng-project.org/api/TNG50-1/files/groupcat-99.393.hdf5',\n",
       " 'http://www.tng-project.org/api/TNG50-1/files/groupcat-99.394.hdf5',\n",
       " 'http://www.tng-project.org/api/TNG50-1/files/groupcat-99.395.hdf5',\n",
       " 'http://www.tng-project.org/api/TNG50-1/files/groupcat-99.396.hdf5',\n",
       " 'http://www.tng-project.org/api/TNG50-1/files/groupcat-99.397.hdf5',\n",
       " 'http://www.tng-project.org/api/TNG50-1/files/groupcat-99.398.hdf5',\n",
       " 'http://www.tng-project.org/api/TNG50-1/files/groupcat-99.399.hdf5',\n",
       " 'http://www.tng-project.org/api/TNG50-1/files/groupcat-99.400.hdf5',\n",
       " 'http://www.tng-project.org/api/TNG50-1/files/groupcat-99.401.hdf5',\n",
       " 'http://www.tng-project.org/api/TNG50-1/files/groupcat-99.402.hdf5',\n",
       " 'http://www.tng-project.org/api/TNG50-1/files/groupcat-99.403.hdf5',\n",
       " 'http://www.tng-project.org/api/TNG50-1/files/groupcat-99.404.hdf5',\n",
       " 'http://www.tng-project.org/api/TNG50-1/files/groupcat-99.405.hdf5',\n",
       " 'http://www.tng-project.org/api/TNG50-1/files/groupcat-99.406.hdf5',\n",
       " 'http://www.tng-project.org/api/TNG50-1/files/groupcat-99.407.hdf5',\n",
       " 'http://www.tng-project.org/api/TNG50-1/files/groupcat-99.408.hdf5',\n",
       " 'http://www.tng-project.org/api/TNG50-1/files/groupcat-99.409.hdf5',\n",
       " 'http://www.tng-project.org/api/TNG50-1/files/groupcat-99.410.hdf5',\n",
       " 'http://www.tng-project.org/api/TNG50-1/files/groupcat-99.411.hdf5',\n",
       " 'http://www.tng-project.org/api/TNG50-1/files/groupcat-99.412.hdf5',\n",
       " 'http://www.tng-project.org/api/TNG50-1/files/groupcat-99.413.hdf5',\n",
       " 'http://www.tng-project.org/api/TNG50-1/files/groupcat-99.414.hdf5',\n",
       " 'http://www.tng-project.org/api/TNG50-1/files/groupcat-99.415.hdf5',\n",
       " 'http://www.tng-project.org/api/TNG50-1/files/groupcat-99.416.hdf5',\n",
       " 'http://www.tng-project.org/api/TNG50-1/files/groupcat-99.417.hdf5',\n",
       " 'http://www.tng-project.org/api/TNG50-1/files/groupcat-99.418.hdf5',\n",
       " 'http://www.tng-project.org/api/TNG50-1/files/groupcat-99.419.hdf5',\n",
       " 'http://www.tng-project.org/api/TNG50-1/files/groupcat-99.420.hdf5',\n",
       " 'http://www.tng-project.org/api/TNG50-1/files/groupcat-99.421.hdf5',\n",
       " 'http://www.tng-project.org/api/TNG50-1/files/groupcat-99.422.hdf5',\n",
       " 'http://www.tng-project.org/api/TNG50-1/files/groupcat-99.423.hdf5',\n",
       " 'http://www.tng-project.org/api/TNG50-1/files/groupcat-99.424.hdf5',\n",
       " 'http://www.tng-project.org/api/TNG50-1/files/groupcat-99.425.hdf5',\n",
       " 'http://www.tng-project.org/api/TNG50-1/files/groupcat-99.426.hdf5',\n",
       " 'http://www.tng-project.org/api/TNG50-1/files/groupcat-99.427.hdf5',\n",
       " 'http://www.tng-project.org/api/TNG50-1/files/groupcat-99.428.hdf5',\n",
       " 'http://www.tng-project.org/api/TNG50-1/files/groupcat-99.429.hdf5',\n",
       " 'http://www.tng-project.org/api/TNG50-1/files/groupcat-99.430.hdf5',\n",
       " 'http://www.tng-project.org/api/TNG50-1/files/groupcat-99.431.hdf5',\n",
       " 'http://www.tng-project.org/api/TNG50-1/files/groupcat-99.432.hdf5',\n",
       " 'http://www.tng-project.org/api/TNG50-1/files/groupcat-99.433.hdf5',\n",
       " 'http://www.tng-project.org/api/TNG50-1/files/groupcat-99.434.hdf5',\n",
       " 'http://www.tng-project.org/api/TNG50-1/files/groupcat-99.435.hdf5',\n",
       " 'http://www.tng-project.org/api/TNG50-1/files/groupcat-99.436.hdf5',\n",
       " 'http://www.tng-project.org/api/TNG50-1/files/groupcat-99.437.hdf5',\n",
       " 'http://www.tng-project.org/api/TNG50-1/files/groupcat-99.438.hdf5',\n",
       " 'http://www.tng-project.org/api/TNG50-1/files/groupcat-99.439.hdf5',\n",
       " 'http://www.tng-project.org/api/TNG50-1/files/groupcat-99.440.hdf5',\n",
       " 'http://www.tng-project.org/api/TNG50-1/files/groupcat-99.441.hdf5',\n",
       " 'http://www.tng-project.org/api/TNG50-1/files/groupcat-99.442.hdf5',\n",
       " 'http://www.tng-project.org/api/TNG50-1/files/groupcat-99.443.hdf5',\n",
       " 'http://www.tng-project.org/api/TNG50-1/files/groupcat-99.444.hdf5',\n",
       " 'http://www.tng-project.org/api/TNG50-1/files/groupcat-99.445.hdf5',\n",
       " 'http://www.tng-project.org/api/TNG50-1/files/groupcat-99.446.hdf5',\n",
       " 'http://www.tng-project.org/api/TNG50-1/files/groupcat-99.447.hdf5',\n",
       " 'http://www.tng-project.org/api/TNG50-1/files/groupcat-99.448.hdf5',\n",
       " 'http://www.tng-project.org/api/TNG50-1/files/groupcat-99.449.hdf5',\n",
       " 'http://www.tng-project.org/api/TNG50-1/files/groupcat-99.450.hdf5',\n",
       " 'http://www.tng-project.org/api/TNG50-1/files/groupcat-99.451.hdf5',\n",
       " 'http://www.tng-project.org/api/TNG50-1/files/groupcat-99.452.hdf5',\n",
       " 'http://www.tng-project.org/api/TNG50-1/files/groupcat-99.453.hdf5',\n",
       " 'http://www.tng-project.org/api/TNG50-1/files/groupcat-99.454.hdf5',\n",
       " 'http://www.tng-project.org/api/TNG50-1/files/groupcat-99.455.hdf5',\n",
       " 'http://www.tng-project.org/api/TNG50-1/files/groupcat-99.456.hdf5',\n",
       " 'http://www.tng-project.org/api/TNG50-1/files/groupcat-99.457.hdf5',\n",
       " 'http://www.tng-project.org/api/TNG50-1/files/groupcat-99.458.hdf5',\n",
       " 'http://www.tng-project.org/api/TNG50-1/files/groupcat-99.459.hdf5',\n",
       " 'http://www.tng-project.org/api/TNG50-1/files/groupcat-99.460.hdf5',\n",
       " 'http://www.tng-project.org/api/TNG50-1/files/groupcat-99.461.hdf5',\n",
       " 'http://www.tng-project.org/api/TNG50-1/files/groupcat-99.462.hdf5',\n",
       " 'http://www.tng-project.org/api/TNG50-1/files/groupcat-99.463.hdf5',\n",
       " 'http://www.tng-project.org/api/TNG50-1/files/groupcat-99.464.hdf5',\n",
       " 'http://www.tng-project.org/api/TNG50-1/files/groupcat-99.465.hdf5',\n",
       " 'http://www.tng-project.org/api/TNG50-1/files/groupcat-99.466.hdf5',\n",
       " 'http://www.tng-project.org/api/TNG50-1/files/groupcat-99.467.hdf5',\n",
       " 'http://www.tng-project.org/api/TNG50-1/files/groupcat-99.468.hdf5',\n",
       " 'http://www.tng-project.org/api/TNG50-1/files/groupcat-99.469.hdf5',\n",
       " 'http://www.tng-project.org/api/TNG50-1/files/groupcat-99.470.hdf5',\n",
       " 'http://www.tng-project.org/api/TNG50-1/files/groupcat-99.471.hdf5',\n",
       " 'http://www.tng-project.org/api/TNG50-1/files/groupcat-99.472.hdf5',\n",
       " 'http://www.tng-project.org/api/TNG50-1/files/groupcat-99.473.hdf5',\n",
       " 'http://www.tng-project.org/api/TNG50-1/files/groupcat-99.474.hdf5',\n",
       " 'http://www.tng-project.org/api/TNG50-1/files/groupcat-99.475.hdf5',\n",
       " 'http://www.tng-project.org/api/TNG50-1/files/groupcat-99.476.hdf5',\n",
       " 'http://www.tng-project.org/api/TNG50-1/files/groupcat-99.477.hdf5',\n",
       " 'http://www.tng-project.org/api/TNG50-1/files/groupcat-99.478.hdf5',\n",
       " 'http://www.tng-project.org/api/TNG50-1/files/groupcat-99.479.hdf5',\n",
       " 'http://www.tng-project.org/api/TNG50-1/files/groupcat-99.480.hdf5',\n",
       " 'http://www.tng-project.org/api/TNG50-1/files/groupcat-99.481.hdf5',\n",
       " 'http://www.tng-project.org/api/TNG50-1/files/groupcat-99.482.hdf5',\n",
       " 'http://www.tng-project.org/api/TNG50-1/files/groupcat-99.483.hdf5',\n",
       " 'http://www.tng-project.org/api/TNG50-1/files/groupcat-99.484.hdf5',\n",
       " 'http://www.tng-project.org/api/TNG50-1/files/groupcat-99.485.hdf5',\n",
       " 'http://www.tng-project.org/api/TNG50-1/files/groupcat-99.486.hdf5',\n",
       " 'http://www.tng-project.org/api/TNG50-1/files/groupcat-99.487.hdf5',\n",
       " 'http://www.tng-project.org/api/TNG50-1/files/groupcat-99.488.hdf5',\n",
       " 'http://www.tng-project.org/api/TNG50-1/files/groupcat-99.489.hdf5',\n",
       " 'http://www.tng-project.org/api/TNG50-1/files/groupcat-99.490.hdf5',\n",
       " 'http://www.tng-project.org/api/TNG50-1/files/groupcat-99.491.hdf5',\n",
       " 'http://www.tng-project.org/api/TNG50-1/files/groupcat-99.492.hdf5',\n",
       " 'http://www.tng-project.org/api/TNG50-1/files/groupcat-99.493.hdf5',\n",
       " 'http://www.tng-project.org/api/TNG50-1/files/groupcat-99.494.hdf5',\n",
       " 'http://www.tng-project.org/api/TNG50-1/files/groupcat-99.495.hdf5',\n",
       " 'http://www.tng-project.org/api/TNG50-1/files/groupcat-99.496.hdf5',\n",
       " 'http://www.tng-project.org/api/TNG50-1/files/groupcat-99.497.hdf5',\n",
       " 'http://www.tng-project.org/api/TNG50-1/files/groupcat-99.498.hdf5',\n",
       " 'http://www.tng-project.org/api/TNG50-1/files/groupcat-99.499.hdf5',\n",
       " 'http://www.tng-project.org/api/TNG50-1/files/groupcat-99.500.hdf5',\n",
       " 'http://www.tng-project.org/api/TNG50-1/files/groupcat-99.501.hdf5',\n",
       " 'http://www.tng-project.org/api/TNG50-1/files/groupcat-99.502.hdf5',\n",
       " 'http://www.tng-project.org/api/TNG50-1/files/groupcat-99.503.hdf5',\n",
       " 'http://www.tng-project.org/api/TNG50-1/files/groupcat-99.504.hdf5',\n",
       " 'http://www.tng-project.org/api/TNG50-1/files/groupcat-99.505.hdf5',\n",
       " 'http://www.tng-project.org/api/TNG50-1/files/groupcat-99.506.hdf5',\n",
       " 'http://www.tng-project.org/api/TNG50-1/files/groupcat-99.507.hdf5',\n",
       " 'http://www.tng-project.org/api/TNG50-1/files/groupcat-99.508.hdf5',\n",
       " 'http://www.tng-project.org/api/TNG50-1/files/groupcat-99.509.hdf5',\n",
       " 'http://www.tng-project.org/api/TNG50-1/files/groupcat-99.510.hdf5',\n",
       " 'http://www.tng-project.org/api/TNG50-1/files/groupcat-99.511.hdf5',\n",
       " 'http://www.tng-project.org/api/TNG50-1/files/groupcat-99.512.hdf5',\n",
       " 'http://www.tng-project.org/api/TNG50-1/files/groupcat-99.513.hdf5',\n",
       " 'http://www.tng-project.org/api/TNG50-1/files/groupcat-99.514.hdf5',\n",
       " 'http://www.tng-project.org/api/TNG50-1/files/groupcat-99.515.hdf5',\n",
       " 'http://www.tng-project.org/api/TNG50-1/files/groupcat-99.516.hdf5',\n",
       " 'http://www.tng-project.org/api/TNG50-1/files/groupcat-99.517.hdf5',\n",
       " 'http://www.tng-project.org/api/TNG50-1/files/groupcat-99.518.hdf5',\n",
       " 'http://www.tng-project.org/api/TNG50-1/files/groupcat-99.519.hdf5',\n",
       " 'http://www.tng-project.org/api/TNG50-1/files/groupcat-99.520.hdf5',\n",
       " 'http://www.tng-project.org/api/TNG50-1/files/groupcat-99.521.hdf5',\n",
       " 'http://www.tng-project.org/api/TNG50-1/files/groupcat-99.522.hdf5',\n",
       " 'http://www.tng-project.org/api/TNG50-1/files/groupcat-99.523.hdf5',\n",
       " 'http://www.tng-project.org/api/TNG50-1/files/groupcat-99.524.hdf5',\n",
       " 'http://www.tng-project.org/api/TNG50-1/files/groupcat-99.525.hdf5',\n",
       " 'http://www.tng-project.org/api/TNG50-1/files/groupcat-99.526.hdf5',\n",
       " 'http://www.tng-project.org/api/TNG50-1/files/groupcat-99.527.hdf5',\n",
       " 'http://www.tng-project.org/api/TNG50-1/files/groupcat-99.528.hdf5',\n",
       " 'http://www.tng-project.org/api/TNG50-1/files/groupcat-99.529.hdf5',\n",
       " 'http://www.tng-project.org/api/TNG50-1/files/groupcat-99.530.hdf5',\n",
       " 'http://www.tng-project.org/api/TNG50-1/files/groupcat-99.531.hdf5',\n",
       " 'http://www.tng-project.org/api/TNG50-1/files/groupcat-99.532.hdf5',\n",
       " 'http://www.tng-project.org/api/TNG50-1/files/groupcat-99.533.hdf5',\n",
       " 'http://www.tng-project.org/api/TNG50-1/files/groupcat-99.534.hdf5',\n",
       " 'http://www.tng-project.org/api/TNG50-1/files/groupcat-99.535.hdf5',\n",
       " 'http://www.tng-project.org/api/TNG50-1/files/groupcat-99.536.hdf5',\n",
       " 'http://www.tng-project.org/api/TNG50-1/files/groupcat-99.537.hdf5',\n",
       " 'http://www.tng-project.org/api/TNG50-1/files/groupcat-99.538.hdf5',\n",
       " 'http://www.tng-project.org/api/TNG50-1/files/groupcat-99.539.hdf5',\n",
       " 'http://www.tng-project.org/api/TNG50-1/files/groupcat-99.540.hdf5',\n",
       " 'http://www.tng-project.org/api/TNG50-1/files/groupcat-99.541.hdf5',\n",
       " 'http://www.tng-project.org/api/TNG50-1/files/groupcat-99.542.hdf5',\n",
       " 'http://www.tng-project.org/api/TNG50-1/files/groupcat-99.543.hdf5',\n",
       " 'http://www.tng-project.org/api/TNG50-1/files/groupcat-99.544.hdf5',\n",
       " 'http://www.tng-project.org/api/TNG50-1/files/groupcat-99.545.hdf5',\n",
       " 'http://www.tng-project.org/api/TNG50-1/files/groupcat-99.546.hdf5',\n",
       " 'http://www.tng-project.org/api/TNG50-1/files/groupcat-99.547.hdf5',\n",
       " 'http://www.tng-project.org/api/TNG50-1/files/groupcat-99.548.hdf5',\n",
       " 'http://www.tng-project.org/api/TNG50-1/files/groupcat-99.549.hdf5',\n",
       " 'http://www.tng-project.org/api/TNG50-1/files/groupcat-99.550.hdf5',\n",
       " 'http://www.tng-project.org/api/TNG50-1/files/groupcat-99.551.hdf5',\n",
       " 'http://www.tng-project.org/api/TNG50-1/files/groupcat-99.552.hdf5',\n",
       " 'http://www.tng-project.org/api/TNG50-1/files/groupcat-99.553.hdf5',\n",
       " 'http://www.tng-project.org/api/TNG50-1/files/groupcat-99.554.hdf5',\n",
       " 'http://www.tng-project.org/api/TNG50-1/files/groupcat-99.555.hdf5',\n",
       " 'http://www.tng-project.org/api/TNG50-1/files/groupcat-99.556.hdf5',\n",
       " 'http://www.tng-project.org/api/TNG50-1/files/groupcat-99.557.hdf5',\n",
       " 'http://www.tng-project.org/api/TNG50-1/files/groupcat-99.558.hdf5',\n",
       " 'http://www.tng-project.org/api/TNG50-1/files/groupcat-99.559.hdf5',\n",
       " 'http://www.tng-project.org/api/TNG50-1/files/groupcat-99.560.hdf5',\n",
       " 'http://www.tng-project.org/api/TNG50-1/files/groupcat-99.561.hdf5',\n",
       " 'http://www.tng-project.org/api/TNG50-1/files/groupcat-99.562.hdf5',\n",
       " 'http://www.tng-project.org/api/TNG50-1/files/groupcat-99.563.hdf5',\n",
       " 'http://www.tng-project.org/api/TNG50-1/files/groupcat-99.564.hdf5',\n",
       " 'http://www.tng-project.org/api/TNG50-1/files/groupcat-99.565.hdf5',\n",
       " 'http://www.tng-project.org/api/TNG50-1/files/groupcat-99.566.hdf5',\n",
       " 'http://www.tng-project.org/api/TNG50-1/files/groupcat-99.567.hdf5',\n",
       " 'http://www.tng-project.org/api/TNG50-1/files/groupcat-99.568.hdf5',\n",
       " 'http://www.tng-project.org/api/TNG50-1/files/groupcat-99.569.hdf5',\n",
       " 'http://www.tng-project.org/api/TNG50-1/files/groupcat-99.570.hdf5',\n",
       " 'http://www.tng-project.org/api/TNG50-1/files/groupcat-99.571.hdf5',\n",
       " 'http://www.tng-project.org/api/TNG50-1/files/groupcat-99.572.hdf5',\n",
       " 'http://www.tng-project.org/api/TNG50-1/files/groupcat-99.573.hdf5',\n",
       " 'http://www.tng-project.org/api/TNG50-1/files/groupcat-99.574.hdf5',\n",
       " 'http://www.tng-project.org/api/TNG50-1/files/groupcat-99.575.hdf5',\n",
       " 'http://www.tng-project.org/api/TNG50-1/files/groupcat-99.576.hdf5',\n",
       " 'http://www.tng-project.org/api/TNG50-1/files/groupcat-99.577.hdf5',\n",
       " 'http://www.tng-project.org/api/TNG50-1/files/groupcat-99.578.hdf5',\n",
       " 'http://www.tng-project.org/api/TNG50-1/files/groupcat-99.579.hdf5',\n",
       " 'http://www.tng-project.org/api/TNG50-1/files/groupcat-99.580.hdf5',\n",
       " 'http://www.tng-project.org/api/TNG50-1/files/groupcat-99.581.hdf5',\n",
       " 'http://www.tng-project.org/api/TNG50-1/files/groupcat-99.582.hdf5',\n",
       " 'http://www.tng-project.org/api/TNG50-1/files/groupcat-99.583.hdf5',\n",
       " 'http://www.tng-project.org/api/TNG50-1/files/groupcat-99.584.hdf5',\n",
       " 'http://www.tng-project.org/api/TNG50-1/files/groupcat-99.585.hdf5',\n",
       " 'http://www.tng-project.org/api/TNG50-1/files/groupcat-99.586.hdf5',\n",
       " 'http://www.tng-project.org/api/TNG50-1/files/groupcat-99.587.hdf5',\n",
       " 'http://www.tng-project.org/api/TNG50-1/files/groupcat-99.588.hdf5',\n",
       " 'http://www.tng-project.org/api/TNG50-1/files/groupcat-99.589.hdf5',\n",
       " 'http://www.tng-project.org/api/TNG50-1/files/groupcat-99.590.hdf5',\n",
       " 'http://www.tng-project.org/api/TNG50-1/files/groupcat-99.591.hdf5',\n",
       " 'http://www.tng-project.org/api/TNG50-1/files/groupcat-99.592.hdf5',\n",
       " 'http://www.tng-project.org/api/TNG50-1/files/groupcat-99.593.hdf5',\n",
       " 'http://www.tng-project.org/api/TNG50-1/files/groupcat-99.594.hdf5',\n",
       " 'http://www.tng-project.org/api/TNG50-1/files/groupcat-99.595.hdf5',\n",
       " 'http://www.tng-project.org/api/TNG50-1/files/groupcat-99.596.hdf5',\n",
       " 'http://www.tng-project.org/api/TNG50-1/files/groupcat-99.597.hdf5',\n",
       " 'http://www.tng-project.org/api/TNG50-1/files/groupcat-99.598.hdf5',\n",
       " 'http://www.tng-project.org/api/TNG50-1/files/groupcat-99.599.hdf5',\n",
       " 'http://www.tng-project.org/api/TNG50-1/files/groupcat-99.600.hdf5',\n",
       " 'http://www.tng-project.org/api/TNG50-1/files/groupcat-99.601.hdf5',\n",
       " 'http://www.tng-project.org/api/TNG50-1/files/groupcat-99.602.hdf5',\n",
       " 'http://www.tng-project.org/api/TNG50-1/files/groupcat-99.603.hdf5',\n",
       " 'http://www.tng-project.org/api/TNG50-1/files/groupcat-99.604.hdf5',\n",
       " 'http://www.tng-project.org/api/TNG50-1/files/groupcat-99.605.hdf5',\n",
       " 'http://www.tng-project.org/api/TNG50-1/files/groupcat-99.606.hdf5',\n",
       " 'http://www.tng-project.org/api/TNG50-1/files/groupcat-99.607.hdf5',\n",
       " 'http://www.tng-project.org/api/TNG50-1/files/groupcat-99.608.hdf5',\n",
       " 'http://www.tng-project.org/api/TNG50-1/files/groupcat-99.609.hdf5',\n",
       " 'http://www.tng-project.org/api/TNG50-1/files/groupcat-99.610.hdf5',\n",
       " 'http://www.tng-project.org/api/TNG50-1/files/groupcat-99.611.hdf5',\n",
       " 'http://www.tng-project.org/api/TNG50-1/files/groupcat-99.612.hdf5',\n",
       " 'http://www.tng-project.org/api/TNG50-1/files/groupcat-99.613.hdf5',\n",
       " 'http://www.tng-project.org/api/TNG50-1/files/groupcat-99.614.hdf5',\n",
       " 'http://www.tng-project.org/api/TNG50-1/files/groupcat-99.615.hdf5',\n",
       " 'http://www.tng-project.org/api/TNG50-1/files/groupcat-99.616.hdf5',\n",
       " 'http://www.tng-project.org/api/TNG50-1/files/groupcat-99.617.hdf5',\n",
       " 'http://www.tng-project.org/api/TNG50-1/files/groupcat-99.618.hdf5',\n",
       " 'http://www.tng-project.org/api/TNG50-1/files/groupcat-99.619.hdf5',\n",
       " 'http://www.tng-project.org/api/TNG50-1/files/groupcat-99.620.hdf5',\n",
       " 'http://www.tng-project.org/api/TNG50-1/files/groupcat-99.621.hdf5',\n",
       " 'http://www.tng-project.org/api/TNG50-1/files/groupcat-99.622.hdf5',\n",
       " 'http://www.tng-project.org/api/TNG50-1/files/groupcat-99.623.hdf5',\n",
       " 'http://www.tng-project.org/api/TNG50-1/files/groupcat-99.624.hdf5',\n",
       " 'http://www.tng-project.org/api/TNG50-1/files/groupcat-99.625.hdf5',\n",
       " 'http://www.tng-project.org/api/TNG50-1/files/groupcat-99.626.hdf5',\n",
       " 'http://www.tng-project.org/api/TNG50-1/files/groupcat-99.627.hdf5',\n",
       " 'http://www.tng-project.org/api/TNG50-1/files/groupcat-99.628.hdf5',\n",
       " 'http://www.tng-project.org/api/TNG50-1/files/groupcat-99.629.hdf5',\n",
       " 'http://www.tng-project.org/api/TNG50-1/files/groupcat-99.630.hdf5',\n",
       " 'http://www.tng-project.org/api/TNG50-1/files/groupcat-99.631.hdf5',\n",
       " 'http://www.tng-project.org/api/TNG50-1/files/groupcat-99.632.hdf5',\n",
       " 'http://www.tng-project.org/api/TNG50-1/files/groupcat-99.633.hdf5',\n",
       " 'http://www.tng-project.org/api/TNG50-1/files/groupcat-99.634.hdf5',\n",
       " 'http://www.tng-project.org/api/TNG50-1/files/groupcat-99.635.hdf5',\n",
       " 'http://www.tng-project.org/api/TNG50-1/files/groupcat-99.636.hdf5',\n",
       " 'http://www.tng-project.org/api/TNG50-1/files/groupcat-99.637.hdf5',\n",
       " 'http://www.tng-project.org/api/TNG50-1/files/groupcat-99.638.hdf5',\n",
       " 'http://www.tng-project.org/api/TNG50-1/files/groupcat-99.639.hdf5',\n",
       " 'http://www.tng-project.org/api/TNG50-1/files/groupcat-99.640.hdf5',\n",
       " 'http://www.tng-project.org/api/TNG50-1/files/groupcat-99.641.hdf5',\n",
       " 'http://www.tng-project.org/api/TNG50-1/files/groupcat-99.642.hdf5',\n",
       " 'http://www.tng-project.org/api/TNG50-1/files/groupcat-99.643.hdf5',\n",
       " 'http://www.tng-project.org/api/TNG50-1/files/groupcat-99.644.hdf5',\n",
       " 'http://www.tng-project.org/api/TNG50-1/files/groupcat-99.645.hdf5',\n",
       " 'http://www.tng-project.org/api/TNG50-1/files/groupcat-99.646.hdf5',\n",
       " 'http://www.tng-project.org/api/TNG50-1/files/groupcat-99.647.hdf5',\n",
       " 'http://www.tng-project.org/api/TNG50-1/files/groupcat-99.648.hdf5',\n",
       " 'http://www.tng-project.org/api/TNG50-1/files/groupcat-99.649.hdf5',\n",
       " 'http://www.tng-project.org/api/TNG50-1/files/groupcat-99.650.hdf5',\n",
       " 'http://www.tng-project.org/api/TNG50-1/files/groupcat-99.651.hdf5',\n",
       " 'http://www.tng-project.org/api/TNG50-1/files/groupcat-99.652.hdf5',\n",
       " 'http://www.tng-project.org/api/TNG50-1/files/groupcat-99.653.hdf5',\n",
       " 'http://www.tng-project.org/api/TNG50-1/files/groupcat-99.654.hdf5',\n",
       " 'http://www.tng-project.org/api/TNG50-1/files/groupcat-99.655.hdf5',\n",
       " 'http://www.tng-project.org/api/TNG50-1/files/groupcat-99.656.hdf5',\n",
       " 'http://www.tng-project.org/api/TNG50-1/files/groupcat-99.657.hdf5',\n",
       " 'http://www.tng-project.org/api/TNG50-1/files/groupcat-99.658.hdf5',\n",
       " 'http://www.tng-project.org/api/TNG50-1/files/groupcat-99.659.hdf5',\n",
       " 'http://www.tng-project.org/api/TNG50-1/files/groupcat-99.660.hdf5',\n",
       " 'http://www.tng-project.org/api/TNG50-1/files/groupcat-99.661.hdf5',\n",
       " 'http://www.tng-project.org/api/TNG50-1/files/groupcat-99.662.hdf5',\n",
       " 'http://www.tng-project.org/api/TNG50-1/files/groupcat-99.663.hdf5',\n",
       " 'http://www.tng-project.org/api/TNG50-1/files/groupcat-99.664.hdf5',\n",
       " 'http://www.tng-project.org/api/TNG50-1/files/groupcat-99.665.hdf5',\n",
       " 'http://www.tng-project.org/api/TNG50-1/files/groupcat-99.666.hdf5',\n",
       " 'http://www.tng-project.org/api/TNG50-1/files/groupcat-99.667.hdf5',\n",
       " 'http://www.tng-project.org/api/TNG50-1/files/groupcat-99.668.hdf5',\n",
       " 'http://www.tng-project.org/api/TNG50-1/files/groupcat-99.669.hdf5',\n",
       " 'http://www.tng-project.org/api/TNG50-1/files/groupcat-99.670.hdf5',\n",
       " 'http://www.tng-project.org/api/TNG50-1/files/groupcat-99.671.hdf5',\n",
       " 'http://www.tng-project.org/api/TNG50-1/files/groupcat-99.672.hdf5',\n",
       " 'http://www.tng-project.org/api/TNG50-1/files/groupcat-99.673.hdf5',\n",
       " 'http://www.tng-project.org/api/TNG50-1/files/groupcat-99.674.hdf5',\n",
       " 'http://www.tng-project.org/api/TNG50-1/files/groupcat-99.675.hdf5',\n",
       " 'http://www.tng-project.org/api/TNG50-1/files/groupcat-99.676.hdf5',\n",
       " 'http://www.tng-project.org/api/TNG50-1/files/groupcat-99.677.hdf5',\n",
       " 'http://www.tng-project.org/api/TNG50-1/files/groupcat-99.678.hdf5',\n",
       " 'http://www.tng-project.org/api/TNG50-1/files/groupcat-99.679.hdf5']"
      ]
     },
     "execution_count": 90,
     "metadata": {},
     "output_type": "execute_result"
    }
   ],
   "source": [
    "groupcat['files']"
   ]
  },
  {
   "cell_type": "code",
   "execution_count": 94,
   "id": "simplified-hybrid",
   "metadata": {},
   "outputs": [],
   "source": [
    "url = 'http://www.tng-project.org/api/TNG50-1/files/groupcat-99/'\n",
    "query = '?Group=Group_M_TopHat200'\n",
    "# query = '?Group=GroupMass'"
   ]
  },
  {
   "cell_type": "code",
   "execution_count": 101,
   "id": "exterior-burden",
   "metadata": {},
   "outputs": [],
   "source": [
    "def get_save(path, fname, params=None):\n",
    "    # make HTTP GET request to path\n",
    "    r = requests.get(path, params=params, headers=headers)\n",
    "\n",
    "    # raise exception if response code is not HTTP SUCCESS (200)\n",
    "    r.raise_for_status()\n",
    "\n",
    "#     if r.headers['content-type'] == 'application/json':\n",
    "#         return r.json() # parse json responses automatically\n",
    "\n",
    "    if 'content-disposition' in r.headers:\n",
    "#         filename = r.headers['content-disposition'].split(\"filename=\")[1]\n",
    "        with open(fname, 'wb') as f:\n",
    "            f.write(r.content)\n",
    "        return fname # return the filename string\n",
    "\n",
    "    return r"
   ]
  },
  {
   "cell_type": "code",
   "execution_count": 102,
   "id": "inside-contrast",
   "metadata": {},
   "outputs": [
    {
     "data": {
      "text/plain": [
       "'temp'"
      ]
     },
     "execution_count": 102,
     "metadata": {},
     "output_type": "execute_result"
    }
   ],
   "source": [
    "get_save(url + query, 'temp')"
   ]
  },
  {
   "cell_type": "code",
   "execution_count": 105,
   "id": "piano-conservative",
   "metadata": {},
   "outputs": [
    {
     "ename": "AttributeError",
     "evalue": "'File' object has no attribute 'readlines'",
     "output_type": "error",
     "traceback": [
      "\u001b[0;31m---------------------------------------------------------------------------\u001b[0m",
      "\u001b[0;31mAttributeError\u001b[0m                            Traceback (most recent call last)",
      "\u001b[0;32m<ipython-input-105-b073c7db114f>\u001b[0m in \u001b[0;36m<module>\u001b[0;34m\u001b[0m\n\u001b[1;32m      1\u001b[0m \u001b[0;32mwith\u001b[0m \u001b[0mh5py\u001b[0m\u001b[0;34m.\u001b[0m\u001b[0mFile\u001b[0m\u001b[0;34m(\u001b[0m\u001b[0;34m'temp'\u001b[0m\u001b[0;34m,\u001b[0m \u001b[0;34m'r'\u001b[0m\u001b[0;34m)\u001b[0m \u001b[0;32mas\u001b[0m \u001b[0mf\u001b[0m\u001b[0;34m:\u001b[0m\u001b[0;34m\u001b[0m\u001b[0;34m\u001b[0m\u001b[0m\n\u001b[0;32m----> 2\u001b[0;31m     \u001b[0mtemp\u001b[0m \u001b[0;34m=\u001b[0m \u001b[0mf\u001b[0m\u001b[0;34m.\u001b[0m\u001b[0mreadlines\u001b[0m\u001b[0;34m(\u001b[0m\u001b[0;34m)\u001b[0m\u001b[0;34m\u001b[0m\u001b[0;34m\u001b[0m\u001b[0m\n\u001b[0m",
      "\u001b[0;31mAttributeError\u001b[0m: 'File' object has no attribute 'readlines'"
     ]
    }
   ],
   "source": [
    "with h5py.File('temp', 'r') as f:\n",
    "    temp = f.readlines()"
   ]
  },
  {
   "cell_type": "code",
   "execution_count": 107,
   "id": "thermal-difficulty",
   "metadata": {},
   "outputs": [
    {
     "data": {
      "text/plain": [
       "<KeysViewHDF5 ['Group', 'Header']>"
      ]
     },
     "execution_count": 107,
     "metadata": {},
     "output_type": "execute_result"
    }
   ],
   "source": [
    "temp.keys()"
   ]
  },
  {
   "cell_type": "code",
   "execution_count": 112,
   "id": "electrical-hometown",
   "metadata": {},
   "outputs": [
    {
     "data": {
      "text/plain": [
       "<HDF5 group \"/Header\" (0 members)>"
      ]
     },
     "execution_count": 112,
     "metadata": {},
     "output_type": "execute_result"
    }
   ],
   "source": [
    "temp['Header']"
   ]
  },
  {
   "cell_type": "code",
   "execution_count": 117,
   "id": "flexible-discussion",
   "metadata": {},
   "outputs": [
    {
     "data": {
      "text/plain": [
       "<HDF5 dataset \"Group_M_TopHat200\": shape (10247012,), type \"<f4\">"
      ]
     },
     "execution_count": 117,
     "metadata": {},
     "output_type": "execute_result"
    }
   ],
   "source": [
    "temp['Group']['Group_M_TopHat200']"
   ]
  },
  {
   "cell_type": "code",
   "execution_count": 126,
   "id": "occupied-interview",
   "metadata": {},
   "outputs": [
    {
     "data": {
      "text/plain": [
       "array([ 0,  1,  2,  3,  4,  5,  6,  7,  8,  9, 10, 11, 12, 13, 14, 15, 16,\n",
       "       17, 18, 19, 20, 21, 22, 23, 24, 25])"
      ]
     },
     "execution_count": 126,
     "metadata": {},
     "output_type": "execute_result"
    }
   ],
   "source": [
    "np.where(temp['Group']['Group_M_TopHat200'][:] * 1e10 / 0.704 >= 1e13)[0]"
   ]
  },
  {
   "cell_type": "code",
   "execution_count": 124,
   "id": "engaged-missouri",
   "metadata": {},
   "outputs": [
    {
     "data": {
      "text/plain": [
       "array([2.15442354e+14, 1.06055955e+14, 7.44886328e+13, 4.92972487e+13,\n",
       "       4.46447422e+13, 2.64098105e+13, 4.30100751e+13, 3.88788073e+13,\n",
       "       3.26898329e+13, 3.51184125e+13], dtype=float32)"
      ]
     },
     "execution_count": 124,
     "metadata": {},
     "output_type": "execute_result"
    }
   ],
   "source": [
    "temp['Group']['Group_M_TopHat200'][:10] * 1e10 / 0.704"
   ]
  },
  {
   "cell_type": "code",
   "execution_count": null,
   "id": "human-ivory",
   "metadata": {},
   "outputs": [],
   "source": []
  },
  {
   "cell_type": "code",
   "execution_count": 80,
   "id": "italian-thriller",
   "metadata": {},
   "outputs": [],
   "source": [
    "mass_min = 10**14 / 1e10 * 0.704\n",
    "\n",
    "grp_url = snap['files']['groupcat']\n",
    "query = '?Group_M_TopHat200__gt=' + str(mass_min)"
   ]
  },
  {
   "cell_type": "code",
   "execution_count": 82,
   "id": "identified-street",
   "metadata": {},
   "outputs": [
    {
     "ename": "HTTPError",
     "evalue": "400 Client Error: Bad Request for url: https://www.tng-project.org/api/TNG50-1/files/groupcat-99/?Group_M_TopHat200__gt=7040.0",
     "output_type": "error",
     "traceback": [
      "\u001b[0;31m---------------------------------------------------------------------------\u001b[0m",
      "\u001b[0;31mHTTPError\u001b[0m                                 Traceback (most recent call last)",
      "\u001b[0;32m<ipython-input-82-2c5e554d8bd4>\u001b[0m in \u001b[0;36m<module>\u001b[0;34m\u001b[0m\n\u001b[0;32m----> 1\u001b[0;31m \u001b[0mtemp\u001b[0m \u001b[0;34m=\u001b[0m \u001b[0mget\u001b[0m\u001b[0;34m(\u001b[0m\u001b[0mgrp_url\u001b[0m \u001b[0;34m+\u001b[0m \u001b[0mquery\u001b[0m\u001b[0;34m)\u001b[0m\u001b[0;34m\u001b[0m\u001b[0;34m\u001b[0m\u001b[0m\n\u001b[0m",
      "\u001b[0;32m<ipython-input-3-601705a3844d>\u001b[0m in \u001b[0;36mget\u001b[0;34m(path, params)\u001b[0m\n\u001b[1;32m      4\u001b[0m \u001b[0;34m\u001b[0m\u001b[0m\n\u001b[1;32m      5\u001b[0m     \u001b[0;31m# raise exception if response code is not HTTP SUCCESS (200)\u001b[0m\u001b[0;34m\u001b[0m\u001b[0;34m\u001b[0m\u001b[0;34m\u001b[0m\u001b[0m\n\u001b[0;32m----> 6\u001b[0;31m     \u001b[0mr\u001b[0m\u001b[0;34m.\u001b[0m\u001b[0mraise_for_status\u001b[0m\u001b[0;34m(\u001b[0m\u001b[0;34m)\u001b[0m\u001b[0;34m\u001b[0m\u001b[0;34m\u001b[0m\u001b[0m\n\u001b[0m\u001b[1;32m      7\u001b[0m \u001b[0;34m\u001b[0m\u001b[0m\n\u001b[1;32m      8\u001b[0m     \u001b[0;32mif\u001b[0m \u001b[0mr\u001b[0m\u001b[0;34m.\u001b[0m\u001b[0mheaders\u001b[0m\u001b[0;34m[\u001b[0m\u001b[0;34m'content-type'\u001b[0m\u001b[0;34m]\u001b[0m \u001b[0;34m==\u001b[0m \u001b[0;34m'application/json'\u001b[0m\u001b[0;34m:\u001b[0m\u001b[0;34m\u001b[0m\u001b[0;34m\u001b[0m\u001b[0m\n",
      "\u001b[0;32m~/anaconda3/lib/python3.7/site-packages/requests/models.py\u001b[0m in \u001b[0;36mraise_for_status\u001b[0;34m(self)\u001b[0m\n\u001b[1;32m    941\u001b[0m \u001b[0;34m\u001b[0m\u001b[0m\n\u001b[1;32m    942\u001b[0m         \u001b[0;32mif\u001b[0m \u001b[0mhttp_error_msg\u001b[0m\u001b[0;34m:\u001b[0m\u001b[0;34m\u001b[0m\u001b[0;34m\u001b[0m\u001b[0m\n\u001b[0;32m--> 943\u001b[0;31m             \u001b[0;32mraise\u001b[0m \u001b[0mHTTPError\u001b[0m\u001b[0;34m(\u001b[0m\u001b[0mhttp_error_msg\u001b[0m\u001b[0;34m,\u001b[0m \u001b[0mresponse\u001b[0m\u001b[0;34m=\u001b[0m\u001b[0mself\u001b[0m\u001b[0;34m)\u001b[0m\u001b[0;34m\u001b[0m\u001b[0;34m\u001b[0m\u001b[0m\n\u001b[0m\u001b[1;32m    944\u001b[0m \u001b[0;34m\u001b[0m\u001b[0m\n\u001b[1;32m    945\u001b[0m     \u001b[0;32mdef\u001b[0m \u001b[0mclose\u001b[0m\u001b[0;34m(\u001b[0m\u001b[0mself\u001b[0m\u001b[0;34m)\u001b[0m\u001b[0;34m:\u001b[0m\u001b[0;34m\u001b[0m\u001b[0;34m\u001b[0m\u001b[0m\n",
      "\u001b[0;31mHTTPError\u001b[0m: 400 Client Error: Bad Request for url: https://www.tng-project.org/api/TNG50-1/files/groupcat-99/?Group_M_TopHat200__gt=7040.0"
     ]
    }
   ],
   "source": [
    "temp = get(grp_url + query)"
   ]
  },
  {
   "cell_type": "code",
   "execution_count": 83,
   "id": "electric-politics",
   "metadata": {},
   "outputs": [],
   "source": [
    "halo = get('http://www.tng-project.org/api/TNG50-1/snapshots/99/halos/')"
   ]
  },
  {
   "cell_type": "code",
   "execution_count": 85,
   "id": "inner-composition",
   "metadata": {},
   "outputs": [
    {
     "ename": "AttributeError",
     "evalue": "'Response' object has no attribute 'keys'",
     "output_type": "error",
     "traceback": [
      "\u001b[0;31m---------------------------------------------------------------------------\u001b[0m",
      "\u001b[0;31mAttributeError\u001b[0m                            Traceback (most recent call last)",
      "\u001b[0;32m<ipython-input-85-4dc28142026b>\u001b[0m in \u001b[0;36m<module>\u001b[0;34m\u001b[0m\n\u001b[0;32m----> 1\u001b[0;31m \u001b[0mhalo\u001b[0m\u001b[0;34m.\u001b[0m\u001b[0mkeys\u001b[0m\u001b[0;34m(\u001b[0m\u001b[0;34m)\u001b[0m\u001b[0;34m\u001b[0m\u001b[0;34m\u001b[0m\u001b[0m\n\u001b[0m",
      "\u001b[0;31mAttributeError\u001b[0m: 'Response' object has no attribute 'keys'"
     ]
    }
   ],
   "source": [
    "halo.keys()"
   ]
  },
  {
   "cell_type": "code",
   "execution_count": null,
   "id": "recovered-reading",
   "metadata": {},
   "outputs": [],
   "source": []
  },
  {
   "cell_type": "code",
   "execution_count": null,
   "id": "hearing-microwave",
   "metadata": {},
   "outputs": [],
   "source": [
    "for i in range(10):\n",
    "    "
   ]
  },
  {
   "cell_type": "code",
   "execution_count": null,
   "id": "banner-excess",
   "metadata": {},
   "outputs": [],
   "source": []
  },
  {
   "cell_type": "code",
   "execution_count": 58,
   "id": "passive-niger",
   "metadata": {},
   "outputs": [],
   "source": [
    "mass_min = 10**14 / 1e10 * 0.704\n",
    "# mass_max = 10**12.1 / 1e10 * 0.704\n",
    "\n",
    "search_query = '?mass__gt=' + str(mass_min)"
   ]
  },
  {
   "cell_type": "code",
   "execution_count": 59,
   "id": "upper-mounting",
   "metadata": {
    "scrolled": true
   },
   "outputs": [
    {
     "name": "stdout",
     "output_type": "stream",
     "text": [
      "0\n",
      "0\n",
      "0\n",
      "0\n",
      "0\n",
      "0\n",
      "0\n",
      "0\n",
      "0\n",
      "0\n",
      "0\n",
      "0\n",
      "0\n",
      "0\n",
      "0\n",
      "0\n",
      "0\n",
      "0\n",
      "0\n",
      "0\n",
      "0\n",
      "0\n",
      "0\n",
      "0\n",
      "0\n",
      "0\n",
      "0\n",
      "0\n",
      "0\n",
      "0\n",
      "0\n",
      "0\n",
      "0\n",
      "0\n",
      "0\n",
      "0\n",
      "0\n",
      "0\n",
      "0\n",
      "0\n",
      "0\n",
      "0\n",
      "0\n",
      "0\n",
      "0\n",
      "0\n",
      "0\n",
      "0\n",
      "0\n",
      "0\n",
      "0\n",
      "0\n",
      "0\n",
      "0\n",
      "0\n",
      "0\n",
      "0\n",
      "0\n",
      "0\n",
      "0\n",
      "0\n",
      "0\n",
      "0\n",
      "0\n",
      "0\n",
      "0\n",
      "0\n",
      "0\n",
      "0\n",
      "0\n",
      "0\n",
      "0\n",
      "1\n",
      "1\n",
      "1\n",
      "1\n",
      "1\n",
      "1\n",
      "1\n",
      "1\n",
      "1\n",
      "1\n",
      "1\n",
      "1\n",
      "1\n",
      "1\n",
      "1\n",
      "1\n",
      "1\n",
      "1\n",
      "1\n",
      "1\n",
      "1\n",
      "1\n",
      "1\n",
      "1\n",
      "1\n",
      "1\n",
      "1\n",
      "1\n"
     ]
    }
   ],
   "source": [
    "for snap in range(100):\n",
    "    snap_url = f'http://www.tng-project.org/api/TNG50-1/snapshots/{snap}/subhalos/'\n",
    "\n",
    "    url = snap_url + search_query\n",
    "    \n",
    "    subhalos = get(url)\n",
    "    \n",
    "    print(subhalos['count'])"
   ]
  },
  {
   "cell_type": "code",
   "execution_count": null,
   "id": "changing-soviet",
   "metadata": {},
   "outputs": [],
   "source": [
    "#find halos whose masses are greater than 14.\n",
    "# link the halos in the direction of redshift\n",
    "# check gas, star-forming galxy distribution\n",
    "\n",
    "#reference: IllustriTNG-50 page"
   ]
  }
 ],
 "metadata": {
  "kernelspec": {
   "display_name": "Python 3",
   "language": "python",
   "name": "python3"
  },
  "language_info": {
   "codemirror_mode": {
    "name": "ipython",
    "version": 3
   },
   "file_extension": ".py",
   "mimetype": "text/x-python",
   "name": "python",
   "nbconvert_exporter": "python",
   "pygments_lexer": "ipython3",
   "version": "3.7.10"
  },
  "varInspector": {
   "cols": {
    "lenName": 16,
    "lenType": 16,
    "lenVar": 40
   },
   "kernels_config": {
    "python": {
     "delete_cmd_postfix": "",
     "delete_cmd_prefix": "del ",
     "library": "var_list.py",
     "varRefreshCmd": "print(var_dic_list())"
    },
    "r": {
     "delete_cmd_postfix": ") ",
     "delete_cmd_prefix": "rm(",
     "library": "var_list.r",
     "varRefreshCmd": "cat(var_dic_list()) "
    }
   },
   "types_to_exclude": [
    "module",
    "function",
    "builtin_function_or_method",
    "instance",
    "_Feature"
   ],
   "window_display": false
  }
 },
 "nbformat": 4,
 "nbformat_minor": 5
}
