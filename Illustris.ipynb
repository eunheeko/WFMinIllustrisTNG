{
 "cells": [
  {
   "cell_type": "code",
   "execution_count": 19,
   "id": "romance-store",
   "metadata": {},
   "outputs": [],
   "source": [
    "import requests\n",
    "import tqdm\n",
    "import h5py\n",
    "\n",
    "import os"
   ]
  },
  {
   "cell_type": "code",
   "execution_count": 6,
   "id": "conditional-bermuda",
   "metadata": {},
   "outputs": [],
   "source": [
    "baseUrl = 'http://www.tng-project.org/api/'\n",
    "headers = {\"api-key\":\"f96eabbae6f336408a63f875f8cce22f\"}"
   ]
  },
  {
   "cell_type": "code",
   "execution_count": 14,
   "id": "neutral-fighter",
   "metadata": {},
   "outputs": [],
   "source": [
    "def get(path, params=None):\n",
    "    # make HTTP GET request to path\n",
    "    r = requests.get(path, params=params, headers=headers)\n",
    "\n",
    "    # raise exception if response code is not HTTP SUCCESS (200)\n",
    "    r.raise_for_status()\n",
    "\n",
    "    if r.headers['content-type'] == 'application/json':\n",
    "        return r.json() # parse json responses automatically\n",
    "    return r\n",
    "\n",
    "def get_save(path, fname, params=None):\n",
    "    # make HTTP GET request to path\n",
    "    r = requests.get(path, params=params, headers=headers)\n",
    "\n",
    "    # raise exception if response code is not HTTP SUCCESS (200)\n",
    "    r.raise_for_status()\n",
    "\n",
    "#     if r.headers['content-type'] == 'application/json':\n",
    "#         return r.json() # parse json responses automatically\n",
    "\n",
    "    if 'content-disposition' in r.headers:\n",
    "#         filename = r.headers['content-disposition'].split(\"filename=\")[1]\n",
    "        with open(fname, 'wb') as f:\n",
    "            f.write(r.content)\n",
    "        return # return the filename string\n",
    "\n",
    "    return r"
   ]
  },
  {
   "cell_type": "code",
   "execution_count": 7,
   "id": "yellow-shopper",
   "metadata": {},
   "outputs": [],
   "source": [
    "sim = get(baseUrl + 'TNG50-1/')"
   ]
  },
  {
   "cell_type": "code",
   "execution_count": 62,
   "id": "synthetic-digest",
   "metadata": {},
   "outputs": [
    {
     "data": {
      "text/plain": [
       "dict_keys(['name', 'description', 'name_alt', 'boxsize', 'z_start', 'z_final', 'cosmology', 'omega_0', 'omega_L', 'omega_B', 'hubble', 'physics_model', 'has_cooling', 'has_starformation', 'has_winds', 'has_blackholes', 'mass_gas', 'mass_dm', 'softening_dm_comoving', 'softening_stars_comoving', 'softening_blackholes_comoving', 'softening_gas_comoving', 'softening_dm_max_phys', 'softening_stars_max_phys', 'softening_blackholes_max_phys', 'softening_gas_max_phys', 'softening_gas_factor', 'softening_gas_comoving_min', 'num_dm', 'num_tr_mc', 'num_tr_vel', 'longids', 'is_uniform', 'is_zoom', 'is_subbox', 'num_files_snapshot', 'num_files_groupcat', 'num_files_rockstar', 'num_files_lhalotree', 'num_files_sublink', 'num_files_ctrees', 'filesize_lhalotree', 'filesize_sublink', 'filesize_ctrees', 'filesize_ics', 'filesize_simulation', 'has_fof', 'has_subfind', 'has_rockstar', 'has_lhalotree', 'has_sublink', 'has_ctrees', 'permission_required', 'num_snapshots', 'url', 'parent_simulation', 'child_simulations', 'files', 'checksums', 'snapshots'])"
      ]
     },
     "execution_count": 62,
     "metadata": {},
     "output_type": "execute_result"
    }
   ],
   "source": [
    "sim.keys()"
   ]
  },
  {
   "cell_type": "code",
   "execution_count": 13,
   "id": "portable-acting",
   "metadata": {},
   "outputs": [
    {
     "name": "stdout",
     "output_type": "stream",
     "text": [
      "num snapshots = 100\n",
      "num files snapshots = 680\n"
     ]
    }
   ],
   "source": [
    "num_snapshots = sim['num_snapshots']\n",
    "print(f'num snapshots = {num_snapshots}')\n",
    "\n",
    "num_files_snapshot = sim['num_files_snapshot']\n",
    "print(f'num files snapshots = {num_files_snapshot}')"
   ]
  },
  {
   "cell_type": "markdown",
   "id": "unnecessary-nursing",
   "metadata": {},
   "source": [
    "# Find the galaxy clusters at z = 0\n",
    "\n",
    "Find the galaxy clusters ($M_{200}$ $\\geq$ 1e13)"
   ]
  },
  {
   "cell_type": "code",
   "execution_count": 61,
   "id": "frozen-briefs",
   "metadata": {},
   "outputs": [
    {
     "data": {
      "text/plain": [
       "{'lhalotree': 'http://www.tng-project.org/api/TNG50-1/files/lhalotree/',\n",
       " 'sublink': 'http://www.tng-project.org/api/TNG50-1/files/sublink/',\n",
       " 'offsets': 'http://www.tng-project.org/api/TNG50-1/files/offsets/',\n",
       " 'ics': 'http://www.tng-project.org/api/TNG50-1/files/ics.hdf5',\n",
       " 'simulation': 'http://www.tng-project.org/api/TNG50-1/files/simulation.hdf5',\n",
       " 'stellar_circs': 'http://www.tng-project.org/api/TNG50-1/files/stellar_circs.hdf5',\n",
       " 'subhalo_matching_to_dark': 'http://www.tng-project.org/api/TNG50-1/files/subhalo_matching_to_dark.hdf5',\n",
       " 'blackhole_mergers': 'http://www.tng-project.org/api/TNG50-1/files/blackhole_mergers.hdf5',\n",
       " 'blackhole_details': 'http://www.tng-project.org/api/TNG50-1/files/blackhole_details.hdf5',\n",
       " 'stellar_assembly': 'http://www.tng-project.org/api/TNG50-1/files/stellar_assembly.hdf5',\n",
       " 'subbox_subhalo_list_0': 'http://www.tng-project.org/api/TNG50-1/files/subbox_subhalo_list.0.hdf5',\n",
       " 'subbox_subhalo_list_1': 'http://www.tng-project.org/api/TNG50-1/files/subbox_subhalo_list.1.hdf5',\n",
       " 'subbox_subhalo_list_2': 'http://www.tng-project.org/api/TNG50-1/files/subbox_subhalo_list.2.hdf5',\n",
       " 'star_formation_rates': 'http://www.tng-project.org/api/TNG50-1/files/star_formation_rates.hdf5',\n",
       " 'aperture_masses': 'http://www.tng-project.org/api/TNG50-1/files/aperture_masses.hdf5',\n",
       " 'morphologies_deeplearn': 'http://www.tng-project.org/api/TNG50-1/files/morphologies_deeplearn.hdf5',\n",
       " 'halo_structure': 'http://www.tng-project.org/api/TNG50-1/files/halo_structure/',\n",
       " 'hih2_galaxy': 'http://www.tng-project.org/api/TNG50-1/files/hih2_galaxy/',\n",
       " 'stellar_sizes': 'http://www.tng-project.org/api/TNG50-1/files/stellar_sizes/',\n",
       " 'kinematic_decomposition': 'http://www.tng-project.org/api/TNG50-1/files/kinematic_decomposition/'}"
      ]
     },
     "execution_count": 61,
     "metadata": {},
     "output_type": "execute_result"
    }
   ],
   "source": [
    "sim['files']"
   ]
  },
  {
   "cell_type": "code",
   "execution_count": 36,
   "id": "simplified-hybrid",
   "metadata": {},
   "outputs": [
    {
     "name": "stdout",
     "output_type": "stream",
     "text": [
      "initial Group_M_TopHat200 saved\n",
      "initial GroupFirstSub saved\n",
      "initial GroupNsubs saved\n"
     ]
    }
   ],
   "source": [
    "url = 'http://www.tng-project.org/api/TNG50-1/files/groupcat-99/'\n",
    "query_mass = '?Group=Group_M_TopHat200'\n",
    "\n",
    "get_save(url + query_mass, './initial/Group_M_TopHat200')\n",
    "print('initial Group_M_TopHat200 saved')\n",
    "\n",
    "query_firstsub = '?Group=GroupFirstSub'\n",
    "get_save(url + query_firstsub, './initial/GroupFirstSub')\n",
    "print('initial GroupFirstSub saved')\n",
    "\n",
    "\n",
    "query_nsub = '?Group=GroupNsubs'\n",
    "get_save(url + query_nsub, './initial/GroupNsubs')\n",
    "print('initial GroupNsubs saved')"
   ]
  },
  {
   "cell_type": "code",
   "execution_count": 37,
   "id": "piano-conservative",
   "metadata": {},
   "outputs": [],
   "source": [
    "with h5py.File('./initial/Group_M_TopHat200', 'r') as f:\n",
    "    M200 = f['Group']['Group_M_TopHat200'][:] * 1e10 / 0.704"
   ]
  },
  {
   "cell_type": "code",
   "execution_count": 39,
   "id": "sixth-variance",
   "metadata": {},
   "outputs": [],
   "source": [
    "cl_index = np.where(M200 >= 1e13)[0]"
   ]
  },
  {
   "cell_type": "code",
   "execution_count": 47,
   "id": "banner-excess",
   "metadata": {},
   "outputs": [],
   "source": [
    "with h5py.File('./initial/GroupFirstSub', 'r') as f:\n",
    "    firstsub = f['Group']['GroupFirstSub'][:][cl_index]\n",
    "    \n",
    "with h5py.File('./initial/GroupNsubs', 'r') as f:\n",
    "    nsub = f['Group']['GroupNsubs'][:][cl_index]"
   ]
  },
  {
   "cell_type": "code",
   "execution_count": 48,
   "id": "circular-cooperative",
   "metadata": {
    "scrolled": true
   },
   "outputs": [
    {
     "data": {
      "text/plain": [
       "array([     0,  63864,  96762, 117250, 143880, 167392, 184931, 198182,\n",
       "       208811, 220595, 229933, 242788, 253861, 264883, 275545, 282779,\n",
       "       289385, 294866, 300903, 307485, 313692, 319730, 324123, 329508,\n",
       "       333424, 338446], dtype=int32)"
      ]
     },
     "execution_count": 48,
     "metadata": {},
     "output_type": "execute_result"
    }
   ],
   "source": [
    "firstsub"
   ]
  },
  {
   "cell_type": "code",
   "execution_count": 49,
   "id": "acceptable-hygiene",
   "metadata": {},
   "outputs": [
    {
     "data": {
      "text/plain": [
       "array([63864, 32898, 20488, 26630, 23512, 17539, 13251, 10629, 11784,\n",
       "        9338, 12855, 11073, 11022, 10662,  7234,  6606,  5481,  6037,\n",
       "        6582,  6207,  6038,  4393,  5385,  3916,  5022,  4000],\n",
       "      dtype=int32)"
      ]
     },
     "execution_count": 49,
     "metadata": {},
     "output_type": "execute_result"
    }
   ],
   "source": [
    "nsub"
   ]
  },
  {
   "cell_type": "code",
   "execution_count": null,
   "id": "retired-presentation",
   "metadata": {},
   "outputs": [],
   "source": []
  },
  {
   "cell_type": "code",
   "execution_count": null,
   "id": "solved-camcorder",
   "metadata": {},
   "outputs": [],
   "source": []
  },
  {
   "cell_type": "code",
   "execution_count": 58,
   "id": "heated-people",
   "metadata": {
    "scrolled": true
   },
   "outputs": [
    {
     "name": "stderr",
     "output_type": "stream",
     "text": [
      "100%|██████████| 100/100 [00:00<00:00, 1566.43it/s]\n"
     ]
    }
   ],
   "source": [
    "if not os.path.exists('./snaps/'):\n",
    "    \n",
    "    os.mkdir('./snaps/')\n",
    "    \n",
    "for i in tqdm.trange(100):\n",
    "    \n",
    "    path_name = f'./snaps/snap{i}'\n",
    "    \n",
    "    if not os.path.exists(path_name):\n",
    "        os.mkdir(path_name)"
   ]
  },
  {
   "cell_type": "code",
   "execution_count": null,
   "id": "operating-mainland",
   "metadata": {},
   "outputs": [
    {
     "name": "stderr",
     "output_type": "stream",
     "text": [
      " 58%|█████▊    | 58/100 [2:16:53<1:32:19, 131.90s/it]"
     ]
    }
   ],
   "source": [
    "for i in tqdm.trange(100):\n",
    "    \n",
    "    url = f'http://www.tng-project.org/api/TNG50-1/files/groupcat-{i}/'\n",
    "    path_name = f'./snaps/snap{i}/'\n",
    "    \n",
    "    query_mass = '?Group=Group_M_TopHat200'\n",
    "    get_save(url + query_mass, path_name + 'Group_M_TopHat200')\n",
    "\n",
    "    query_firstsub = '?Group=GroupFirstSub'\n",
    "    get_save(url + query_firstsub, path_name + 'GroupFirstSub')\n",
    "\n",
    "    query_nsub = '?Group=GroupNsubs'\n",
    "    get_save(url + query_nsub, path_name + 'GroupNsubs')\n"
   ]
  },
  {
   "cell_type": "code",
   "execution_count": null,
   "id": "nuclear-fireplace",
   "metadata": {},
   "outputs": [],
   "source": []
  },
  {
   "cell_type": "code",
   "execution_count": 52,
   "id": "theoretical-focus",
   "metadata": {},
   "outputs": [],
   "source": [
    "sl = get(sim['files']['sublink'])"
   ]
  },
  {
   "cell_type": "code",
   "execution_count": 54,
   "id": "complete-characteristic",
   "metadata": {
    "scrolled": false
   },
   "outputs": [
    {
     "data": {
      "text/plain": [
       "{'files': ['http://www.tng-project.org/api/TNG50-1/files/sublink.0.hdf5',\n",
       "  'http://www.tng-project.org/api/TNG50-1/files/sublink.1.hdf5',\n",
       "  'http://www.tng-project.org/api/TNG50-1/files/sublink.2.hdf5',\n",
       "  'http://www.tng-project.org/api/TNG50-1/files/sublink.3.hdf5',\n",
       "  'http://www.tng-project.org/api/TNG50-1/files/sublink.4.hdf5',\n",
       "  'http://www.tng-project.org/api/TNG50-1/files/sublink.5.hdf5',\n",
       "  'http://www.tng-project.org/api/TNG50-1/files/sublink.6.hdf5',\n",
       "  'http://www.tng-project.org/api/TNG50-1/files/sublink.7.hdf5',\n",
       "  'http://www.tng-project.org/api/TNG50-1/files/sublink.8.hdf5',\n",
       "  'http://www.tng-project.org/api/TNG50-1/files/sublink.9.hdf5',\n",
       "  'http://www.tng-project.org/api/TNG50-1/files/sublink.10.hdf5']}"
      ]
     },
     "execution_count": 54,
     "metadata": {},
     "output_type": "execute_result"
    }
   ],
   "source": [
    "sl"
   ]
  },
  {
   "cell_type": "code",
   "execution_count": null,
   "id": "worst-chancellor",
   "metadata": {},
   "outputs": [],
   "source": []
  },
  {
   "cell_type": "code",
   "execution_count": null,
   "id": "solar-bride",
   "metadata": {},
   "outputs": [],
   "source": []
  },
  {
   "cell_type": "code",
   "execution_count": null,
   "id": "composed-singer",
   "metadata": {},
   "outputs": [],
   "source": []
  },
  {
   "cell_type": "code",
   "execution_count": null,
   "id": "corresponding-discipline",
   "metadata": {},
   "outputs": [],
   "source": []
  },
  {
   "cell_type": "code",
   "execution_count": 58,
   "id": "passive-niger",
   "metadata": {},
   "outputs": [],
   "source": [
    "mass_min = 10**14 / 1e10 * 0.704\n",
    "# mass_max = 10**12.1 / 1e10 * 0.704\n",
    "\n",
    "search_query = '?mass__gt=' + str(mass_min)"
   ]
  },
  {
   "cell_type": "code",
   "execution_count": null,
   "id": "superb-stupid",
   "metadata": {},
   "outputs": [],
   "source": [
    "for snap in range(100):\n",
    "    snap_url = f'http://www.tng-project.org/api/TNG50-1/snapshots/{snap}/subhalos/'\n",
    "\n",
    "    url = snap_url + search_query\n",
    "    \n",
    "    subhalos = get(url)\n",
    "    \n",
    "    print(subhalos['count'])"
   ]
  },
  {
   "cell_type": "code",
   "execution_count": null,
   "id": "changing-soviet",
   "metadata": {},
   "outputs": [],
   "source": [
    "#find halos whose masses are greater than 14.\n",
    "# link the halos in the direction of redshift\n",
    "# check gas, star-forming galxy distribution\n",
    "\n",
    "#reference: IllustriTNG-50 page"
   ]
  }
 ],
 "metadata": {
  "kernelspec": {
   "display_name": "Python 3",
   "language": "python",
   "name": "python3"
  },
  "language_info": {
   "codemirror_mode": {
    "name": "ipython",
    "version": 3
   },
   "file_extension": ".py",
   "mimetype": "text/x-python",
   "name": "python",
   "nbconvert_exporter": "python",
   "pygments_lexer": "ipython3",
   "version": "3.7.10"
  },
  "varInspector": {
   "cols": {
    "lenName": 16,
    "lenType": 16,
    "lenVar": 40
   },
   "kernels_config": {
    "python": {
     "delete_cmd_postfix": "",
     "delete_cmd_prefix": "del ",
     "library": "var_list.py",
     "varRefreshCmd": "print(var_dic_list())"
    },
    "r": {
     "delete_cmd_postfix": ") ",
     "delete_cmd_prefix": "rm(",
     "library": "var_list.r",
     "varRefreshCmd": "cat(var_dic_list()) "
    }
   },
   "types_to_exclude": [
    "module",
    "function",
    "builtin_function_or_method",
    "instance",
    "_Feature"
   ],
   "window_display": false
  }
 },
 "nbformat": 4,
 "nbformat_minor": 5
}
