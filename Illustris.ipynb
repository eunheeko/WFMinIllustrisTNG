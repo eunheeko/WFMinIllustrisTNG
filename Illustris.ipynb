{
 "cells": [
  {
   "cell_type": "code",
   "execution_count": 1,
   "id": "romance-store",
   "metadata": {},
   "outputs": [],
   "source": [
    "import requests\n",
    "import tqdm\n",
    "import h5py\n",
    "\n",
    "import os\n",
    "\n",
    "import matplotlib.pyplot as plt\n",
    "\n",
    "import time\n",
    "\n",
    "import multiprocessing as mp\n"
   ]
  },
  {
   "cell_type": "code",
   "execution_count": 2,
   "id": "conditional-bermuda",
   "metadata": {},
   "outputs": [],
   "source": [
    "baseUrl = 'http://www.tng-project.org/api/'\n",
    "headers = {\"api-key\":\"f96eabbae6f336408a63f875f8cce22f\"}"
   ]
  },
  {
   "cell_type": "code",
   "execution_count": 3,
   "id": "neutral-fighter",
   "metadata": {},
   "outputs": [],
   "source": [
    "def get(path, params=None):\n",
    "    # make HTTP GET request to path\n",
    "    r = requests.get(path, params=params, headers=headers)\n",
    "\n",
    "    # raise exception if response code is not HTTP SUCCESS (200)\n",
    "    r.raise_for_status()\n",
    "\n",
    "    if r.headers['content-type'] == 'application/json':\n",
    "        return r.json() # parse json responses automatically\n",
    "    return r\n",
    "\n",
    "def get_save(path, fname, params=None):\n",
    "    # make HTTP GET request to path\n",
    "    r = requests.get(path, params=params, headers=headers)\n",
    "\n",
    "    # raise exception if response code is not HTTP SUCCESS (200)\n",
    "    r.raise_for_status()\n",
    "\n",
    "#     if r.headers['content-type'] == 'application/json':\n",
    "#         return r.json() # parse json responses automatically\n",
    "\n",
    "    if 'content-disposition' in r.headers:\n",
    "#         filename = r.headers['content-disposition'].split(\"filename=\")[1]\n",
    "        with open(fname, 'wb') as f:\n",
    "            f.write(r.content)\n",
    "        return fname# return the filename string\n",
    "\n",
    "    return r"
   ]
  },
  {
   "cell_type": "code",
   "execution_count": 8,
   "id": "yellow-shopper",
   "metadata": {},
   "outputs": [],
   "source": [
    "sim = get(baseUrl + 'TNG50-1/')"
   ]
  },
  {
   "cell_type": "code",
   "execution_count": 9,
   "id": "exposed-stocks",
   "metadata": {},
   "outputs": [],
   "source": [
    "snaps = get(sim['snapshots'])"
   ]
  },
  {
   "cell_type": "code",
   "execution_count": 10,
   "id": "fallen-drain",
   "metadata": {},
   "outputs": [],
   "source": [
    "redshifts = [x['redshift'] for x in snaps]\n",
    "redshifts = np.flip(redshifts)"
   ]
  },
  {
   "cell_type": "code",
   "execution_count": 11,
   "id": "motivated-sustainability",
   "metadata": {},
   "outputs": [
    {
     "name": "stdout",
     "output_type": "stream",
     "text": [
      "num snapshots = 100\n",
      "num files snapshots = 680\n"
     ]
    }
   ],
   "source": [
    "num_snapshots = sim['num_snapshots']\n",
    "print(f'num snapshots = {num_snapshots}')\n",
    "\n",
    "num_files_snapshot = sim['num_files_snapshot']\n",
    "print(f'num files snapshots = {num_files_snapshot}')"
   ]
  },
  {
   "cell_type": "markdown",
   "id": "certain-combine",
   "metadata": {},
   "source": [
    "# Find the galaxy clusters at z = 0\n",
    "\n",
    "Find the galaxy clusters ($M_{200}$ $\\geq$ 1e13)"
   ]
  },
  {
   "cell_type": "code",
   "execution_count": 36,
   "id": "simplified-hybrid",
   "metadata": {},
   "outputs": [
    {
     "name": "stdout",
     "output_type": "stream",
     "text": [
      "initial Group_M_TopHat200 saved\n",
      "initial GroupFirstSub saved\n",
      "initial GroupNsubs saved\n"
     ]
    }
   ],
   "source": [
    "url = 'http://www.tng-project.org/api/TNG50-1/files/groupcat-99/'\n",
    "query_mass = '?Group=Group_M_TopHat200'\n",
    "\n",
    "get_save(url + query_mass, './initial/Group_M_TopHat200')\n",
    "print('initial Group_M_TopHat200 saved')\n",
    "\n",
    "query_firstsub = '?Group=GroupFirstSub'\n",
    "get_save(url + query_firstsub, './initial/GroupFirstSub')\n",
    "print('initial GroupFirstSub saved')\n",
    "\n",
    "\n",
    "query_nsub = '?Group=GroupNsubs'\n",
    "get_save(url + query_nsub, './initial/GroupNsubs')\n",
    "print('initial GroupNsubs saved')"
   ]
  },
  {
   "cell_type": "code",
   "execution_count": 37,
   "id": "piano-conservative",
   "metadata": {},
   "outputs": [],
   "source": [
    "with h5py.File('./initial/Group_M_TopHat200', 'r') as f:\n",
    "    M200 = f['Group']['Group_M_TopHat200'][:] * 1e10 / 0.704"
   ]
  },
  {
   "cell_type": "code",
   "execution_count": 39,
   "id": "extraordinary-vermont",
   "metadata": {},
   "outputs": [],
   "source": [
    "cl_index = np.where(M200 >= 1e13)[0]"
   ]
  },
  {
   "cell_type": "code",
   "execution_count": 47,
   "id": "banner-excess",
   "metadata": {},
   "outputs": [],
   "source": [
    "with h5py.File('./initial/GroupFirstSub', 'r') as f:\n",
    "    firstsub = f['Group']['GroupFirstSub'][:][cl_index]\n",
    "    \n",
    "with h5py.File('./initial/GroupNsubs', 'r') as f:\n",
    "    nsub = f['Group']['GroupNsubs'][:][cl_index]"
   ]
  },
  {
   "cell_type": "code",
   "execution_count": 58,
   "id": "emotional-design",
   "metadata": {
    "scrolled": true
   },
   "outputs": [
    {
     "name": "stderr",
     "output_type": "stream",
     "text": [
      "100%|██████████| 100/100 [00:00<00:00, 1566.43it/s]\n"
     ]
    }
   ],
   "source": [
    "if not os.path.exists('./snaps/'):\n",
    "    \n",
    "    os.mkdir('./snaps/')\n",
    "    \n",
    "for i in tqdm.trange(100):\n",
    "    \n",
    "    path_name = f'./snaps/snap{i}'\n",
    "    \n",
    "    if not os.path.exists(path_name):\n",
    "        os.mkdir(path_name)"
   ]
  },
  {
   "cell_type": "code",
   "execution_count": 60,
   "id": "flying-uruguay",
   "metadata": {},
   "outputs": [
    {
     "name": "stderr",
     "output_type": "stream",
     "text": [
      "100%|██████████| 100/100 [3:42:23<00:00, 133.44s/it] \n"
     ]
    }
   ],
   "source": [
    "for i in tqdm.trange(100):\n",
    "    \n",
    "    url = f'http://www.tng-project.org/api/TNG50-1/files/groupcat-{i}/'\n",
    "    path_name = f'./snaps/snap{i}/'\n",
    "    \n",
    "    query_mass = '?Group=Group_M_TopHat200'\n",
    "    get_save(url + query_mass, path_name + 'Group_M_TopHat200')\n",
    "\n",
    "    query_firstsub = '?Group=GroupFirstSub'\n",
    "    get_save(url + query_firstsub, path_name + 'GroupFirstSub')\n",
    "\n",
    "    query_nsub = '?Group=GroupNsubs'\n",
    "    get_save(url + query_nsub, path_name + 'GroupNsubs')\n"
   ]
  },
  {
   "cell_type": "code",
   "execution_count": 61,
   "id": "proprietary-rebel",
   "metadata": {
    "scrolled": true
   },
   "outputs": [
    {
     "data": {
      "text/plain": [
       "array([ 0,  1,  2,  3,  4,  5,  6,  7,  8,  9, 10, 11, 12, 13, 14, 15, 16,\n",
       "       17, 18, 19, 20, 21, 22, 23, 24, 25])"
      ]
     },
     "execution_count": 61,
     "metadata": {},
     "output_type": "execute_result"
    }
   ],
   "source": [
    "cl_index "
   ]
  },
  {
   "cell_type": "markdown",
   "id": "atlantic-soldier",
   "metadata": {},
   "source": [
    "# Find the progenitor cluster"
   ]
  },
  {
   "cell_type": "code",
   "execution_count": 252,
   "id": "aboriginal-estonia",
   "metadata": {},
   "outputs": [
    {
     "data": {
      "text/plain": [
       "array([     0,  63864,  96762, 117250, 143880, 167392, 184931, 198182,\n",
       "       208811, 220595, 229933, 242788, 253861, 264883, 275545, 282779,\n",
       "       289385, 294866, 300903, 307485, 313692, 319730, 324123, 329508,\n",
       "       333424, 338446], dtype=int32)"
      ]
     },
     "execution_count": 252,
     "metadata": {},
     "output_type": "execute_result"
    }
   ],
   "source": [
    "firstsub[cl_index] # Main progenitor of FOF group at z = 0"
   ]
  },
  {
   "cell_type": "code",
   "execution_count": 262,
   "id": "given-pharmacy",
   "metadata": {
    "scrolled": true
   },
   "outputs": [
    {
     "name": "stderr",
     "output_type": "stream",
     "text": [
      "100%|██████████| 26/26 [00:00<00:00, 1235.24it/s]\n"
     ]
    }
   ],
   "source": [
    "for cl_id in tqdm.tqdm(cl_index):\n",
    "    \n",
    "    path = f'./groups/grp{cl_id:02d}'\n",
    "    \n",
    "    if not os.path.exists(path):\n",
    "        os.mkdir(path)"
   ]
  },
  {
   "cell_type": "markdown",
   "id": "thousand-hindu",
   "metadata": {},
   "source": [
    "## Find main progenitor branch and Check the evolution of halo group\n",
    "\n",
    "Discussion Forum => refer \"Halo Evolution\""
   ]
  },
  {
   "cell_type": "code",
   "execution_count": 263,
   "id": "thermal-medicaid",
   "metadata": {
    "scrolled": true
   },
   "outputs": [
    {
     "name": "stderr",
     "output_type": "stream",
     "text": [
      "100%|██████████| 26/26 [45:57<00:00, 106.05s/it]\n"
     ]
    }
   ],
   "source": [
    "# find main progenitor branch\n",
    "for cl_id in tqdm.tqdm(cl_index):\n",
    "    \n",
    "    main_sh = firstsub[cl_id]\n",
    "    \n",
    "    url = f'http://www.tng-project.org/api/TNG50-1/snapshots/99/subhalos/' + str(main_sh) + '/lhalotree/mpb.hdf5'\n",
    "    \n",
    "    fname = f'./groups/grp{cl_id:02d}/lhalompb'\n",
    "    \n",
    "    fname = get_save(url, fname)"
   ]
  },
  {
   "cell_type": "code",
   "execution_count": 265,
   "id": "amended-isolation",
   "metadata": {},
   "outputs": [
    {
     "name": "stderr",
     "output_type": "stream",
     "text": [
      "100%|██████████| 26/26 [00:00<00:00, 55.65it/s]\n"
     ]
    }
   ],
   "source": [
    "#check 'SnapNum' and 'SubhaloGrNr'\n",
    "SnapNums = []\n",
    "SubhaloGrNrs = []\n",
    "\n",
    "for cl_id in tqdm.tqdm(cl_index):\n",
    "    \n",
    "#     main_sh = firstsub[cl_id]\n",
    "#     url = f'http://www.tng-project.org/api/TNG50-1/snapshots/99/subhalos/' + str(main_sh) + '/lhalotree/mpb.hdf5'\n",
    "    \n",
    "    fname = f'./groups/grp{cl_id:02d}/lhalompb'\n",
    "    \n",
    "    with h5py.File(fname, 'r') as f:\n",
    "        SnapNums.append(f['SnapNum'][:])\n",
    "        SubhaloGrNrs.append(f['SubhaloGrNr'][:])"
   ]
  },
  {
   "cell_type": "code",
   "execution_count": 123,
   "id": "affected-allah",
   "metadata": {
    "code_folding": []
   },
   "outputs": [
    {
     "name": "stderr",
     "output_type": "stream",
     "text": [
      "100%|██████████| 1/1 [00:14<00:00, 14.14s/it]\n"
     ]
    }
   ],
   "source": [
    "Mhalos = []\n",
    "\n",
    "for cl_id in tqdm.tqdm(cl_index[:1]):    \n",
    "    \n",
    "    Mhalo_cl = []\n",
    "    \n",
    "    for i, snap in enumerate(SnapNums[cl_id]):\n",
    "        fname = f'./snaps/snap{snap}/Group_M_TopHat200'\n",
    "        \n",
    "        with h5py.File(fname, 'r') as f:\n",
    "            m200 = f['Group']['Group_M_TopHat200'][:][SubhaloGrNrs[cl_id][i]]\n",
    "            \n",
    "        Mhalo_cl.append(m200)\n",
    "        \n",
    "    Mhalos.append(np.array(Mhalo_cl))\n",
    "    \n",
    "Mhalos = np.array(Mhalos)"
   ]
  },
  {
   "cell_type": "code",
   "execution_count": 124,
   "id": "express-hammer",
   "metadata": {},
   "outputs": [],
   "source": [
    "Mhalos = Mhalos * 1e10 / 0.704"
   ]
  },
  {
   "cell_type": "code",
   "execution_count": 125,
   "id": "correct-indonesia",
   "metadata": {
    "scrolled": false
   },
   "outputs": [
    {
     "data": {
      "image/png": "[encoded data removed]",
      "text/plain": [
       "<Figure size 432x288 with 1 Axes>"
      ]
     },
     "metadata": {
      "needs_background": "light"
     },
     "output_type": "display_data"
    }
   ],
   "source": [
    "for i in range(1):\n",
    "    plt.plot(SnapNums[i], Mhalos[i])\n",
    "    \n",
    "plt.yscale('log')"
   ]
  },
  {
   "cell_type": "code",
   "execution_count": 128,
   "id": "ancient-housing",
   "metadata": {},
   "outputs": [
    {
     "data": {
      "text/plain": [
       "array([14.333331 , 14.332258 , 14.3288965, 14.32464  , 14.324173 ,\n",
       "       14.324899 , 14.326714 , 14.328746 , 14.332033 , 14.336003 ,\n",
       "       14.34371  , 14.352025 , 14.356886 , 14.360477 , 14.360439 ,\n",
       "       14.354637 , 14.349657 , 14.344896 , 14.337924 , 14.330525 ,\n",
       "       14.326482 , 14.300474 , 14.310211 , 14.298566 , 14.281098 ,\n",
       "       14.264148 , 14.206201 , 14.100277 , 14.0698595, 14.03882  ,\n",
       "       14.031725 , 14.030445 , 14.030041 , 14.027892 , 14.032872 ,\n",
       "       14.038077 , 14.036871 , 14.0321045, 14.022692 , 14.013137 ,\n",
       "       14.003033 , 13.988409 , 13.977542 , 13.957794 , 13.93477  ,\n",
       "       13.895257 , 13.845423 , 13.800451 , 13.749428 , 13.705341 ,\n",
       "       13.677596 , 13.651607 , 13.636085 , 13.611134 , 13.574371 ,\n",
       "       13.564708 , 13.5539   , 13.545881 , 13.530735 , 13.509842 ,\n",
       "       13.496352 , 13.468048 , 13.445096 , 13.370831 , 13.343598 ,\n",
       "       13.315887 , 13.272157 , 13.240857 , 13.212638 , 13.18712  ,\n",
       "       13.127692 , 13.064882 , 12.990174 , 12.91625  , 12.791245 ,\n",
       "       12.7045355, 12.650868 , 12.577281 , 12.449506 , 12.364579 ,\n",
       "       12.134168 , 11.987939 , 11.794369 , 11.680679 , 11.639029 ,\n",
       "       11.589772 , 11.566662 , 11.451823 , 11.289995 , 11.189314 ,\n",
       "       10.987615 , 10.714173 , 10.582859 , 10.015158 ,  9.86348  ,\n",
       "        9.754008 ,  9.567637 ,  9.412414 ,  8.8139105,  7.4342904],\n",
       "      dtype=float32)"
      ]
     },
     "execution_count": 128,
     "metadata": {},
     "output_type": "execute_result"
    }
   ],
   "source": [
    "np.log10(Mhalos[0])"
   ]
  },
  {
   "cell_type": "markdown",
   "id": "neural-friendship",
   "metadata": {},
   "source": [
    "# Download the surrounding subhalos (within 10Mpc)"
   ]
  },
  {
   "cell_type": "code",
   "execution_count": 7,
   "id": "industrial-apache",
   "metadata": {},
   "outputs": [
    {
     "name": "stderr",
     "output_type": "stream",
     "text": [
      "100%|██████████| 100/100 [1:42:07<00:00, 61.28s/it]\n"
     ]
    }
   ],
   "source": [
    "for i in tqdm.trange(100):\n",
    "    \n",
    "    url = f'http://www.tng-project.org/api/TNG50-1/files/groupcat-{i}/'\n",
    "    path_name = f'./snaps/snap{i}/'\n",
    "    \n",
    "    query_pos = '?Group=GroupPos'\n",
    "    get_save(url + query_pos, path_name + 'GroupPos')"
   ]
  },
  {
   "cell_type": "code",
   "execution_count": 17,
   "id": "wrong-murder",
   "metadata": {},
   "outputs": [],
   "source": [
    "cl_index = np.array([ 0,  1,  2,  3,  4,  5,  6,  7,  8,  9, 10, 11, 12, 13, 14, 15, 16,\n",
    "       17, 18, 19, 20, 21, 22, 23, 24, 25])"
   ]
  },
  {
   "cell_type": "code",
   "execution_count": 18,
   "id": "industrial-office",
   "metadata": {},
   "outputs": [
    {
     "name": "stderr",
     "output_type": "stream",
     "text": [
      "100%|██████████| 26/26 [00:00<00:00, 482.25it/s]\n"
     ]
    }
   ],
   "source": [
    "#check 'SnapNum' and 'SubhaloGrNr'\n",
    "SnapNums = []\n",
    "SubhaloGrNrs = []\n",
    "\n",
    "for cl_id in tqdm.tqdm(cl_index):\n",
    "    \n",
    "#     main_sh = firstsub[cl_id]\n",
    "#     url = f'http://www.tng-project.org/api/TNG50-1/snapshots/99/subhalos/' + str(main_sh) + '/lhalotree/mpb.hdf5'\n",
    "    \n",
    "    fname = f'./groups/grp{cl_id:02d}/lhalompb'\n",
    "    \n",
    "    with h5py.File(fname, 'r') as f:\n",
    "        SnapNums.append(f['SnapNum'][:])\n",
    "        SubhaloGrNrs.append(f['SubhaloGrNr'][:])"
   ]
  },
  {
   "cell_type": "code",
   "execution_count": 11,
   "id": "authentic-innocent",
   "metadata": {},
   "outputs": [],
   "source": [
    "# SnapNums"
   ]
  },
  {
   "cell_type": "code",
   "execution_count": 19,
   "id": "entertaining-relation",
   "metadata": {
    "code_folding": []
   },
   "outputs": [],
   "source": [
    "# GroupPos = []\n",
    "\n",
    "# for cl_id in tqdm.tqdm(cl_index):    \n",
    "    \n",
    "#     GroupPos_cl = []\n",
    "    \n",
    "#     for i, snap in enumerate(SnapNums[cl_id]):\n",
    "#         fname = f'./snaps/snap{snap}/GroupPos'\n",
    "        \n",
    "#         with h5py.File(fname, 'r') as f:\n",
    "#             pos = f['Group']['GroupPos'][:][SubhaloGrNrs[cl_id][i]]\n",
    "            \n",
    "#         GroupPos_cl.append(pos)\n",
    "        \n",
    "#     GroupPos.append(np.array(GroupPos_cl))\n",
    "    \n",
    "# GroupPos = np.array(GroupPos)\n",
    "\n",
    "\n",
    "GroupPos_cl = []\n",
    "for i, snap in enumerate(SnapNums[0]):\n",
    "    fname = f'./snaps/snap{snap}/GroupPos'\n",
    "\n",
    "    with h5py.File(fname, 'r') as f:\n",
    "        pos = f['Group']['GroupPos'][:][SubhaloGrNrs[0][i]]\n",
    "\n",
    "    GroupPos_cl.append(pos)\n",
    "    \n",
    "GroupPos_cl = np.array(GroupPos_cl)"
   ]
  },
  {
   "cell_type": "code",
   "execution_count": 8,
   "id": "recreational-congo",
   "metadata": {},
   "outputs": [
    {
     "data": {
      "text/plain": [
       "array([99, 98, 97, 96, 95, 94, 93, 92, 91, 90, 89, 88, 87, 86, 85, 84, 83,\n",
       "       82, 81, 80, 79, 78, 77, 76, 75, 74, 73, 72, 71, 70, 69, 68, 67, 66,\n",
       "       65, 64, 63, 62, 61, 60, 59, 58, 57, 56, 55, 54, 53, 52, 51, 50, 49,\n",
       "       48, 47, 46, 45, 44, 43, 42, 41, 40, 39, 38, 37, 36, 35, 34, 33, 32,\n",
       "       31, 30, 29, 28, 27, 26, 25, 24, 23, 22, 21, 20, 19, 18, 17, 16, 15,\n",
       "       14, 13, 12, 11, 10,  9,  8,  7,  6,  5,  4,  3,  2,  1,  0],\n",
       "      dtype=int32)"
      ]
     },
     "execution_count": 8,
     "metadata": {},
     "output_type": "execute_result"
    }
   ],
   "source": [
    "SnapNums[0]"
   ]
  },
  {
   "cell_type": "code",
   "execution_count": 16,
   "id": "sixth-explorer",
   "metadata": {},
   "outputs": [
    {
     "name": "stderr",
     "output_type": "stream",
     "text": [
      "100%|██████████| 100/100 [00:00<00:00, 339.33it/s]\n"
     ]
    }
   ],
   "source": [
    "path = '/data3/ehko/illustris/snaps/'\n",
    "\n",
    "for snap in tqdm.trange(100):\n",
    "\n",
    "    os.mkdir(path + f'snap{snap:02d}')"
   ]
  },
  {
   "cell_type": "code",
   "execution_count": 12,
   "id": "going-traveler",
   "metadata": {},
   "outputs": [],
   "source": [
    "url = f'http://www.tng-project.org/api/TNG50-1/snapshots/99/subhalos/' \n",
    "\n",
    "scale_factor = 1 / (1 + redshifts)\n",
    "little_h = 0.704\n",
    "\n",
    "\n",
    "# GroupPos_cl *= scale_factor[0] / little_h # ckpc/h -> physical kpc"
   ]
  },
  {
   "cell_type": "code",
   "execution_count": 31,
   "id": "nominated-sunrise",
   "metadata": {},
   "outputs": [],
   "source": [
    "# redshifts"
   ]
  },
  {
   "cell_type": "code",
   "execution_count": 32,
   "id": "sound-banking",
   "metadata": {},
   "outputs": [],
   "source": [
    "distance = 10000 / scale_factor[0] * little_h # physcial kpc -> ckpc/h"
   ]
  },
  {
   "cell_type": "code",
   "execution_count": 33,
   "id": "honest-wilderness",
   "metadata": {},
   "outputs": [
    {
     "data": {
      "text/plain": [
       "7040.000000000001"
      ]
     },
     "execution_count": 33,
     "metadata": {},
     "output_type": "execute_result"
    }
   ],
   "source": [
    "distance"
   ]
  },
  {
   "cell_type": "code",
   "execution_count": 34,
   "id": "assumed-absence",
   "metadata": {},
   "outputs": [
    {
     "data": {
      "text/plain": [
       "14.816729656120478"
      ]
     },
     "execution_count": 34,
     "metadata": {},
     "output_type": "execute_result"
    }
   ],
   "source": [
    "1/ scale_factor[-1] * little_h"
   ]
  },
  {
   "cell_type": "code",
   "execution_count": 37,
   "id": "latest-handbook",
   "metadata": {},
   "outputs": [],
   "source": [
    "search_query = f'?pos_x__gt={GroupPos_cl[0][0] - distance}&pos_x__lt={GroupPos_cl[0][0] + distance}&pos_y__gt={GroupPos_cl[0][1] - distance}&pos_y__lt={GroupPos_cl[0][1] + distance}&pos_z__gt={GroupPos_cl[0][2] - distance}&pos_z__lt={GroupPos_cl[0][2] + distance}'\n",
    "\n",
    "# search_query = f'?pos_x__gt={GroupPos_cl[0][0] - distance}&pos_x__lt={GroupPos_cl[0][0] + distance}&pos_y__gt={GroupPos_cl[0][1] - distance}&pos_y__lt={GroupPos_cl[0][1] + distance}'"
   ]
  },
  {
   "cell_type": "code",
   "execution_count": 38,
   "id": "violent-iceland",
   "metadata": {},
   "outputs": [
    {
     "data": {
      "text/plain": [
       "{'count': 675706,\n",
       " 'next': 'http://www.tng-project.org/api/TNG50-1/snapshots/99/subhalos/?limit=100&offset=100&pos_x__gt=267.2407226562491&pos_x__lt=14347.24072265625&pos_y__gt=17510.361328125&pos_y__lt=31590.361328125&pos_z__gt=14262.580078125&pos_z__lt=28342.580078125',\n",
       " 'previous': None,\n",
       " 'results': [{'id': 0,\n",
       "   'sfr': 1.15783,\n",
       "   'mass_log_msun': 14.292666717121172,\n",
       "   'url': 'http://www.tng-project.org/api/TNG50-1/snapshots/99/subhalos/0/'},\n",
       "  {'id': 1,\n",
       "   'sfr': 0.0,\n",
       "   'mass_log_msun': 12.398219446940564,\n",
       "   'url': 'http://www.tng-project.org/api/TNG50-1/snapshots/99/subhalos/1/'},\n",
       "  {'id': 2,\n",
       "   'sfr': 0.000985458,\n",
       "   'mass_log_msun': 12.365220400807692,\n",
       "   'url': 'http://www.tng-project.org/api/TNG50-1/snapshots/99/subhalos/2/'},\n",
       "  {'id': 3,\n",
       "   'sfr': 0.0,\n",
       "   'mass_log_msun': 11.697131232640892,\n",
       "   'url': 'http://www.tng-project.org/api/TNG50-1/snapshots/99/subhalos/3/'},\n",
       "  {'id': 4,\n",
       "   'sfr': 0.0,\n",
       "   'mass_log_msun': 11.441590549818002,\n",
       "   'url': 'http://www.tng-project.org/api/TNG50-1/snapshots/99/subhalos/4/'},\n",
       "  {'id': 5,\n",
       "   'sfr': 0.0,\n",
       "   'mass_log_msun': 11.590060670585709,\n",
       "   'url': 'http://www.tng-project.org/api/TNG50-1/snapshots/99/subhalos/5/'},\n",
       "  {'id': 6,\n",
       "   'sfr': 0.0,\n",
       "   'mass_log_msun': 11.362574403366324,\n",
       "   'url': 'http://www.tng-project.org/api/TNG50-1/snapshots/99/subhalos/6/'},\n",
       "  {'id': 7,\n",
       "   'sfr': 0.0,\n",
       "   'mass_log_msun': 11.58436361306106,\n",
       "   'url': 'http://www.tng-project.org/api/TNG50-1/snapshots/99/subhalos/7/'},\n",
       "  {'id': 8,\n",
       "   'sfr': 3.97566,\n",
       "   'mass_log_msun': 11.663878344401247,\n",
       "   'url': 'http://www.tng-project.org/api/TNG50-1/snapshots/99/subhalos/8/'},\n",
       "  {'id': 9,\n",
       "   'sfr': 0.0,\n",
       "   'mass_log_msun': 11.466181759308201,\n",
       "   'url': 'http://www.tng-project.org/api/TNG50-1/snapshots/99/subhalos/9/'},\n",
       "  {'id': 10,\n",
       "   'sfr': 0.0,\n",
       "   'mass_log_msun': 11.476428292895994,\n",
       "   'url': 'http://www.tng-project.org/api/TNG50-1/snapshots/99/subhalos/10/'},\n",
       "  {'id': 11,\n",
       "   'sfr': 1.0581,\n",
       "   'mass_log_msun': 11.442139865791805,\n",
       "   'url': 'http://www.tng-project.org/api/TNG50-1/snapshots/99/subhalos/11/'},\n",
       "  {'id': 12,\n",
       "   'sfr': 0.245181,\n",
       "   'mass_log_msun': 11.378420433440773,\n",
       "   'url': 'http://www.tng-project.org/api/TNG50-1/snapshots/99/subhalos/12/'},\n",
       "  {'id': 13,\n",
       "   'sfr': 0.0,\n",
       "   'mass_log_msun': 11.485376845118203,\n",
       "   'url': 'http://www.tng-project.org/api/TNG50-1/snapshots/99/subhalos/13/'},\n",
       "  {'id': 14,\n",
       "   'sfr': 0.0,\n",
       "   'mass_log_msun': 11.252714756342531,\n",
       "   'url': 'http://www.tng-project.org/api/TNG50-1/snapshots/99/subhalos/14/'},\n",
       "  {'id': 15,\n",
       "   'sfr': 0.0,\n",
       "   'mass_log_msun': 11.059845150867865,\n",
       "   'url': 'http://www.tng-project.org/api/TNG50-1/snapshots/99/subhalos/15/'},\n",
       "  {'id': 16,\n",
       "   'sfr': 0.0,\n",
       "   'mass_log_msun': 10.987748178050905,\n",
       "   'url': 'http://www.tng-project.org/api/TNG50-1/snapshots/99/subhalos/16/'},\n",
       "  {'id': 17,\n",
       "   'sfr': 0.599846,\n",
       "   'mass_log_msun': 11.364076889667354,\n",
       "   'url': 'http://www.tng-project.org/api/TNG50-1/snapshots/99/subhalos/17/'},\n",
       "  {'id': 18,\n",
       "   'sfr': 0.257232,\n",
       "   'mass_log_msun': 11.194284461149254,\n",
       "   'url': 'http://www.tng-project.org/api/TNG50-1/snapshots/99/subhalos/18/'},\n",
       "  {'id': 19,\n",
       "   'sfr': 1.38977,\n",
       "   'mass_log_msun': 11.296972042171662,\n",
       "   'url': 'http://www.tng-project.org/api/TNG50-1/snapshots/99/subhalos/19/'},\n",
       "  {'id': 20,\n",
       "   'sfr': 0.83169,\n",
       "   'mass_log_msun': 11.191071457616623,\n",
       "   'url': 'http://www.tng-project.org/api/TNG50-1/snapshots/99/subhalos/20/'},\n",
       "  {'id': 21,\n",
       "   'sfr': 0.0,\n",
       "   'mass_log_msun': 10.639259391184757,\n",
       "   'url': 'http://www.tng-project.org/api/TNG50-1/snapshots/99/subhalos/21/'},\n",
       "  {'id': 22,\n",
       "   'sfr': 0.0,\n",
       "   'mass_log_msun': 11.147933608520209,\n",
       "   'url': 'http://www.tng-project.org/api/TNG50-1/snapshots/99/subhalos/22/'},\n",
       "  {'id': 23,\n",
       "   'sfr': 0.0,\n",
       "   'mass_log_msun': 11.10559716720181,\n",
       "   'url': 'http://www.tng-project.org/api/TNG50-1/snapshots/99/subhalos/23/'},\n",
       "  {'id': 24,\n",
       "   'sfr': 0.0,\n",
       "   'mass_log_msun': 11.12537463944955,\n",
       "   'url': 'http://www.tng-project.org/api/TNG50-1/snapshots/99/subhalos/24/'},\n",
       "  {'id': 25,\n",
       "   'sfr': 0.0,\n",
       "   'mass_log_msun': 10.835394713333216,\n",
       "   'url': 'http://www.tng-project.org/api/TNG50-1/snapshots/99/subhalos/25/'},\n",
       "  {'id': 26,\n",
       "   'sfr': 0.0,\n",
       "   'mass_log_msun': 10.983093224930172,\n",
       "   'url': 'http://www.tng-project.org/api/TNG50-1/snapshots/99/subhalos/26/'},\n",
       "  {'id': 27,\n",
       "   'sfr': 0.0,\n",
       "   'mass_log_msun': 10.959940845945322,\n",
       "   'url': 'http://www.tng-project.org/api/TNG50-1/snapshots/99/subhalos/27/'},\n",
       "  {'id': 28,\n",
       "   'sfr': 0.0520893,\n",
       "   'mass_log_msun': 11.139415653474767,\n",
       "   'url': 'http://www.tng-project.org/api/TNG50-1/snapshots/99/subhalos/28/'},\n",
       "  {'id': 29,\n",
       "   'sfr': 0.445549,\n",
       "   'mass_log_msun': 11.086973190625,\n",
       "   'url': 'http://www.tng-project.org/api/TNG50-1/snapshots/99/subhalos/29/'},\n",
       "  {'id': 30,\n",
       "   'sfr': 0.0,\n",
       "   'mass_log_msun': 11.024380094328505,\n",
       "   'url': 'http://www.tng-project.org/api/TNG50-1/snapshots/99/subhalos/30/'},\n",
       "  {'id': 31,\n",
       "   'sfr': 0.0,\n",
       "   'mass_log_msun': 10.773954139874803,\n",
       "   'url': 'http://www.tng-project.org/api/TNG50-1/snapshots/99/subhalos/31/'},\n",
       "  {'id': 32,\n",
       "   'sfr': 0.0,\n",
       "   'mass_log_msun': 10.683832696384945,\n",
       "   'url': 'http://www.tng-project.org/api/TNG50-1/snapshots/99/subhalos/32/'},\n",
       "  {'id': 33,\n",
       "   'sfr': 0.0,\n",
       "   'mass_log_msun': 10.804133594785544,\n",
       "   'url': 'http://www.tng-project.org/api/TNG50-1/snapshots/99/subhalos/33/'},\n",
       "  {'id': 34,\n",
       "   'sfr': 0.0,\n",
       "   'mass_log_msun': 10.828172029206954,\n",
       "   'url': 'http://www.tng-project.org/api/TNG50-1/snapshots/99/subhalos/34/'},\n",
       "  {'id': 35,\n",
       "   'sfr': 0.0,\n",
       "   'mass_log_msun': 10.68755818581088,\n",
       "   'url': 'http://www.tng-project.org/api/TNG50-1/snapshots/99/subhalos/35/'},\n",
       "  {'id': 36,\n",
       "   'sfr': 0.0,\n",
       "   'mass_log_msun': 10.362977613183292,\n",
       "   'url': 'http://www.tng-project.org/api/TNG50-1/snapshots/99/subhalos/36/'},\n",
       "  {'id': 37,\n",
       "   'sfr': 0.40965,\n",
       "   'mass_log_msun': 10.961560506463103,\n",
       "   'url': 'http://www.tng-project.org/api/TNG50-1/snapshots/99/subhalos/37/'},\n",
       "  {'id': 38,\n",
       "   'sfr': 0.0,\n",
       "   'mass_log_msun': 10.52232446430502,\n",
       "   'url': 'http://www.tng-project.org/api/TNG50-1/snapshots/99/subhalos/38/'},\n",
       "  {'id': 39,\n",
       "   'sfr': 0.0,\n",
       "   'mass_log_msun': 10.606166124081666,\n",
       "   'url': 'http://www.tng-project.org/api/TNG50-1/snapshots/99/subhalos/39/'},\n",
       "  {'id': 40,\n",
       "   'sfr': 0.0,\n",
       "   'mass_log_msun': 10.637747282793685,\n",
       "   'url': 'http://www.tng-project.org/api/TNG50-1/snapshots/99/subhalos/40/'},\n",
       "  {'id': 41,\n",
       "   'sfr': 0.0,\n",
       "   'mass_log_msun': 10.464847230256126,\n",
       "   'url': 'http://www.tng-project.org/api/TNG50-1/snapshots/99/subhalos/41/'},\n",
       "  {'id': 42,\n",
       "   'sfr': 0.0,\n",
       "   'mass_log_msun': 10.32043883262419,\n",
       "   'url': 'http://www.tng-project.org/api/TNG50-1/snapshots/99/subhalos/42/'},\n",
       "  {'id': 43,\n",
       "   'sfr': 0.0,\n",
       "   'mass_log_msun': 10.895394485950323,\n",
       "   'url': 'http://www.tng-project.org/api/TNG50-1/snapshots/99/subhalos/43/'},\n",
       "  {'id': 44,\n",
       "   'sfr': 1.05687,\n",
       "   'mass_log_msun': 10.863090941221762,\n",
       "   'url': 'http://www.tng-project.org/api/TNG50-1/snapshots/99/subhalos/44/'},\n",
       "  {'id': 45,\n",
       "   'sfr': 0.18227,\n",
       "   'mass_log_msun': 10.941824837325239,\n",
       "   'url': 'http://www.tng-project.org/api/TNG50-1/snapshots/99/subhalos/45/'},\n",
       "  {'id': 46,\n",
       "   'sfr': 0.0,\n",
       "   'mass_log_msun': 10.83684305641971,\n",
       "   'url': 'http://www.tng-project.org/api/TNG50-1/snapshots/99/subhalos/46/'},\n",
       "  {'id': 47,\n",
       "   'sfr': 0.0,\n",
       "   'mass_log_msun': 10.309335906957301,\n",
       "   'url': 'http://www.tng-project.org/api/TNG50-1/snapshots/99/subhalos/47/'},\n",
       "  {'id': 48,\n",
       "   'sfr': 0.0915854,\n",
       "   'mass_log_msun': 10.97123105024378,\n",
       "   'url': 'http://www.tng-project.org/api/TNG50-1/snapshots/99/subhalos/48/'},\n",
       "  {'id': 49,\n",
       "   'sfr': 0.0,\n",
       "   'mass_log_msun': 10.883807233980857,\n",
       "   'url': 'http://www.tng-project.org/api/TNG50-1/snapshots/99/subhalos/49/'},\n",
       "  {'id': 50,\n",
       "   'sfr': 0.0,\n",
       "   'mass_log_msun': 10.357681136957769,\n",
       "   'url': 'http://www.tng-project.org/api/TNG50-1/snapshots/99/subhalos/50/'},\n",
       "  {'id': 51,\n",
       "   'sfr': 0.0,\n",
       "   'mass_log_msun': 10.703680953329323,\n",
       "   'url': 'http://www.tng-project.org/api/TNG50-1/snapshots/99/subhalos/51/'},\n",
       "  {'id': 52,\n",
       "   'sfr': 0.0,\n",
       "   'mass_log_msun': 10.57773562823524,\n",
       "   'url': 'http://www.tng-project.org/api/TNG50-1/snapshots/99/subhalos/52/'},\n",
       "  {'id': 53,\n",
       "   'sfr': 0.0660767,\n",
       "   'mass_log_msun': 10.897932124656355,\n",
       "   'url': 'http://www.tng-project.org/api/TNG50-1/snapshots/99/subhalos/53/'},\n",
       "  {'id': 54,\n",
       "   'sfr': 0.0,\n",
       "   'mass_log_msun': 10.657400847188407,\n",
       "   'url': 'http://www.tng-project.org/api/TNG50-1/snapshots/99/subhalos/54/'},\n",
       "  {'id': 55,\n",
       "   'sfr': 0.0,\n",
       "   'mass_log_msun': 10.47920841862766,\n",
       "   'url': 'http://www.tng-project.org/api/TNG50-1/snapshots/99/subhalos/55/'},\n",
       "  {'id': 56,\n",
       "   'sfr': 0.105553,\n",
       "   'mass_log_msun': 10.781317497065237,\n",
       "   'url': 'http://www.tng-project.org/api/TNG50-1/snapshots/99/subhalos/56/'},\n",
       "  {'id': 57,\n",
       "   'sfr': 0.141186,\n",
       "   'mass_log_msun': 10.86726318621075,\n",
       "   'url': 'http://www.tng-project.org/api/TNG50-1/snapshots/99/subhalos/57/'},\n",
       "  {'id': 58,\n",
       "   'sfr': 0.0,\n",
       "   'mass_log_msun': 10.198611638116953,\n",
       "   'url': 'http://www.tng-project.org/api/TNG50-1/snapshots/99/subhalos/58/'},\n",
       "  {'id': 59,\n",
       "   'sfr': 0.0,\n",
       "   'mass_log_msun': 10.209072337267681,\n",
       "   'url': 'http://www.tng-project.org/api/TNG50-1/snapshots/99/subhalos/59/'},\n",
       "  {'id': 60,\n",
       "   'sfr': 0.0,\n",
       "   'mass_log_msun': 10.736211773467629,\n",
       "   'url': 'http://www.tng-project.org/api/TNG50-1/snapshots/99/subhalos/60/'},\n",
       "  {'id': 61,\n",
       "   'sfr': 0.0,\n",
       "   'mass_log_msun': 10.4100558417464,\n",
       "   'url': 'http://www.tng-project.org/api/TNG50-1/snapshots/99/subhalos/61/'},\n",
       "  {'id': 62,\n",
       "   'sfr': 0.0,\n",
       "   'mass_log_msun': 10.82007884379749,\n",
       "   'url': 'http://www.tng-project.org/api/TNG50-1/snapshots/99/subhalos/62/'},\n",
       "  {'id': 63,\n",
       "   'sfr': 0.294705,\n",
       "   'mass_log_msun': 10.735102927365812,\n",
       "   'url': 'http://www.tng-project.org/api/TNG50-1/snapshots/99/subhalos/63/'},\n",
       "  {'id': 64,\n",
       "   'sfr': 0.0,\n",
       "   'mass_log_msun': 10.422306162003625,\n",
       "   'url': 'http://www.tng-project.org/api/TNG50-1/snapshots/99/subhalos/64/'},\n",
       "  {'id': 65,\n",
       "   'sfr': 0.0,\n",
       "   'mass_log_msun': 10.712939848019275,\n",
       "   'url': 'http://www.tng-project.org/api/TNG50-1/snapshots/99/subhalos/65/'},\n",
       "  {'id': 66,\n",
       "   'sfr': 0.0,\n",
       "   'mass_log_msun': 10.6686563134668,\n",
       "   'url': 'http://www.tng-project.org/api/TNG50-1/snapshots/99/subhalos/66/'},\n",
       "  {'id': 67,\n",
       "   'sfr': 1.05823,\n",
       "   'mass_log_msun': 10.381057229466487,\n",
       "   'url': 'http://www.tng-project.org/api/TNG50-1/snapshots/99/subhalos/67/'},\n",
       "  {'id': 68,\n",
       "   'sfr': 0.0,\n",
       "   'mass_log_msun': 10.67409301582819,\n",
       "   'url': 'http://www.tng-project.org/api/TNG50-1/snapshots/99/subhalos/68/'},\n",
       "  {'id': 69,\n",
       "   'sfr': 0.0949106,\n",
       "   'mass_log_msun': 10.724938257777165,\n",
       "   'url': 'http://www.tng-project.org/api/TNG50-1/snapshots/99/subhalos/69/'},\n",
       "  {'id': 70,\n",
       "   'sfr': 0.0,\n",
       "   'mass_log_msun': 10.408844600934914,\n",
       "   'url': 'http://www.tng-project.org/api/TNG50-1/snapshots/99/subhalos/70/'},\n",
       "  {'id': 71,\n",
       "   'sfr': 0.0,\n",
       "   'mass_log_msun': 10.181283090257713,\n",
       "   'url': 'http://www.tng-project.org/api/TNG50-1/snapshots/99/subhalos/71/'},\n",
       "  {'id': 72,\n",
       "   'sfr': 0.0,\n",
       "   'mass_log_msun': 10.135810816089585,\n",
       "   'url': 'http://www.tng-project.org/api/TNG50-1/snapshots/99/subhalos/72/'},\n",
       "  {'id': 73,\n",
       "   'sfr': 0.057788,\n",
       "   'mass_log_msun': 10.605118556408584,\n",
       "   'url': 'http://www.tng-project.org/api/TNG50-1/snapshots/99/subhalos/73/'},\n",
       "  {'id': 74,\n",
       "   'sfr': 0.0,\n",
       "   'mass_log_msun': 10.147514759407859,\n",
       "   'url': 'http://www.tng-project.org/api/TNG50-1/snapshots/99/subhalos/74/'},\n",
       "  {'id': 75,\n",
       "   'sfr': 0.0117419,\n",
       "   'mass_log_msun': 10.744182072581856,\n",
       "   'url': 'http://www.tng-project.org/api/TNG50-1/snapshots/99/subhalos/75/'},\n",
       "  {'id': 76,\n",
       "   'sfr': 0.0,\n",
       "   'mass_log_msun': 9.894583713086005,\n",
       "   'url': 'http://www.tng-project.org/api/TNG50-1/snapshots/99/subhalos/76/'},\n",
       "  {'id': 77,\n",
       "   'sfr': 0.0,\n",
       "   'mass_log_msun': 10.313694768507737,\n",
       "   'url': 'http://www.tng-project.org/api/TNG50-1/snapshots/99/subhalos/77/'},\n",
       "  {'id': 78,\n",
       "   'sfr': 0.0,\n",
       "   'mass_log_msun': 10.574279096618538,\n",
       "   'url': 'http://www.tng-project.org/api/TNG50-1/snapshots/99/subhalos/78/'},\n",
       "  {'id': 79,\n",
       "   'sfr': 0.0,\n",
       "   'mass_log_msun': 10.319247789744079,\n",
       "   'url': 'http://www.tng-project.org/api/TNG50-1/snapshots/99/subhalos/79/'},\n",
       "  {'id': 80,\n",
       "   'sfr': 0.0,\n",
       "   'mass_log_msun': 10.539584620232123,\n",
       "   'url': 'http://www.tng-project.org/api/TNG50-1/snapshots/99/subhalos/80/'},\n",
       "  {'id': 81,\n",
       "   'sfr': 0.0390085,\n",
       "   'mass_log_msun': 10.668472032814456,\n",
       "   'url': 'http://www.tng-project.org/api/TNG50-1/snapshots/99/subhalos/81/'},\n",
       "  {'id': 82,\n",
       "   'sfr': 0.0,\n",
       "   'mass_log_msun': 10.134362154979387,\n",
       "   'url': 'http://www.tng-project.org/api/TNG50-1/snapshots/99/subhalos/82/'},\n",
       "  {'id': 83,\n",
       "   'sfr': 0.119312,\n",
       "   'mass_log_msun': 10.627380069862838,\n",
       "   'url': 'http://www.tng-project.org/api/TNG50-1/snapshots/99/subhalos/83/'},\n",
       "  {'id': 84,\n",
       "   'sfr': 0.0,\n",
       "   'mass_log_msun': 10.65662690995363,\n",
       "   'url': 'http://www.tng-project.org/api/TNG50-1/snapshots/99/subhalos/84/'},\n",
       "  {'id': 85,\n",
       "   'sfr': 0.135126,\n",
       "   'mass_log_msun': 10.595304820070275,\n",
       "   'url': 'http://www.tng-project.org/api/TNG50-1/snapshots/99/subhalos/85/'},\n",
       "  {'id': 86,\n",
       "   'sfr': 0.0,\n",
       "   'mass_log_msun': 10.638506942655098,\n",
       "   'url': 'http://www.tng-project.org/api/TNG50-1/snapshots/99/subhalos/86/'},\n",
       "  {'id': 87,\n",
       "   'sfr': 0.0,\n",
       "   'mass_log_msun': 10.107805101786528,\n",
       "   'url': 'http://www.tng-project.org/api/TNG50-1/snapshots/99/subhalos/87/'},\n",
       "  {'id': 88,\n",
       "   'sfr': 0.0455574,\n",
       "   'mass_log_msun': 10.601307627169605,\n",
       "   'url': 'http://www.tng-project.org/api/TNG50-1/snapshots/99/subhalos/88/'},\n",
       "  {'id': 89,\n",
       "   'sfr': 0.0,\n",
       "   'mass_log_msun': 10.647158231289525,\n",
       "   'url': 'http://www.tng-project.org/api/TNG50-1/snapshots/99/subhalos/89/'},\n",
       "  {'id': 90,\n",
       "   'sfr': 0.0,\n",
       "   'mass_log_msun': 10.484808233355446,\n",
       "   'url': 'http://www.tng-project.org/api/TNG50-1/snapshots/99/subhalos/90/'},\n",
       "  {'id': 91,\n",
       "   'sfr': 0.383211,\n",
       "   'mass_log_msun': 10.492507990776035,\n",
       "   'url': 'http://www.tng-project.org/api/TNG50-1/snapshots/99/subhalos/91/'},\n",
       "  {'id': 92,\n",
       "   'sfr': 0.0,\n",
       "   'mass_log_msun': 10.194784224704868,\n",
       "   'url': 'http://www.tng-project.org/api/TNG50-1/snapshots/99/subhalos/92/'},\n",
       "  {'id': 93,\n",
       "   'sfr': 0.0,\n",
       "   'mass_log_msun': 10.563657269983969,\n",
       "   'url': 'http://www.tng-project.org/api/TNG50-1/snapshots/99/subhalos/93/'},\n",
       "  {'id': 94,\n",
       "   'sfr': 0.0,\n",
       "   'mass_log_msun': 10.25309794842775,\n",
       "   'url': 'http://www.tng-project.org/api/TNG50-1/snapshots/99/subhalos/94/'},\n",
       "  {'id': 95,\n",
       "   'sfr': 0.0,\n",
       "   'mass_log_msun': 10.550479310498517,\n",
       "   'url': 'http://www.tng-project.org/api/TNG50-1/snapshots/99/subhalos/95/'},\n",
       "  {'id': 96,\n",
       "   'sfr': 0.0,\n",
       "   'mass_log_msun': 10.575902718541998,\n",
       "   'url': 'http://www.tng-project.org/api/TNG50-1/snapshots/99/subhalos/96/'},\n",
       "  {'id': 97,\n",
       "   'sfr': 0.0,\n",
       "   'mass_log_msun': 10.525362380060335,\n",
       "   'url': 'http://www.tng-project.org/api/TNG50-1/snapshots/99/subhalos/97/'},\n",
       "  {'id': 98,\n",
       "   'sfr': 0.0,\n",
       "   'mass_log_msun': 10.18779706372876,\n",
       "   'url': 'http://www.tng-project.org/api/TNG50-1/snapshots/99/subhalos/98/'},\n",
       "  {'id': 99,\n",
       "   'sfr': 0.0709987,\n",
       "   'mass_log_msun': 10.524270946768272,\n",
       "   'url': 'http://www.tng-project.org/api/TNG50-1/snapshots/99/subhalos/99/'}]}"
      ]
     },
     "execution_count": 38,
     "metadata": {},
     "output_type": "execute_result"
    }
   ],
   "source": [
    "get(url+search_query)"
   ]
  },
  {
   "cell_type": "code",
   "execution_count": null,
   "id": "subsequent-abraham",
   "metadata": {},
   "outputs": [
    {
     "name": "stderr",
     "output_type": "stream",
     "text": [
      " 40%|████      | 2726/6757 [1:58:49<3:36:51,  3.23s/it]"
     ]
    }
   ],
   "source": [
    "subhalos = []\n",
    "\n",
    "path = url + search_query\n",
    "\n",
    "for _ in tqdm.trange(6757):\n",
    "\n",
    "    while True:\n",
    "\n",
    "        try:\n",
    "\n",
    "            results = get(path)\n",
    "        except:\n",
    "\n",
    "            time.sleep(3)\n",
    "#             results = get(path)\n",
    "        else:\n",
    "            break    \n",
    "    \n",
    "    subs = results['results']\n",
    "    subs = [x['id'] for x in subs]\n",
    "    \n",
    "    subhalos.extend(subs)\n",
    "    \n",
    "    if results['next'] == None:\n",
    "        break\n",
    "    \n",
    "    path = results['next']"
   ]
  },
  {
   "cell_type": "code",
   "execution_count": 113,
   "id": "desperate-retail",
   "metadata": {},
   "outputs": [
    {
     "data": {
      "text/plain": [
       "675706"
      ]
     },
     "execution_count": 113,
     "metadata": {},
     "output_type": "execute_result"
    }
   ],
   "source": [
    "len(subhalos)"
   ]
  },
  {
   "cell_type": "code",
   "execution_count": 119,
   "id": "square-instrumentation",
   "metadata": {},
   "outputs": [],
   "source": [
    "cutout_query = {'gas':'Coordinates,Density,Masses,ParticleIDs,InternalEnergy'}"
   ]
  },
  {
   "cell_type": "code",
   "execution_count": 136,
   "id": "vital-threshold",
   "metadata": {},
   "outputs": [],
   "source": [
    "keys = ['pos_x', 'pos_y', 'pos_z', 'len_gas', 'len_stars', 'mass', 'mass_gas', 'mass_stars', 'sfr', 'primary_flag']"
   ]
  },
  {
   "cell_type": "code",
   "execution_count": 210,
   "id": "israeli-report",
   "metadata": {
    "scrolled": true
   },
   "outputs": [],
   "source": [
    "def load_sub_info(subid):\n",
    "    \n",
    "    path = f'/data3/ehko/illustris/snaps/snap99/sub{subid}.hdf5'\n",
    "    \n",
    "    if os.path.exists(path):\n",
    "        return\n",
    "    \n",
    "    url = f'http://www.tng-project.org/api/TNG50-1/snapshots/99/subhalos/{subid}/'\n",
    "    \n",
    "    while True:\n",
    "        try:\n",
    "            result = get(url)\n",
    "            \n",
    "\n",
    "        except:\n",
    "            print(subid, end = ' ')\n",
    "            time.sleep(np.random.random())\n",
    "            continue\n",
    "            \n",
    "        else:\n",
    "            break\n",
    "    \n",
    "    with h5py.File(path, 'w') as f:\n",
    "        \n",
    "        for key in keys:\n",
    "            f.attrs[key] = result[key]\n",
    "    \n",
    "#     result['pos_x'], result['pos_y'], result['pos_z'], result['len_gas'], result['len_star'], result['mass'], result['mass_gas'], result['mass_star'], result['sfr'], result['primary_flag']"
   ]
  },
  {
   "cell_type": "code",
   "execution_count": 214,
   "id": "metropolitan-classroom",
   "metadata": {
    "code_folding": [],
    "scrolled": true
   },
   "outputs": [],
   "source": [
    "n = 20 #number of cores to use\n",
    "with mp.Pool(n) as p:\n",
    "    \n",
    "    for _ in tqdm.tqdm(p.imap_unordered(load_sub_info, subhalos), total = len(subhalos)):\n",
    "        pass\n",
    "    "
   ]
  },
  {
   "cell_type": "code",
   "execution_count": 207,
   "id": "silver-robertson",
   "metadata": {},
   "outputs": [
    {
     "data": {
      "text/plain": [
       "3"
      ]
     },
     "execution_count": 207,
     "metadata": {},
     "output_type": "execute_result"
    }
   ],
   "source": [
    "np.random.randint(1, 10)"
   ]
  },
  {
   "cell_type": "code",
   "execution_count": 193,
   "id": "smooth-indiana",
   "metadata": {},
   "outputs": [],
   "source": [
    "# result"
   ]
  },
  {
   "cell_type": "code",
   "execution_count": 177,
   "id": "eastern-calendar",
   "metadata": {
    "scrolled": true
   },
   "outputs": [
    {
     "data": {
      "text/plain": [
       "2783"
      ]
     },
     "execution_count": 177,
     "metadata": {},
     "output_type": "execute_result"
    }
   ],
   "source": [
    "subhalos[2783]"
   ]
  },
  {
   "cell_type": "code",
   "execution_count": 182,
   "id": "russian-teacher",
   "metadata": {},
   "outputs": [],
   "source": [
    "url = f'http://www.tng-project.org/api/TNG50-1/snapshots/99/subhalos/8414/'\n",
    "\n",
    "result = get(url)"
   ]
  },
  {
   "cell_type": "code",
   "execution_count": 183,
   "id": "studied-shanghai",
   "metadata": {
    "scrolled": true
   },
   "outputs": [
    {
     "data": {
      "text/plain": [
       "{'snap': 99,\n",
       " 'id': 8414,\n",
       " 'bhmdot': 0.0,\n",
       " 'cm_x': 7687.83,\n",
       " 'cm_y': 23850.4,\n",
       " 'cm_z': 21519.9,\n",
       " 'gasmetallicity': 0.0,\n",
       " 'gasmetallicityhalfrad': 0.0,\n",
       " 'gasmetallicitymaxrad': 0.0,\n",
       " 'gasmetallicitysfr': 0.0,\n",
       " 'gasmetallicitysfrweighted': 0.0,\n",
       " 'pos_x': 7687.88,\n",
       " 'pos_y': 23850.2,\n",
       " 'pos_z': 21520.0,\n",
       " 'halfmassrad': 1.27,\n",
       " 'halfmassrad_gas': 0.0,\n",
       " 'halfmassrad_dm': 1.27,\n",
       " 'halfmassrad_stars': 0.0,\n",
       " 'halfmassrad_bhs': 0.0,\n",
       " 'len': 290,\n",
       " 'len_gas': 0,\n",
       " 'len_dm': 290,\n",
       " 'len_stars': 0,\n",
       " 'len_bhs': 0,\n",
       " 'mass': 0.008914,\n",
       " 'mass_gas': 0.0,\n",
       " 'mass_dm': 0.008914,\n",
       " 'mass_stars': 0.0,\n",
       " 'mass_bhs': 0.0,\n",
       " 'massinhalfrad': 0.0,\n",
       " 'massinhalfrad_gas': 0.0,\n",
       " 'massinhalfrad_dm': 0.0,\n",
       " 'massinhalfrad_stars': 0.0,\n",
       " 'massinhalfrad_bhs': 0.0,\n",
       " 'massinmaxrad': 0.004365,\n",
       " 'massinmaxrad_gas': 0.0,\n",
       " 'massinmaxrad_dm': 0.004365,\n",
       " 'massinmaxrad_stars': 0.0,\n",
       " 'massinmaxrad_bhs': 0.0,\n",
       " 'massinrad': 0.0,\n",
       " 'massinrad_gas': 0.0,\n",
       " 'massinrad_dm': 0.0,\n",
       " 'massinrad_stars': 0.0,\n",
       " 'massinrad_bhs': 0.0,\n",
       " 'sfr': 0.0,\n",
       " 'sfrinhalfrad': 0.0,\n",
       " 'sfrinmaxrad': 0.0,\n",
       " 'sfrinrad': 0.0,\n",
       " 'spin_x': -0.126781,\n",
       " 'spin_y': -0.673433,\n",
       " 'spin_z': 0.0228687,\n",
       " 'starmetallicity': 0.0,\n",
       " 'starmetallicityhalfrad': 0.0,\n",
       " 'starmetallicitymaxrad': 0.0,\n",
       " 'stellarphotometrics_u': 0.0,\n",
       " 'stellarphotometrics_b': 0.0,\n",
       " 'stellarphotometrics_v': 0.0,\n",
       " 'stellarphotometrics_k': 0.0,\n",
       " 'stellarphotometrics_g': 0.0,\n",
       " 'stellarphotometrics_r': 0.0,\n",
       " 'stellarphotometrics_i': 0.0,\n",
       " 'stellarphotometrics_z': 0.0,\n",
       " 'stellarphotometricsmassinrad': 0.0,\n",
       " 'stellarphotometricsrad': 0.0,\n",
       " 'vel_x': -268.42,\n",
       " 'vel_y': -30.4419,\n",
       " 'vel_z': 648.995,\n",
       " 'veldisp': 6.2154,\n",
       " 'vmax': 12.3127,\n",
       " 'vmaxrad': 1.2472,\n",
       " 'windmass': 0.0,\n",
       " 'prog_snap': 98,\n",
       " 'prog_sfid': 8099,\n",
       " 'desc_snap': -1,\n",
       " 'desc_sfid': -1,\n",
       " 'parent': 1449,\n",
       " 'grnr': 0,\n",
       " 'primary_flag': 0,\n",
       " 'mass_log_msun': 8.119227437441547,\n",
       " 'related': {'sublink_progenitor': 'http://www.tng-project.org/api/TNG50-1/snapshots/98/subhalos/8099/',\n",
       "  'sublink_descendant': None,\n",
       "  'parent_halo': 'http://www.tng-project.org/api/TNG50-1/snapshots/99/halos/0/'},\n",
       " 'cutouts': {'subhalo': 'http://www.tng-project.org/api/TNG50-1/snapshots/99/subhalos/8414/cutout.hdf5',\n",
       "  'parent_halo': 'http://www.tng-project.org/api/TNG50-1/snapshots/99/halos/0/cutout.hdf5'},\n",
       " 'trees': {'sublink': 'http://www.tng-project.org/api/TNG50-1/snapshots/99/subhalos/8414/sublink/full.hdf5',\n",
       "  'sublink_mpb': 'http://www.tng-project.org/api/TNG50-1/snapshots/99/subhalos/8414/sublink/mpb.hdf5',\n",
       "  'sublink_mdb': 'http://www.tng-project.org/api/TNG50-1/snapshots/99/subhalos/8414/sublink/mdb.hdf5',\n",
       "  'sublink_simple': 'http://www.tng-project.org/api/TNG50-1/snapshots/99/subhalos/8414/sublink/simple.json',\n",
       "  'lhalotree': 'http://www.tng-project.org/api/TNG50-1/snapshots/99/subhalos/8414/lhalotree/full.hdf5',\n",
       "  'lhalotree_mpb': 'http://www.tng-project.org/api/TNG50-1/snapshots/99/subhalos/8414/lhalotree/mpb.hdf5'},\n",
       " 'supplementary_data': {},\n",
       " 'vis': {'mergertree_sublink': 'http://www.tng-project.org/api/TNG50-1/snapshots/99/subhalos/8414/sublink/tree.png',\n",
       "  'halo_gas_dens': 'http://www.tng-project.org/api/TNG50-1/snapshots/99/subhalos/8414/vis.png?partType=gas',\n",
       "  'halo_gas_temp': 'http://www.tng-project.org/api/TNG50-1/snapshots/99/subhalos/8414/vis.png?partType=gas&partField=temp',\n",
       "  'halo_dm_dens': 'http://www.tng-project.org/api/TNG50-1/snapshots/99/subhalos/8414/vis.png?partType=dm',\n",
       "  'halo_stellar_dens': 'http://www.tng-project.org/api/TNG50-1/snapshots/99/subhalos/8414/vis.png?partType=stars',\n",
       "  'galaxy_gas_dens': 'http://www.tng-project.org/api/TNG50-1/snapshots/99/subhalos/8414/vis.png?partType=gas&size=5.0&sizeType=rHalfMassStars',\n",
       "  'galaxy_gas_dens_faceon': 'http://www.tng-project.org/api/TNG50-1/snapshots/99/subhalos/8414/vis.png?partType=gas&size=5.0&sizeType=rHalfMassStars&rotation=face-on',\n",
       "  'galaxy_stellar_light': 'http://www.tng-project.org/api/TNG50-1/snapshots/99/subhalos/8414/vis.png?partType=stars&partField=stellarComp-jwst_f200w-jwst_f115w-jwst_f070w&size=5.0&sizeType=rHalfMassStars',\n",
       "  'galaxy_stellar_light_faceon': 'http://www.tng-project.org/api/TNG50-1/snapshots/99/subhalos/8414/vis.png?partType=stars&partField=stellarComp-jwst_f200w-jwst_f115w-jwst_f070w&size=5.0&sizeType=rHalfMassStars&rotation=face-on'},\n",
       " 'meta': {'url': 'http://www.tng-project.org/api/TNG50-1/snapshots/99/subhalos/8414/',\n",
       "  'snapshot': 'http://www.tng-project.org/api/TNG50-1/snapshots/99/',\n",
       "  'simulation': 'http://www.tng-project.org/api/TNG50-1/',\n",
       "  'info': 'http://www.tng-project.org/api/TNG50-1/snapshots/99/subhalos/8414/info.json'}}"
      ]
     },
     "execution_count": 183,
     "metadata": {},
     "output_type": "execute_result"
    }
   ],
   "source": [
    "result"
   ]
  },
  {
   "cell_type": "code",
   "execution_count": null,
   "id": "theoretical-authorization",
   "metadata": {},
   "outputs": [],
   "source": [
    "pos_xs = []\n",
    "pos_ys = []\n",
    "pos_zs = []\n",
    "\n",
    "len_gases = []\n",
    "len_stars = []\n",
    "\n",
    "masses = []\n",
    "mass_gases = []\n",
    "mass_stars = []\n",
    "\n",
    "sfrs = []\n",
    "primary_flags = []\n"
   ]
  },
  {
   "cell_type": "code",
   "execution_count": 121,
   "id": "significant-season",
   "metadata": {},
   "outputs": [
    {
     "data": {
      "text/plain": [
       "14.275939250287673"
      ]
     },
     "execution_count": 121,
     "metadata": {},
     "output_type": "execute_result"
    }
   ],
   "source": [
    "np.log10(13289.6 * 1e10 / little_h)"
   ]
  },
  {
   "cell_type": "code",
   "execution_count": 92,
   "id": "planned-disposal",
   "metadata": {},
   "outputs": [
    {
     "data": {
      "text/plain": [
       "{'snap': 99,\n",
       " 'id': 0,\n",
       " 'bhmdot': 0.000185235,\n",
       " 'cm_x': 7300.43,\n",
       " 'cm_y': 24514.0,\n",
       " 'cm_z': 21300.2,\n",
       " 'gasmetallicity': 0.00954238,\n",
       " 'gasmetallicityhalfrad': 0.011177,\n",
       " 'gasmetallicitymaxrad': 0.0,\n",
       " 'gasmetallicitysfr': 0.00758403,\n",
       " 'gasmetallicitysfrweighted': 0.00803236,\n",
       " 'pos_x': 7307.24,\n",
       " 'pos_y': 24550.4,\n",
       " 'pos_z': 21302.6,\n",
       " 'halfmassrad': 362.23,\n",
       " 'halfmassrad_gas': 383.195,\n",
       " 'halfmassrad_dm': 371.711,\n",
       " 'halfmassrad_stars': 29.2812,\n",
       " 'halfmassrad_bhs': 0.0,\n",
       " 'len': 718577369,\n",
       " 'len_gas': 254750400,\n",
       " 'len_dm': 369615124,\n",
       " 'len_stars': 94211842,\n",
       " 'len_bhs': 3,\n",
       " 'mass': 13289.6,\n",
       " 'mass_gas': 1559.96,\n",
       " 'mass_dm': 11360.8,\n",
       " 'mass_stars': 368.293,\n",
       " 'mass_bhs': 0.579029,\n",
       " 'massinhalfrad': 407.339,\n",
       " 'massinhalfrad_gas': 3.09503,\n",
       " 'massinhalfrad_dm': 219.518,\n",
       " 'massinhalfrad_stars': 184.146,\n",
       " 'massinhalfrad_bhs': 0.578949,\n",
       " 'massinmaxrad': 0.001185,\n",
       " 'massinmaxrad_gas': 0.0,\n",
       " 'massinmaxrad_dm': 3.1e-05,\n",
       " 'massinmaxrad_stars': 0.001154,\n",
       " 'massinmaxrad_bhs': 0.0,\n",
       " 'massinrad': 894.026,\n",
       " 'massinrad_gas': 19.0893,\n",
       " 'massinrad_dm': 628.261,\n",
       " 'massinrad_stars': 246.097,\n",
       " 'massinrad_bhs': 0.578949,\n",
       " 'sfr': 1.15783,\n",
       " 'sfrinhalfrad': 0.0595667,\n",
       " 'sfrinmaxrad': 0.0,\n",
       " 'sfrinrad': 0.155921,\n",
       " 'spin_x': -13691.5,\n",
       " 'spin_y': 15394.7,\n",
       " 'spin_z': -6902.14,\n",
       " 'starmetallicity': 0.0357049,\n",
       " 'starmetallicityhalfrad': 0.0389147,\n",
       " 'starmetallicitymaxrad': 0.071467,\n",
       " 'stellarphotometrics_u': -24.3475,\n",
       " 'stellarphotometrics_b': -24.8249,\n",
       " 'stellarphotometrics_v': -25.7242,\n",
       " 'stellarphotometrics_k': -28.7697,\n",
       " 'stellarphotometrics_g': -25.2934,\n",
       " 'stellarphotometrics_r': -26.0746,\n",
       " 'stellarphotometrics_i': -26.4471,\n",
       " 'stellarphotometrics_z': -26.7222,\n",
       " 'stellarphotometricsmassinrad': 249.121,\n",
       " 'stellarphotometricsrad': 47.9982,\n",
       " 'vel_x': 14.1297,\n",
       " 'vel_y': 2.1315,\n",
       " 'vel_z': -39.0248,\n",
       " 'veldisp': 501.292,\n",
       " 'vmax': 1093.47,\n",
       " 'vmaxrad': 0.0209,\n",
       " 'windmass': 0.011895,\n",
       " 'prog_snap': 98,\n",
       " 'prog_sfid': 0,\n",
       " 'desc_snap': -1,\n",
       " 'desc_sfid': -1,\n",
       " 'parent': 0,\n",
       " 'grnr': 0,\n",
       " 'primary_flag': 1,\n",
       " 'mass_log_msun': 14.292666717121172,\n",
       " 'related': {'sublink_progenitor': 'http://www.tng-project.org/api/TNG50-1/snapshots/98/subhalos/0/',\n",
       "  'sublink_descendant': None,\n",
       "  'parent_halo': 'http://www.tng-project.org/api/TNG50-1/snapshots/99/halos/0/'},\n",
       " 'cutouts': {'subhalo': 'http://www.tng-project.org/api/TNG50-1/snapshots/99/subhalos/0/cutout.hdf5',\n",
       "  'parent_halo': 'http://www.tng-project.org/api/TNG50-1/snapshots/99/halos/0/cutout.hdf5'},\n",
       " 'trees': {'sublink': 'http://www.tng-project.org/api/TNG50-1/snapshots/99/subhalos/0/sublink/full.hdf5',\n",
       "  'sublink_mpb': 'http://www.tng-project.org/api/TNG50-1/snapshots/99/subhalos/0/sublink/mpb.hdf5',\n",
       "  'sublink_mdb': 'http://www.tng-project.org/api/TNG50-1/snapshots/99/subhalos/0/sublink/mdb.hdf5',\n",
       "  'sublink_simple': 'http://www.tng-project.org/api/TNG50-1/snapshots/99/subhalos/0/sublink/simple.json',\n",
       "  'lhalotree': 'http://www.tng-project.org/api/TNG50-1/snapshots/99/subhalos/0/lhalotree/full.hdf5',\n",
       "  'lhalotree_mpb': 'http://www.tng-project.org/api/TNG50-1/snapshots/99/subhalos/0/lhalotree/mpb.hdf5'},\n",
       " 'supplementary_data': {},\n",
       " 'vis': {'mergertree_sublink': 'http://www.tng-project.org/api/TNG50-1/snapshots/99/subhalos/0/sublink/tree.png',\n",
       "  'halo_gas_dens': 'http://www.tng-project.org/api/TNG50-1/snapshots/99/subhalos/0/vis.png?partType=gas',\n",
       "  'halo_gas_temp': 'http://www.tng-project.org/api/TNG50-1/snapshots/99/subhalos/0/vis.png?partType=gas&partField=temp',\n",
       "  'halo_dm_dens': 'http://www.tng-project.org/api/TNG50-1/snapshots/99/subhalos/0/vis.png?partType=dm',\n",
       "  'halo_stellar_dens': 'http://www.tng-project.org/api/TNG50-1/snapshots/99/subhalos/0/vis.png?partType=stars',\n",
       "  'galaxy_gas_dens': 'http://www.tng-project.org/api/TNG50-1/snapshots/99/subhalos/0/vis.png?partType=gas&size=5.0&sizeType=rHalfMassStars',\n",
       "  'galaxy_gas_dens_faceon': 'http://www.tng-project.org/api/TNG50-1/snapshots/99/subhalos/0/vis.png?partType=gas&size=5.0&sizeType=rHalfMassStars&rotation=face-on',\n",
       "  'galaxy_stellar_light': 'http://www.tng-project.org/api/TNG50-1/snapshots/99/subhalos/0/vis.png?partType=stars&partField=stellarComp-jwst_f200w-jwst_f115w-jwst_f070w&size=5.0&sizeType=rHalfMassStars',\n",
       "  'galaxy_stellar_light_faceon': 'http://www.tng-project.org/api/TNG50-1/snapshots/99/subhalos/0/vis.png?partType=stars&partField=stellarComp-jwst_f200w-jwst_f115w-jwst_f070w&size=5.0&sizeType=rHalfMassStars&rotation=face-on'},\n",
       " 'meta': {'url': 'http://www.tng-project.org/api/TNG50-1/snapshots/99/subhalos/0/',\n",
       "  'snapshot': 'http://www.tng-project.org/api/TNG50-1/snapshots/99/',\n",
       "  'simulation': 'http://www.tng-project.org/api/TNG50-1/',\n",
       "  'info': 'http://www.tng-project.org/api/TNG50-1/snapshots/99/subhalos/0/info.json'}}"
      ]
     },
     "execution_count": 92,
     "metadata": {},
     "output_type": "execute_result"
    }
   ],
   "source": [
    "temp2['len_stars']"
   ]
  },
  {
   "cell_type": "code",
   "execution_count": 116,
   "id": "optical-garlic",
   "metadata": {},
   "outputs": [],
   "source": [
    "temp3 = get('http://www.tng-project.org/api/TNG50-1/snapshots/99/subhalos/0/info.json')"
   ]
  },
  {
   "cell_type": "code",
   "execution_count": 117,
   "id": "immune-processor",
   "metadata": {},
   "outputs": [
    {
     "data": {
      "text/plain": [
       "{'SimulationName': 'L35n2160TNG',\n",
       " 'SnapshotNumber': 99,\n",
       " 'InfoType': 'Subhalo',\n",
       " 'InfoID': 0,\n",
       " 'StarFormationRates': {'Done': 1.0,\n",
       "  'SFR_MsunPerYrs_in_InRad_1000Myrs': 0.2790251519457446,\n",
       "  'SFR_MsunPerYrs_in_InRad_100Myrs': 0.27163445898786,\n",
       "  'SFR_MsunPerYrs_in_InRad_10Myrs': 0.12573216628521677,\n",
       "  'SFR_MsunPerYrs_in_InRad_200Myrs': 0.3788171115495894,\n",
       "  'SFR_MsunPerYrs_in_InRad_50Myrs': 0.1971252036787364,\n",
       "  'SFR_MsunPerYrs_in_all_1000Myrs': 1.1166861188993296,\n",
       "  'SFR_MsunPerYrs_in_all_100Myrs': 1.2036251774757543,\n",
       "  'SFR_MsunPerYrs_in_all_10Myrs': 1.1216120295419476,\n",
       "  'SFR_MsunPerYrs_in_all_200Myrs': 1.2023580065955042,\n",
       "  'SFR_MsunPerYrs_in_all_50Myrs': 1.1613595026906225,\n",
       "  'SFR_MsunPerYrs_in_r30pkpc_1000Myrs': 0.05817212994851763,\n",
       "  'SFR_MsunPerYrs_in_r30pkpc_100Myrs': 0.10756522128225637,\n",
       "  'SFR_MsunPerYrs_in_r30pkpc_10Myrs': 0.07933336564854561,\n",
       "  'SFR_MsunPerYrs_in_r30pkpc_200Myrs': 0.09771155410477081,\n",
       "  'SFR_MsunPerYrs_in_r30pkpc_50Myrs': 0.10336227561762733,\n",
       "  'SFR_MsunPerYrs_in_r5pkpc_1000Myrs': 0.0032239531382825216,\n",
       "  'SFR_MsunPerYrs_in_r5pkpc_100Myrs': 0.016940926609765428,\n",
       "  'SFR_MsunPerYrs_in_r5pkpc_10Myrs': 0.0,\n",
       "  'SFR_MsunPerYrs_in_r5pkpc_200Myrs': 0.01045650378526775,\n",
       "  'SFR_MsunPerYrs_in_r5pkpc_50Myrs': 0.014131777816251221},\n",
       " 'StellarAssembly': {'StellarMassAfterInfall': 94.80549621582031,\n",
       "  'StellarMassBeforeInfall': 206.9041748046875,\n",
       "  'StellarMassExSitu': 303.1542663574219,\n",
       "  'StellarMassFormedOutsideGalaxies': 1.445481777191162,\n",
       "  'StellarMassFromCompletedMergers': 272.80108642578125,\n",
       "  'StellarMassFromCompletedMergersMajor': 46.331825256347656,\n",
       "  'StellarMassFromCompletedMergersMajorMinor': 243.1697540283203,\n",
       "  'StellarMassFromFlybys': 28.90888786315918,\n",
       "  'StellarMassFromFlybysMajor': 0.0,\n",
       "  'StellarMassFromFlybysMajorMinor': 1.5706894397735596,\n",
       "  'StellarMassFromOngoingMergers': 0.0,\n",
       "  'StellarMassFromOngoingMergersMajor': 0.0,\n",
       "  'StellarMassFromOngoingMergersMajorMinor': 0.0,\n",
       "  'StellarMassInSitu': 65.13786315917969,\n",
       "  'StellarMassTotal': 368.2928161621094},\n",
       " 'StellarAssemblyInRad': {'StellarMassAfterInfall': 72.3091812133789,\n",
       "  'StellarMassBeforeInfall': 118.40521240234375,\n",
       "  'StellarMassExSitu': 190.8592071533203,\n",
       "  'StellarMassFormedOutsideGalaxies': 0.1451931595802307,\n",
       "  'StellarMassFromCompletedMergers': 186.8059844970703,\n",
       "  'StellarMassFromCompletedMergersMajor': 32.92286682128906,\n",
       "  'StellarMassFromCompletedMergersMajorMinor': 171.98226928710938,\n",
       "  'StellarMassFromFlybys': 3.9086251258850098,\n",
       "  'StellarMassFromFlybysMajor': 0.0,\n",
       "  'StellarMassFromFlybysMajorMinor': 0.04201660305261612,\n",
       "  'StellarMassFromOngoingMergers': 0.0,\n",
       "  'StellarMassFromOngoingMergersMajor': 0.0,\n",
       "  'StellarMassFromOngoingMergersMajorMinor': 0.0,\n",
       "  'StellarMassInSitu': 55.23517990112305,\n",
       "  'StellarMassTotal': 246.09463500976562},\n",
       " 'StellarMasses': {'Done': 1.0,\n",
       "  'StellarMasses_in_r100ckpc': 3796416864229.33,\n",
       "  'StellarMasses_in_r100pkpc': 3796416864229.33,\n",
       "  'StellarMasses_in_r10ckpc': 1211422755478.29,\n",
       "  'StellarMasses_in_r10pkpc': 1211422755478.29,\n",
       "  'StellarMasses_in_r30ckpc': 2232250639880.3315,\n",
       "  'StellarMasses_in_r30pkpc': 2232250639880.3315,\n",
       "  'StellarMasses_in_r50ckpc': 2924364464386.4375,\n",
       "  'StellarMasses_in_r50pkpc': 2924364464386.4375},\n",
       " 'SubhaloBHMass': 0.5790285468101501,\n",
       " 'SubhaloBHMdot': 0.00018523537437431514,\n",
       " 'SubhaloBfldDisk': 2.008474111557007,\n",
       " 'SubhaloBfldHalo': 0.17278610169887543,\n",
       " 'SubhaloCM': [7300.42626953125, 24514.015625, 21300.208984375],\n",
       " 'SubhaloFlag': True,\n",
       " 'SubhaloGasMetalFractions': [0.7400276064872742,\n",
       "  0.25043004751205444,\n",
       "  0.001019229064695537,\n",
       "  0.00035800240584649146,\n",
       "  0.004583326634019613,\n",
       "  0.001546949613839388,\n",
       "  0.0004450141277629882,\n",
       "  0.0004481271607801318,\n",
       "  0.0007799197919666767,\n",
       "  0.00036180822644382715],\n",
       " 'SubhaloGasMetalFractionsHalfRad': [0.7367917895317078,\n",
       "  0.252031147480011,\n",
       "  0.0011663802433758974,\n",
       "  0.00041843982762657106,\n",
       "  0.005310452077537775,\n",
       "  0.0017960197292268276,\n",
       "  0.0005161783192306757,\n",
       "  0.0005337810725905001,\n",
       "  0.0009873936651274562,\n",
       "  0.00044840198825113475],\n",
       " 'SubhaloGasMetalFractionsMaxRad': [0.0,\n",
       "  0.0,\n",
       "  0.0,\n",
       "  0.0,\n",
       "  0.0,\n",
       "  0.0,\n",
       "  0.0,\n",
       "  0.0,\n",
       "  0.0,\n",
       "  0.0],\n",
       " 'SubhaloGasMetalFractionsSfr': [0.7444746494293213,\n",
       "  0.2479413002729416,\n",
       "  0.0007715087849646807,\n",
       "  0.0002475478104315698,\n",
       "  0.0038742662873119116,\n",
       "  0.0012682199012488127,\n",
       "  0.00036983282188884914,\n",
       "  0.0003439502906985581,\n",
       "  0.0004679769335780293,\n",
       "  0.00024072737141977996],\n",
       " 'SubhaloGasMetalFractionsSfrWeighted': [0.7436135411262512,\n",
       "  0.24835406243801117,\n",
       "  0.0008196328417398036,\n",
       "  0.0002638885925989598,\n",
       "  0.004083640407770872,\n",
       "  0.0013420355971902609,\n",
       "  0.00039041117997840047,\n",
       "  0.0003647472185548395,\n",
       "  0.0005091887433081865,\n",
       "  0.0002588159986771643],\n",
       " 'SubhaloGasMetallicity': 0.009542376734316349,\n",
       " 'SubhaloGasMetallicityHalfRad': 0.011177047155797482,\n",
       " 'SubhaloGasMetallicityMaxRad': 0.0,\n",
       " 'SubhaloGasMetallicitySfr': 0.007584030274301767,\n",
       " 'SubhaloGasMetallicitySfrWeighted': 0.0080323601141572,\n",
       " 'SubhaloGrNr': 0,\n",
       " 'SubhaloHalfmassRad': 362.23028564453125,\n",
       " 'SubhaloHalfmassRadType': [383.19537353515625,\n",
       "  371.7115173339844,\n",
       "  0.0,\n",
       "  0.0,\n",
       "  29.28116798400879,\n",
       "  0.0],\n",
       " 'SubhaloIDMostbound': 146390141809,\n",
       " 'SubhaloLen': 718577369,\n",
       " 'SubhaloLenType': [254750400, 369615124, 0, 0, 94211842, 3],\n",
       " 'SubhaloMass': 13289.603515625,\n",
       " 'SubhaloMassInHalfRad': 407.3389587402344,\n",
       " 'SubhaloMassInHalfRadType': [3.095028877258301,\n",
       "  219.5184783935547,\n",
       "  0.0,\n",
       "  0.0,\n",
       "  184.14649963378906,\n",
       "  0.5789485573768616],\n",
       " 'SubhaloMassInMaxRad': 0.001185033586807549,\n",
       " 'SubhaloMassInMaxRadType': [0.0,\n",
       "  3.073676998610608e-05,\n",
       "  0.0,\n",
       "  0.0,\n",
       "  0.0011542967986315489,\n",
       "  0.0],\n",
       " 'SubhaloMassInRad': 894.0264282226562,\n",
       " 'SubhaloMassInRadType': [19.089340209960938,\n",
       "  628.2610473632812,\n",
       "  0.0,\n",
       "  0.0,\n",
       "  246.0970916748047,\n",
       "  0.5789485573768616],\n",
       " 'SubhaloMassType': [1559.95654296875,\n",
       "  11360.775390625,\n",
       "  0.0,\n",
       "  0.0,\n",
       "  368.2929992675781,\n",
       "  0.5790285468101501],\n",
       " 'SubhaloMatchingToDark': {'LHaloTree': {'SubhaloIndexFrom': 0,\n",
       "   'SubhaloIndexTo': 0},\n",
       "  'SubLink': {'DescendantIndex': 0,\n",
       "   'FirstScore': 16.091571807861328,\n",
       "   'SecondScore': 0.012923507951200008}},\n",
       " 'SubhaloParent': 0,\n",
       " 'SubhaloPos': [7307.24072265625, 24550.361328125, 21302.580078125],\n",
       " 'SubhaloSFR': 1.157833218574524,\n",
       " 'SubhaloSFRinHalfRad': 0.05956670269370079,\n",
       " 'SubhaloSFRinMaxRad': 0.0,\n",
       " 'SubhaloSFRinRad': 0.15592066943645477,\n",
       " 'SubhaloSpin': [-13691.4892578125, 15394.720703125, -6902.13525390625],\n",
       " 'SubhaloStarMetalFractions': [0.6970146298408508,\n",
       "  0.2672804594039917,\n",
       "  0.003952208440750837,\n",
       "  0.001082751783542335,\n",
       "  0.01843111589550972,\n",
       "  0.006420912686735392,\n",
       "  0.0018155750585719943,\n",
       "  0.0014838402858003974,\n",
       "  0.0016367300413548946,\n",
       "  0.0008818084024824202],\n",
       " 'SubhaloStarMetalFractionsHalfRad': [0.6913172006607056,\n",
       "  0.2697681188583374,\n",
       "  0.004336233716458082,\n",
       "  0.0011829461436718702,\n",
       "  0.020045865327119827,\n",
       "  0.007010327186435461,\n",
       "  0.0019784867763519287,\n",
       "  0.001612753258086741,\n",
       "  0.0017890880117192864,\n",
       "  0.0009589724359102547],\n",
       " 'SubhaloStarMetalFractionsMaxRad': [0.6301786303520203,\n",
       "  0.2983543574810028,\n",
       "  0.0084522170946002,\n",
       "  0.0022359085269272327,\n",
       "  0.03607013821601868,\n",
       "  0.012969464994966984,\n",
       "  0.0036134698893874884,\n",
       "  0.0029157856479287148,\n",
       "  0.0034447007346898317,\n",
       "  0.0017653332324698567],\n",
       " 'SubhaloStarMetallicity': 0.03570494055747986,\n",
       " 'SubhaloStarMetallicityHalfRad': 0.038914673030376434,\n",
       " 'SubhaloStarMetallicityMaxRad': 0.07146701961755753,\n",
       " 'SubhaloStellarPhotometrics': [-24.347532272338867,\n",
       "  -24.824920654296875,\n",
       "  -25.7242374420166,\n",
       "  -28.769683837890625,\n",
       "  -25.293418884277344,\n",
       "  -26.07459831237793,\n",
       "  -26.447093963623047,\n",
       "  -26.722150802612305],\n",
       " 'SubhaloStellarPhotometricsMassInRad': 249.12091064453125,\n",
       " 'SubhaloStellarPhotometricsRad': 47.99821853637695,\n",
       " 'SubhaloVel': [14.129664421081543, 2.1314690113067627, -39.02479553222656],\n",
       " 'SubhaloVelDisp': 501.2919006347656,\n",
       " 'SubhaloVmax': 1093.4725341796875,\n",
       " 'SubhaloVmaxRad': 0.02086522802710533,\n",
       " 'SubhaloWindMass': 0.011894956231117249,\n",
       " 'circularities_10Re': {'CircAbove07Frac': 0.058372944593429565,\n",
       "  'CircAbove07MinusBelowNeg07Frac': 0.0035596226807683706,\n",
       "  'CircTwiceBelow0Frac': 0.960201621055603,\n",
       "  'SpecificAngMom': 1996.743896484375,\n",
       "  'done': 1},\n",
       " 'circularities_allstars': {'CircAbove07Frac': 0.05450060963630676,\n",
       "  'CircAbove07MinusBelowNeg07Frac': 0.00863482803106308,\n",
       "  'CircTwiceBelow0Frac': 0.971493124961853,\n",
       "  'SpecificAngMom': 3120.619384765625,\n",
       "  'done': 1}}"
      ]
     },
     "execution_count": 117,
     "metadata": {},
     "output_type": "execute_result"
    }
   ],
   "source": [
    "temp3"
   ]
  },
  {
   "cell_type": "code",
   "execution_count": null,
   "id": "spare-cocktail",
   "metadata": {},
   "outputs": [],
   "source": []
  },
  {
   "cell_type": "markdown",
   "id": "gothic-evanescence",
   "metadata": {},
   "source": [
    "**sublink_simple**\n",
    "\n",
    "retrieve a simple representation of the SubLink tree, the Main Progenitor Branch (in 'Main') and a list of past mergers (in 'Mergers') only. In both cases a snapshot number and subhalo ID pair is given."
   ]
  },
  {
   "cell_type": "code",
   "execution_count": 121,
   "id": "brave-variety",
   "metadata": {
    "scrolled": false
   },
   "outputs": [
    {
     "data": {
      "text/plain": [
       "{'sublink': 'http://www.tng-project.org/api/TNG50-1/snapshots/99/subhalos/0/sublink/full.hdf5',\n",
       " 'sublink_mpb': 'http://www.tng-project.org/api/TNG50-1/snapshots/99/subhalos/0/sublink/mpb.hdf5',\n",
       " 'sublink_mdb': 'http://www.tng-project.org/api/TNG50-1/snapshots/99/subhalos/0/sublink/mdb.hdf5',\n",
       " 'sublink_simple': 'http://www.tng-project.org/api/TNG50-1/snapshots/99/subhalos/0/sublink/simple.json',\n",
       " 'lhalotree': 'http://www.tng-project.org/api/TNG50-1/snapshots/99/subhalos/0/lhalotree/full.hdf5',\n",
       " 'lhalotree_mpb': 'http://www.tng-project.org/api/TNG50-1/snapshots/99/subhalos/0/lhalotree/mpb.hdf5'}"
      ]
     },
     "execution_count": 121,
     "metadata": {},
     "output_type": "execute_result"
    }
   ],
   "source": [
    "sub['trees']"
   ]
  },
  {
   "cell_type": "code",
   "execution_count": 192,
   "id": "selective-owner",
   "metadata": {},
   "outputs": [],
   "source": [
    "submpb = get_save(sub['trees']['sublink_mpb'], 'sublink_mpb')"
   ]
  },
  {
   "cell_type": "code",
   "execution_count": 195,
   "id": "passing-february",
   "metadata": {
    "scrolled": true
   },
   "outputs": [
    {
     "name": "stderr",
     "output_type": "stream",
     "text": [
      "/home/ehko/anaconda3/lib/python3.7/site-packages/ipykernel_launcher.py:1: H5pyDeprecationWarning: The default file mode will change to 'r' (read-only) in h5py 3.0. To suppress this warning, pass the mode you need to h5py.File(), or set the global default h5.get_config().default_file_mode, or set the environment variable H5PY_DEFAULT_READONLY=1. Available modes are: 'r', 'r+', 'w', 'w-'/'x', 'a'. See the docs for details.\n",
      "  \"\"\"Entry point for launching an IPython kernel.\n"
     ]
    }
   ],
   "source": [
    "submpb = h5py.File('sublink_mpb')"
   ]
  },
  {
   "cell_type": "code",
   "execution_count": 196,
   "id": "quick-employer",
   "metadata": {},
   "outputs": [
    {
     "data": {
      "text/plain": [
       "<KeysViewHDF5 ['DescendantID', 'FirstProgenitorID', 'FirstSubhaloInFOFGroupID', 'GroupBHMass', 'GroupBHMdot', 'GroupCM', 'GroupFirstSub', 'GroupGasMetalFractions', 'GroupGasMetallicity', 'GroupLen', 'GroupLenType', 'GroupMass', 'GroupMassType', 'GroupNsubs', 'GroupPos', 'GroupSFR', 'GroupStarMetalFractions', 'GroupStarMetallicity', 'GroupVel', 'GroupWindMass', 'Group_M_Crit200', 'Group_M_Crit500', 'Group_M_Mean200', 'Group_M_TopHat200', 'Group_R_Crit200', 'Group_R_Crit500', 'Group_R_Mean200', 'Group_R_TopHat200', 'LastProgenitorID', 'MainLeafProgenitorID', 'Mass', 'MassHistory', 'NextProgenitorID', 'NextSubhaloInFOFGroupID', 'NumParticles', 'RootDescendantID', 'SnapNum', 'SubfindID', 'SubhaloBHMass', 'SubhaloBHMdot', 'SubhaloCM', 'SubhaloGasMetalFractions', 'SubhaloGasMetalFractionsHalfRad', 'SubhaloGasMetalFractionsMaxRad', 'SubhaloGasMetalFractionsSfr', 'SubhaloGasMetalFractionsSfrWeighted', 'SubhaloGasMetallicity', 'SubhaloGasMetallicityHalfRad', 'SubhaloGasMetallicityMaxRad', 'SubhaloGasMetallicitySfr', 'SubhaloGasMetallicitySfrWeighted', 'SubhaloGrNr', 'SubhaloHalfmassRad', 'SubhaloHalfmassRadType', 'SubhaloID', 'SubhaloIDMostbound', 'SubhaloIDRaw', 'SubhaloLen', 'SubhaloLenType', 'SubhaloMass', 'SubhaloMassInHalfRad', 'SubhaloMassInHalfRadType', 'SubhaloMassInMaxRad', 'SubhaloMassInMaxRadType', 'SubhaloMassInRad', 'SubhaloMassInRadType', 'SubhaloMassType', 'SubhaloParent', 'SubhaloPos', 'SubhaloSFR', 'SubhaloSFRinHalfRad', 'SubhaloSFRinMaxRad', 'SubhaloSFRinRad', 'SubhaloSpin', 'SubhaloStarMetalFractions', 'SubhaloStarMetalFractionsHalfRad', 'SubhaloStarMetalFractionsMaxRad', 'SubhaloStarMetallicity', 'SubhaloStarMetallicityHalfRad', 'SubhaloStarMetallicityMaxRad', 'SubhaloStellarPhotometrics', 'SubhaloStellarPhotometricsMassInRad', 'SubhaloStellarPhotometricsRad', 'SubhaloVel', 'SubhaloVelDisp', 'SubhaloVmax', 'SubhaloVmaxRad', 'SubhaloWindMass', 'TreeID']>"
      ]
     },
     "execution_count": 196,
     "metadata": {},
     "output_type": "execute_result"
    }
   ],
   "source": [
    "submpb.keys()"
   ]
  },
  {
   "cell_type": "code",
   "execution_count": 246,
   "id": "unusual-certificate",
   "metadata": {},
   "outputs": [
    {
     "data": {
      "text/plain": [
       "array([99, 98, 97, 96, 95, 94, 93, 92, 91, 90, 89, 88, 87, 86, 85, 84, 83,\n",
       "       82, 81, 80, 79, 78, 77, 76, 75, 74, 73, 72, 71, 70, 69, 68, 67, 66,\n",
       "       65, 64, 63, 62, 61, 60, 59, 58, 57, 56, 55, 54, 53, 52, 51, 50, 49,\n",
       "       48, 47, 46, 45, 44, 43, 42, 41, 40, 39, 38, 37, 36, 35, 34, 33, 32,\n",
       "       31, 30, 29, 28, 27, 26, 25, 24, 23, 22, 21, 20, 19, 18, 17, 16, 15,\n",
       "       14, 13, 12, 11, 10,  9,  8,  7,  6,  5,  4,  3,  2,  1,  0],\n",
       "      dtype=int16)"
      ]
     },
     "execution_count": 246,
     "metadata": {},
     "output_type": "execute_result"
    }
   ],
   "source": [
    "submpb['SnapNum'][:]"
   ]
  },
  {
   "cell_type": "code",
   "execution_count": 247,
   "id": "duplicate-profile",
   "metadata": {},
   "outputs": [
    {
     "data": {
      "text/plain": [
       "array([  0,   0,   0,   0,   0,   0,   0,   0,   0,   0,   0,   0,   0,\n",
       "         0,   0,   0,   0,   0,   0,   0,   0,   0,   0,   0,   0,   0,\n",
       "         0,   0,   0,   0,   0,   0,   0,   0,   0,   0,   0,   0,   0,\n",
       "         0,   0,   0,   0,   0,   0,   0,   0,   0,   0,   0,   0,   0,\n",
       "         0,   1,   1,   1,   1,   1,   1,   1,   1,   1,   1,   1,   1,\n",
       "         2,   1,   2,   2,   2,   2,   2,   2,   2,   1,   1,   2,   2,\n",
       "         2,   2,   2,   2,   3,   2,   7,  11,  11,  10,   8,   7,   7,\n",
       "         6,   6,   7,   9,  77, 278, 276, 768, 743], dtype=int32)"
      ]
     },
     "execution_count": 247,
     "metadata": {},
     "output_type": "execute_result"
    }
   ],
   "source": [
    "submpb['SubhaloGrNr'][:]"
   ]
  },
  {
   "cell_type": "code",
   "execution_count": 226,
   "id": "tough-protocol",
   "metadata": {},
   "outputs": [],
   "source": [
    "# submpb['TreeID'][:]"
   ]
  },
  {
   "cell_type": "code",
   "execution_count": 223,
   "id": "capable-ministry",
   "metadata": {},
   "outputs": [
    {
     "data": {
      "text/plain": [
       "array([    0,     0,     0,     0,     0,     0,     0,     0,     0,\n",
       "           0,     0,     2,     0,     0,     0,     0,     0,     0,\n",
       "           0,     0,     0,     0,     0,     0,     0,     0,     0,\n",
       "           0,     0,     0,     0,     0,     0,     0,     0,     0,\n",
       "           0,     0,     0,     0,     0,     0,     0,     0,     0,\n",
       "           0,     0,     0,     0,     0,     0,     0,     0, 15511,\n",
       "       15404, 15624, 15693, 15268, 15472, 15216, 15220, 15195,  9247,\n",
       "        8857,  8266, 15343,  8068, 14355, 13700, 13673, 13021,  9440,\n",
       "       10323,  8987,  3769,  3258,  5996,  4230,  3857,  3618,  3738,\n",
       "        2918,  3119,  1836,  4458,  4301,  4308,  3400,  2314,  2120,\n",
       "        2017,  1470,  1393,  1317,  1329,  3971,  6134,  4334,  3853,\n",
       "        1171], dtype=int32)"
      ]
     },
     "execution_count": 223,
     "metadata": {},
     "output_type": "execute_result"
    }
   ],
   "source": [
    "submpb['SubfindID'][:]\n",
    "# submpb['SubhaloID'][:]"
   ]
  },
  {
   "cell_type": "code",
   "execution_count": 198,
   "id": "powerful-italy",
   "metadata": {},
   "outputs": [],
   "source": [
    "lhalompb = get_save(sub['trees']['lhalotree_mpb'], 'lhalotree_mpb')"
   ]
  },
  {
   "cell_type": "code",
   "execution_count": 232,
   "id": "laughing-honor",
   "metadata": {},
   "outputs": [],
   "source": [
    "lhalompb = h5py.File('lhalotree_mpb', 'r')"
   ]
  },
  {
   "cell_type": "code",
   "execution_count": 201,
   "id": "planned-canon",
   "metadata": {},
   "outputs": [
    {
     "data": {
      "text/plain": [
       "<KeysViewHDF5 ['Descendant', 'FileNr', 'FirstHaloInFOFGroup', 'FirstProgenitor', 'GroupCM', 'GroupMassType', 'Group_M_Crit200', 'Group_M_Crit500', 'Group_M_Mean200', 'Group_M_TopHat200', 'Group_R_Crit200', 'Group_R_Crit500', 'Group_R_Mean200', 'Group_R_TopHat200', 'NextHaloInFOFGroup', 'NextProgenitor', 'SnapNum', 'SubhaloBHMass', 'SubhaloBHMdot', 'SubhaloGasMetalFractions', 'SubhaloGasMetalFractionsSfr', 'SubhaloGasMetallicity', 'SubhaloGasMetallicitySfr', 'SubhaloGrNr', 'SubhaloHalfmassRad', 'SubhaloHalfmassRadType', 'SubhaloIDMostBound', 'SubhaloLen', 'SubhaloLenType', 'SubhaloMassInRadType', 'SubhaloMassType', 'SubhaloNumber', 'SubhaloOffsetType', 'SubhaloPos', 'SubhaloSFR', 'SubhaloSFRinRad', 'SubhaloSpin', 'SubhaloStarMetalFractions', 'SubhaloStarMetallicity', 'SubhaloStellarPhotometrics', 'SubhaloVMax', 'SubhaloVel', 'SubhaloVelDisp']>"
      ]
     },
     "execution_count": 201,
     "metadata": {},
     "output_type": "execute_result"
    }
   ],
   "source": [
    "lhalompb.keys()"
   ]
  },
  {
   "cell_type": "code",
   "execution_count": 234,
   "id": "bibliographic-trigger",
   "metadata": {},
   "outputs": [],
   "source": [
    "# lhalompb['SnapNum'][:]"
   ]
  },
  {
   "cell_type": "code",
   "execution_count": 214,
   "id": "public-mistress",
   "metadata": {},
   "outputs": [
    {
     "data": {
      "text/plain": [
       "array([ 0,  0,  0,  0,  0,  0,  0,  0,  0,  0,  0,  0,  0,  0,  0,  0,  0,\n",
       "        0,  0,  0,  0,  0,  0,  0,  0,  0,  0,  0,  0,  0,  0,  0,  0,  0,\n",
       "        0,  0,  0,  0,  0,  0,  0,  0,  0,  0,  0,  0,  0,  0,  0,  0,  0,\n",
       "        0,  0, 10,  9,  9,  9,  9,  9,  8,  8,  8,  5,  5,  5,  9,  4,  8,\n",
       "        7,  7,  6,  5,  5,  4,  2,  1,  2,  2,  1,  1,  1,  1,  1,  0,  1,\n",
       "        1,  1,  1,  0,  0,  0,  0,  0,  0,  0,  0,  1,  1,  3, 13],\n",
       "      dtype=int32)"
      ]
     },
     "execution_count": 214,
     "metadata": {},
     "output_type": "execute_result"
    }
   ],
   "source": [
    "lhalompb['FileNr'][:]"
   ]
  },
  {
   "cell_type": "code",
   "execution_count": 145,
   "id": "unsigned-harvard",
   "metadata": {},
   "outputs": [],
   "source": [
    "mpb = get_save(sub['trees']['lhalotree_mpb'], 'lhalotree_mpb')"
   ]
  },
  {
   "cell_type": "code",
   "execution_count": 146,
   "id": "passive-diana",
   "metadata": {},
   "outputs": [
    {
     "name": "stderr",
     "output_type": "stream",
     "text": [
      "/home/ehko/anaconda3/lib/python3.7/site-packages/ipykernel_launcher.py:1: H5pyDeprecationWarning: The default file mode will change to 'r' (read-only) in h5py 3.0. To suppress this warning, pass the mode you need to h5py.File(), or set the global default h5.get_config().default_file_mode, or set the environment variable H5PY_DEFAULT_READONLY=1. Available modes are: 'r', 'r+', 'w', 'w-'/'x', 'a'. See the docs for details.\n",
      "  \"\"\"Entry point for launching an IPython kernel.\n"
     ]
    }
   ],
   "source": [
    "mpb = h5py.File('lhalotree_mpb')"
   ]
  },
  {
   "cell_type": "code",
   "execution_count": 190,
   "id": "skilled-concentrate",
   "metadata": {},
   "outputs": [
    {
     "data": {
      "text/plain": [
       "<KeysViewHDF5 ['Descendant', 'FileNr', 'FirstHaloInFOFGroup', 'FirstProgenitor', 'GroupCM', 'GroupMassType', 'Group_M_Crit200', 'Group_M_Crit500', 'Group_M_Mean200', 'Group_M_TopHat200', 'Group_R_Crit200', 'Group_R_Crit500', 'Group_R_Mean200', 'Group_R_TopHat200', 'NextHaloInFOFGroup', 'NextProgenitor', 'SnapNum', 'SubhaloBHMass', 'SubhaloBHMdot', 'SubhaloGasMetalFractions', 'SubhaloGasMetalFractionsSfr', 'SubhaloGasMetallicity', 'SubhaloGasMetallicitySfr', 'SubhaloGrNr', 'SubhaloHalfmassRad', 'SubhaloHalfmassRadType', 'SubhaloIDMostBound', 'SubhaloLen', 'SubhaloLenType', 'SubhaloMassInRadType', 'SubhaloMassType', 'SubhaloNumber', 'SubhaloOffsetType', 'SubhaloPos', 'SubhaloSFR', 'SubhaloSFRinRad', 'SubhaloSpin', 'SubhaloStarMetalFractions', 'SubhaloStarMetallicity', 'SubhaloStellarPhotometrics', 'SubhaloVMax', 'SubhaloVel', 'SubhaloVelDisp']>"
      ]
     },
     "execution_count": 190,
     "metadata": {},
     "output_type": "execute_result"
    }
   ],
   "source": [
    "mpb.keys()"
   ]
  },
  {
   "cell_type": "code",
   "execution_count": 189,
   "id": "quarterly-interstate",
   "metadata": {},
   "outputs": [
    {
     "data": {
      "text/plain": [
       "array([99, 98, 97, 96, 95, 94, 93, 92, 91, 90, 89, 88, 87, 86, 85, 84, 83,\n",
       "       82, 81, 80, 79, 78, 77, 76, 75, 74, 73, 72, 71, 70, 69, 68, 67, 66,\n",
       "       65, 64, 63, 62, 61, 60, 59, 58, 57, 56, 55, 54, 53, 52, 51, 50, 49,\n",
       "       48, 47, 46, 45, 44, 43, 42, 41, 40, 39, 38, 37, 36, 35, 34, 33, 32,\n",
       "       31, 30, 29, 28, 27, 26, 25, 24, 23, 22, 21, 20, 19, 18, 17, 16, 15,\n",
       "       14, 13, 12, 11, 10,  9,  8,  7,  6,  5,  4,  3,  2,  1,  0],\n",
       "      dtype=int32)"
      ]
     },
     "execution_count": 189,
     "metadata": {},
     "output_type": "execute_result"
    }
   ],
   "source": [
    "mpb['SnapNum'][:]"
   ]
  },
  {
   "cell_type": "code",
   "execution_count": 228,
   "id": "unsigned-flood",
   "metadata": {},
   "outputs": [
    {
     "data": {
      "text/plain": [
       "array([ 0,  1,  2,  3,  4,  5,  6,  7,  8,  9, 10, 11, 12, 13, 14, 15, 16,\n",
       "       17, 18, 19, 20, 21, 22, 23, 24, 25, 26, 27, 28, 29, 30, 31, 32, 33,\n",
       "       34, 35, 36, 37, 38, 39, 40, 41, 42, 43, 44, 45, 46, 47, 48, 49, 50,\n",
       "       51, 52, 53, 54, 55, 56, 57, 58, 59, 60, 61, 62, 63, 64, 65, 66, 67,\n",
       "       68, 69, 70, 71, 72, 73, 74, 75, 76, 77, 78, 79, 80, 81, 82, 83, 84,\n",
       "       85, 86, 87, 88, 89, 90, 91, 92, 93, 94, 95, 96, 97, 98, 99],\n",
       "      dtype=int32)"
      ]
     },
     "execution_count": 228,
     "metadata": {},
     "output_type": "execute_result"
    }
   ],
   "source": [
    "mpb['FirstHaloInFOFGroup'][:]"
   ]
  },
  {
   "cell_type": "code",
   "execution_count": 126,
   "id": "after-mercy",
   "metadata": {},
   "outputs": [],
   "source": [
    "temp = get(sub['trees']['sublink_simple']) #Main, Merger"
   ]
  },
  {
   "cell_type": "code",
   "execution_count": 251,
   "id": "acoustic-patent",
   "metadata": {},
   "outputs": [],
   "source": [
    "# sub['trees']['sublink_simple']"
   ]
  },
  {
   "cell_type": "code",
   "execution_count": 140,
   "id": "expected-tennis",
   "metadata": {
    "scrolled": true
   },
   "outputs": [],
   "source": [
    "temp2 = np.array(temp['Mergers'])"
   ]
  },
  {
   "cell_type": "code",
   "execution_count": 175,
   "id": "continuing-counter",
   "metadata": {},
   "outputs": [
    {
     "data": {
      "text/plain": [
       "array([], shape=(0, 2), dtype=int64)"
      ]
     },
     "execution_count": 175,
     "metadata": {},
     "output_type": "execute_result"
    }
   ],
   "source": [
    "temp2[(temp2[:, 0] == 98) & (temp2[:, 1] == 0)]"
   ]
  },
  {
   "cell_type": "code",
   "execution_count": null,
   "id": "reverse-candy",
   "metadata": {},
   "outputs": [],
   "source": [
    "for i in range(100)\n",
    "\n",
    "    # request the full subhalo details of the descendant by following the sublink URL\n",
    "    sub = get(sub['related']['sublink_projenitor'])"
   ]
  },
  {
   "cell_type": "code",
   "execution_count": null,
   "id": "changing-soviet",
   "metadata": {},
   "outputs": [],
   "source": [
    "#find halos whose masses are greater than 14.\n",
    "# link the halos in the direction of redshift\n",
    "# check gas, star-forming galxy distribution\n",
    "\n",
    "#reference: IllustriTNG-50 page"
   ]
  }
 ],
 "metadata": {
  "kernelspec": {
   "display_name": "Python 3",
   "language": "python",
   "name": "python3"
  },
  "language_info": {
   "codemirror_mode": {
    "name": "ipython",
    "version": 3
   },
   "file_extension": ".py",
   "mimetype": "text/x-python",
   "name": "python",
   "nbconvert_exporter": "python",
   "pygments_lexer": "ipython3",
   "version": "3.7.10"
  },
  "varInspector": {
   "cols": {
    "lenName": 16,
    "lenType": 16,
    "lenVar": 40
   },
   "kernels_config": {
    "python": {
     "delete_cmd_postfix": "",
     "delete_cmd_prefix": "del ",
     "library": "var_list.py",
     "varRefreshCmd": "print(var_dic_list())"
    },
    "r": {
     "delete_cmd_postfix": ") ",
     "delete_cmd_prefix": "rm(",
     "library": "var_list.r",
     "varRefreshCmd": "cat(var_dic_list()) "
    }
   },
   "types_to_exclude": [
    "module",
    "function",
    "builtin_function_or_method",
    "instance",
    "_Feature"
   ],
   "window_display": false
  }
 },
 "nbformat": 4,
 "nbformat_minor": 5
}
