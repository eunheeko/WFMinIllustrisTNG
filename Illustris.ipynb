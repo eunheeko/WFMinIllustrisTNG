{
 "cells": [
  {
   "cell_type": "code",
   "execution_count": 77,
   "id": "romance-store",
   "metadata": {},
   "outputs": [],
   "source": [
    "import requests\n",
    "import tqdm\n",
    "import h5py\n",
    "\n",
    "import os\n",
    "\n",
    "import matplotlib.pyplot as plt"
   ]
  },
  {
   "cell_type": "code",
   "execution_count": 6,
   "id": "conditional-bermuda",
   "metadata": {},
   "outputs": [],
   "source": [
    "baseUrl = 'http://www.tng-project.org/api/'\n",
    "headers = {\"api-key\":\"f96eabbae6f336408a63f875f8cce22f\"}"
   ]
  },
  {
   "cell_type": "code",
   "execution_count": 235,
   "id": "neutral-fighter",
   "metadata": {},
   "outputs": [],
   "source": [
    "def get(path, params=None):\n",
    "    # make HTTP GET request to path\n",
    "    r = requests.get(path, params=params, headers=headers)\n",
    "\n",
    "    # raise exception if response code is not HTTP SUCCESS (200)\n",
    "    r.raise_for_status()\n",
    "\n",
    "    if r.headers['content-type'] == 'application/json':\n",
    "        return r.json() # parse json responses automatically\n",
    "    return r\n",
    "\n",
    "def get_save(path, fname, params=None):\n",
    "    # make HTTP GET request to path\n",
    "    r = requests.get(path, params=params, headers=headers)\n",
    "\n",
    "    # raise exception if response code is not HTTP SUCCESS (200)\n",
    "    r.raise_for_status()\n",
    "\n",
    "#     if r.headers['content-type'] == 'application/json':\n",
    "#         return r.json() # parse json responses automatically\n",
    "\n",
    "    if 'content-disposition' in r.headers:\n",
    "#         filename = r.headers['content-disposition'].split(\"filename=\")[1]\n",
    "        with open(fname, 'wb') as f:\n",
    "            f.write(r.content)\n",
    "        return fname# return the filename string\n",
    "\n",
    "    return r"
   ]
  },
  {
   "cell_type": "code",
   "execution_count": 7,
   "id": "yellow-shopper",
   "metadata": {},
   "outputs": [],
   "source": [
    "sim = get(baseUrl + 'TNG50-1/')"
   ]
  },
  {
   "cell_type": "code",
   "execution_count": 62,
   "id": "synthetic-digest",
   "metadata": {},
   "outputs": [
    {
     "data": {
      "text/plain": [
       "dict_keys(['name', 'description', 'name_alt', 'boxsize', 'z_start', 'z_final', 'cosmology', 'omega_0', 'omega_L', 'omega_B', 'hubble', 'physics_model', 'has_cooling', 'has_starformation', 'has_winds', 'has_blackholes', 'mass_gas', 'mass_dm', 'softening_dm_comoving', 'softening_stars_comoving', 'softening_blackholes_comoving', 'softening_gas_comoving', 'softening_dm_max_phys', 'softening_stars_max_phys', 'softening_blackholes_max_phys', 'softening_gas_max_phys', 'softening_gas_factor', 'softening_gas_comoving_min', 'num_dm', 'num_tr_mc', 'num_tr_vel', 'longids', 'is_uniform', 'is_zoom', 'is_subbox', 'num_files_snapshot', 'num_files_groupcat', 'num_files_rockstar', 'num_files_lhalotree', 'num_files_sublink', 'num_files_ctrees', 'filesize_lhalotree', 'filesize_sublink', 'filesize_ctrees', 'filesize_ics', 'filesize_simulation', 'has_fof', 'has_subfind', 'has_rockstar', 'has_lhalotree', 'has_sublink', 'has_ctrees', 'permission_required', 'num_snapshots', 'url', 'parent_simulation', 'child_simulations', 'files', 'checksums', 'snapshots'])"
      ]
     },
     "execution_count": 62,
     "metadata": {},
     "output_type": "execute_result"
    }
   ],
   "source": [
    "sim.keys()"
   ]
  },
  {
   "cell_type": "code",
   "execution_count": 13,
   "id": "egyptian-lambda",
   "metadata": {},
   "outputs": [
    {
     "name": "stdout",
     "output_type": "stream",
     "text": [
      "num snapshots = 100\n",
      "num files snapshots = 680\n"
     ]
    }
   ],
   "source": [
    "num_snapshots = sim['num_snapshots']\n",
    "print(f'num snapshots = {num_snapshots}')\n",
    "\n",
    "num_files_snapshot = sim['num_files_snapshot']\n",
    "print(f'num files snapshots = {num_files_snapshot}')"
   ]
  },
  {
   "cell_type": "markdown",
   "id": "abroad-enclosure",
   "metadata": {},
   "source": [
    "# Find the galaxy clusters at z = 0\n",
    "\n",
    "Find the galaxy clusters ($M_{200}$ $\\geq$ 1e13)"
   ]
  },
  {
   "cell_type": "code",
   "execution_count": 61,
   "id": "frozen-briefs",
   "metadata": {},
   "outputs": [
    {
     "data": {
      "text/plain": [
       "{'lhalotree': 'http://www.tng-project.org/api/TNG50-1/files/lhalotree/',\n",
       " 'sublink': 'http://www.tng-project.org/api/TNG50-1/files/sublink/',\n",
       " 'offsets': 'http://www.tng-project.org/api/TNG50-1/files/offsets/',\n",
       " 'ics': 'http://www.tng-project.org/api/TNG50-1/files/ics.hdf5',\n",
       " 'simulation': 'http://www.tng-project.org/api/TNG50-1/files/simulation.hdf5',\n",
       " 'stellar_circs': 'http://www.tng-project.org/api/TNG50-1/files/stellar_circs.hdf5',\n",
       " 'subhalo_matching_to_dark': 'http://www.tng-project.org/api/TNG50-1/files/subhalo_matching_to_dark.hdf5',\n",
       " 'blackhole_mergers': 'http://www.tng-project.org/api/TNG50-1/files/blackhole_mergers.hdf5',\n",
       " 'blackhole_details': 'http://www.tng-project.org/api/TNG50-1/files/blackhole_details.hdf5',\n",
       " 'stellar_assembly': 'http://www.tng-project.org/api/TNG50-1/files/stellar_assembly.hdf5',\n",
       " 'subbox_subhalo_list_0': 'http://www.tng-project.org/api/TNG50-1/files/subbox_subhalo_list.0.hdf5',\n",
       " 'subbox_subhalo_list_1': 'http://www.tng-project.org/api/TNG50-1/files/subbox_subhalo_list.1.hdf5',\n",
       " 'subbox_subhalo_list_2': 'http://www.tng-project.org/api/TNG50-1/files/subbox_subhalo_list.2.hdf5',\n",
       " 'star_formation_rates': 'http://www.tng-project.org/api/TNG50-1/files/star_formation_rates.hdf5',\n",
       " 'aperture_masses': 'http://www.tng-project.org/api/TNG50-1/files/aperture_masses.hdf5',\n",
       " 'morphologies_deeplearn': 'http://www.tng-project.org/api/TNG50-1/files/morphologies_deeplearn.hdf5',\n",
       " 'halo_structure': 'http://www.tng-project.org/api/TNG50-1/files/halo_structure/',\n",
       " 'hih2_galaxy': 'http://www.tng-project.org/api/TNG50-1/files/hih2_galaxy/',\n",
       " 'stellar_sizes': 'http://www.tng-project.org/api/TNG50-1/files/stellar_sizes/',\n",
       " 'kinematic_decomposition': 'http://www.tng-project.org/api/TNG50-1/files/kinematic_decomposition/'}"
      ]
     },
     "execution_count": 61,
     "metadata": {},
     "output_type": "execute_result"
    }
   ],
   "source": [
    "sim['files']"
   ]
  },
  {
   "cell_type": "code",
   "execution_count": 36,
   "id": "simplified-hybrid",
   "metadata": {},
   "outputs": [
    {
     "name": "stdout",
     "output_type": "stream",
     "text": [
      "initial Group_M_TopHat200 saved\n",
      "initial GroupFirstSub saved\n",
      "initial GroupNsubs saved\n"
     ]
    }
   ],
   "source": [
    "url = 'http://www.tng-project.org/api/TNG50-1/files/groupcat-99/'\n",
    "query_mass = '?Group=Group_M_TopHat200'\n",
    "\n",
    "get_save(url + query_mass, './initial/Group_M_TopHat200')\n",
    "print('initial Group_M_TopHat200 saved')\n",
    "\n",
    "query_firstsub = '?Group=GroupFirstSub'\n",
    "get_save(url + query_firstsub, './initial/GroupFirstSub')\n",
    "print('initial GroupFirstSub saved')\n",
    "\n",
    "\n",
    "query_nsub = '?Group=GroupNsubs'\n",
    "get_save(url + query_nsub, './initial/GroupNsubs')\n",
    "print('initial GroupNsubs saved')"
   ]
  },
  {
   "cell_type": "code",
   "execution_count": 37,
   "id": "piano-conservative",
   "metadata": {},
   "outputs": [],
   "source": [
    "with h5py.File('./initial/Group_M_TopHat200', 'r') as f:\n",
    "    M200 = f['Group']['Group_M_TopHat200'][:] * 1e10 / 0.704"
   ]
  },
  {
   "cell_type": "code",
   "execution_count": 39,
   "id": "blocked-bouquet",
   "metadata": {},
   "outputs": [],
   "source": [
    "cl_index = np.where(M200 >= 1e13)[0]"
   ]
  },
  {
   "cell_type": "code",
   "execution_count": 47,
   "id": "banner-excess",
   "metadata": {},
   "outputs": [],
   "source": [
    "with h5py.File('./initial/GroupFirstSub', 'r') as f:\n",
    "    firstsub = f['Group']['GroupFirstSub'][:][cl_index]\n",
    "    \n",
    "with h5py.File('./initial/GroupNsubs', 'r') as f:\n",
    "    nsub = f['Group']['GroupNsubs'][:][cl_index]"
   ]
  },
  {
   "cell_type": "code",
   "execution_count": 48,
   "id": "enhanced-radiation",
   "metadata": {
    "scrolled": true
   },
   "outputs": [
    {
     "data": {
      "text/plain": [
       "array([     0,  63864,  96762, 117250, 143880, 167392, 184931, 198182,\n",
       "       208811, 220595, 229933, 242788, 253861, 264883, 275545, 282779,\n",
       "       289385, 294866, 300903, 307485, 313692, 319730, 324123, 329508,\n",
       "       333424, 338446], dtype=int32)"
      ]
     },
     "execution_count": 48,
     "metadata": {},
     "output_type": "execute_result"
    }
   ],
   "source": [
    "firstsub"
   ]
  },
  {
   "cell_type": "code",
   "execution_count": 49,
   "id": "experienced-factory",
   "metadata": {},
   "outputs": [
    {
     "data": {
      "text/plain": [
       "array([63864, 32898, 20488, 26630, 23512, 17539, 13251, 10629, 11784,\n",
       "        9338, 12855, 11073, 11022, 10662,  7234,  6606,  5481,  6037,\n",
       "        6582,  6207,  6038,  4393,  5385,  3916,  5022,  4000],\n",
       "      dtype=int32)"
      ]
     },
     "execution_count": 49,
     "metadata": {},
     "output_type": "execute_result"
    }
   ],
   "source": [
    "nsub"
   ]
  },
  {
   "cell_type": "code",
   "execution_count": 58,
   "id": "subsequent-purse",
   "metadata": {
    "scrolled": true
   },
   "outputs": [
    {
     "name": "stderr",
     "output_type": "stream",
     "text": [
      "100%|██████████| 100/100 [00:00<00:00, 1566.43it/s]\n"
     ]
    }
   ],
   "source": [
    "if not os.path.exists('./snaps/'):\n",
    "    \n",
    "    os.mkdir('./snaps/')\n",
    "    \n",
    "for i in tqdm.trange(100):\n",
    "    \n",
    "    path_name = f'./snaps/snap{i}'\n",
    "    \n",
    "    if not os.path.exists(path_name):\n",
    "        os.mkdir(path_name)"
   ]
  },
  {
   "cell_type": "code",
   "execution_count": 60,
   "id": "regular-accident",
   "metadata": {},
   "outputs": [
    {
     "name": "stderr",
     "output_type": "stream",
     "text": [
      "100%|██████████| 100/100 [3:42:23<00:00, 133.44s/it] \n"
     ]
    }
   ],
   "source": [
    "for i in tqdm.trange(100):\n",
    "    \n",
    "    url = f'http://www.tng-project.org/api/TNG50-1/files/groupcat-{i}/'\n",
    "    path_name = f'./snaps/snap{i}/'\n",
    "    \n",
    "    query_mass = '?Group=Group_M_TopHat200'\n",
    "    get_save(url + query_mass, path_name + 'Group_M_TopHat200')\n",
    "\n",
    "    query_firstsub = '?Group=GroupFirstSub'\n",
    "    get_save(url + query_firstsub, path_name + 'GroupFirstSub')\n",
    "\n",
    "    query_nsub = '?Group=GroupNsubs'\n",
    "    get_save(url + query_nsub, path_name + 'GroupNsubs')\n"
   ]
  },
  {
   "cell_type": "code",
   "execution_count": 61,
   "id": "annoying-focus",
   "metadata": {
    "scrolled": true
   },
   "outputs": [
    {
     "data": {
      "text/plain": [
       "array([ 0,  1,  2,  3,  4,  5,  6,  7,  8,  9, 10, 11, 12, 13, 14, 15, 16,\n",
       "       17, 18, 19, 20, 21, 22, 23, 24, 25])"
      ]
     },
     "execution_count": 61,
     "metadata": {},
     "output_type": "execute_result"
    }
   ],
   "source": [
    "cl_index "
   ]
  },
  {
   "cell_type": "markdown",
   "id": "indie-heavy",
   "metadata": {},
   "source": [
    "# Find the progenitor cluster"
   ]
  },
  {
   "cell_type": "code",
   "execution_count": 252,
   "id": "dressed-momentum",
   "metadata": {},
   "outputs": [
    {
     "data": {
      "text/plain": [
       "array([     0,  63864,  96762, 117250, 143880, 167392, 184931, 198182,\n",
       "       208811, 220595, 229933, 242788, 253861, 264883, 275545, 282779,\n",
       "       289385, 294866, 300903, 307485, 313692, 319730, 324123, 329508,\n",
       "       333424, 338446], dtype=int32)"
      ]
     },
     "execution_count": 252,
     "metadata": {},
     "output_type": "execute_result"
    }
   ],
   "source": [
    "firstsub[cl_index] # Main progenitor of FOF group at z = 0"
   ]
  },
  {
   "cell_type": "code",
   "execution_count": 262,
   "id": "attempted-calgary",
   "metadata": {},
   "outputs": [
    {
     "name": "stderr",
     "output_type": "stream",
     "text": [
      "100%|██████████| 26/26 [00:00<00:00, 1235.24it/s]\n"
     ]
    }
   ],
   "source": [
    "for cl_id in tqdm.tqdm(cl_index):\n",
    "    \n",
    "    path = f'./groups/grp{cl_id:02d}'\n",
    "    \n",
    "    if not os.path.exists(path):\n",
    "        os.mkdir(path)"
   ]
  },
  {
   "cell_type": "markdown",
   "id": "mathematical-walker",
   "metadata": {},
   "source": [
    "Discussion Forum => refer \"Halo Evolution\""
   ]
  },
  {
   "cell_type": "code",
   "execution_count": null,
   "id": "durable-radio",
   "metadata": {
    "scrolled": true
   },
   "outputs": [
    {
     "name": "stderr",
     "output_type": "stream",
     "text": [
      "  8%|▊         | 2/26 [03:36<43:43, 109.32s/it]"
     ]
    }
   ],
   "source": [
    "# find main progenitor branch\n",
    "for cl_id in tqdm.tqdm(cl_index):\n",
    "    \n",
    "    main_sh = firstsub[cl_id]\n",
    "    \n",
    "    url = f'http://www.tng-project.org/api/TNG50-1/snapshots/99/subhalos/' + str(main_sh) + '/lhalotree/mpb.hdf5'\n",
    "    \n",
    "    fname = f'./groups/grp{cl_id:02d}/lhalompb'\n",
    "    \n",
    "    fname = get_save(url, fname)"
   ]
  },
  {
   "cell_type": "code",
   "execution_count": null,
   "id": "verbal-tractor",
   "metadata": {},
   "outputs": [],
   "source": [
    "#check 'SnapNum' and 'SubhaloGrNr'\n",
    "SnapNums = []\n",
    "SubhaloGrNrs = []\n",
    "for cl_id in tqdm.tqdm(cl_index):\n",
    "    \n",
    "#     main_sh = firstsub[cl_id]\n",
    "#     url = f'http://www.tng-project.org/api/TNG50-1/snapshots/99/subhalos/' + str(main_sh) + '/lhalotree/mpb.hdf5'\n",
    "    \n",
    "    fname = f'./groups/grp{cl_id:02d}/lhalompb'\n",
    "    \n",
    "    with h5py.File(fname, 'r') as f:\n",
    "        SnapNums.append(f['SnapNum'][:])\n",
    "        SubhaloGrNrs.append(f['SubhaloGrNrs'][:])"
   ]
  },
  {
   "cell_type": "code",
   "execution_count": 248,
   "id": "hairy-parks",
   "metadata": {
    "scrolled": true
   },
   "outputs": [
    {
     "name": "stderr",
     "output_type": "stream",
     "text": [
      "100%|██████████| 10/10 [00:00<00:00, 139.13it/s]\n"
     ]
    }
   ],
   "source": [
    "grnr = []\n",
    "\n",
    "for sfid in tqdm.trange(10):\n",
    "    \n",
    "    fname = f'./groups/grp00/lhalompb{sfid}'\n",
    "    \n",
    "    with h5py.File(fname, 'r') as f:\n",
    "        \n",
    "        mpb = f['SubhaloGrNr'][:]\n",
    "        grnr.append(mpb)\n",
    "    \n",
    "    "
   ]
  },
  {
   "cell_type": "code",
   "execution_count": 249,
   "id": "prime-motion",
   "metadata": {
    "scrolled": true
   },
   "outputs": [
    {
     "data": {
      "text/plain": [
       "[array([  0,   0,   0,   0,   0,   0,   0,   0,   0,   0,   0,   0,   0,\n",
       "          0,   0,   0,   0,   0,   0,   0,   0,   0,   0,   0,   0,   0,\n",
       "          0,   0,   0,   0,   0,   0,   0,   0,   0,   0,   0,   0,   0,\n",
       "          0,   0,   0,   0,   0,   0,   0,   0,   0,   0,   0,   0,   0,\n",
       "          0,   1,   1,   1,   1,   1,   1,   1,   1,   1,   1,   1,   1,\n",
       "          2,   1,   2,   2,   2,   2,   2,   2,   2,   1,   1,   2,   2,\n",
       "          2,   2,   2,   2,   3,   2,   7,  11,  11,  10,   8,   7,   7,\n",
       "          6,   6,   7,   9,  77, 278, 276, 768, 743], dtype=int32),\n",
       " array([    0,     0,     0,     0,     0,     0,     0,     0,     0,\n",
       "            0,     0,     0,     0,     0,     0,     0,     0,     0,\n",
       "            0,     0,     0,     0,     0,     0,     0,     0,     0,\n",
       "            0,     0,     0,     0,     0,     0,     0,     0,     0,\n",
       "           28,    29,    29,     0,    27,    26,    26,    26,    28,\n",
       "           27,    26,    24,    22,    20,    19,    20,    19,    20,\n",
       "           18,    18,    16,    17,    15,    15,    14,    12,    14,\n",
       "           13,    11,    11,    10,    10,    10,     6,     6,     6,\n",
       "            9,     8,     5,     7,     3,     6,    23,    22,    18,\n",
       "           41,    53,    49,    57,   444,   530,   696,   977,   710,\n",
       "          622,   344,   396,  1832,  2100,  4117,  3406,  2103, 25260],\n",
       "       dtype=int32),\n",
       " array([     0,      0,      0,      0,      0,      0,      0,      0,\n",
       "             0,      0,      0,     63,     62,     60,     62,     60,\n",
       "            60,     58,     57,     51,     53,     45,     49,     56,\n",
       "            51,     55,     55,     50,     54,     55,     62,     65,\n",
       "            55,     62,     87,     87,     88,     79,     80,     79,\n",
       "            78,     89,     87,     81,     78,     79,     76,     74,\n",
       "            77,     80,     77,     74,     74,     74,     86,     86,\n",
       "            88,     87,    142,    150,    145,    146,    155,    155,\n",
       "           158,    223,    230,    243,    262,    279,    276,    275,\n",
       "           404,    379,    377,    374,    370,    467,    412,    371,\n",
       "           367,    450,    444,   1118,   1581,   1474,   1963,   2026,\n",
       "          1512,   2466,   2262,   2466,   8125,   7490,   6846,   5002,\n",
       "          6844,   3752, 119205], dtype=int32),\n",
       " array([  0,   0, 309, 310,   0,   0,   0,   0,   0,   0,   0,   0,   0,\n",
       "          0,   0,   0,   0,   0,   0,   0,   0,   0,   0,   0,   0,   0,\n",
       "          0,   0,   0,   0,   0,   0,   0,   0,   0,   0,   0,   0,   0,\n",
       "          0,   0,   0,   0,   0,   0,   0,   0,   0,   0,   0,   0,   0,\n",
       "          0,   1,   1,   1,   1,   1,   1,  22,  21,  19,  95, 101,  90,\n",
       "         82,  78,  74, 100,  98,  97, 102,  90, 113, 108, 101,  94,  90,\n",
       "        103, 105, 116, 118, 113, 117, 107,  91,  91,  91,  90,  79,  64,\n",
       "         68, 130, 286, 192, 229, 158, 126, 137, 123], dtype=int32),\n",
       " array([   0,    0,    0,    0,    0,    0,    0,    0,    0,    0,    0,\n",
       "           0,    0,    0,    0,    0,    0,    0,    0,    0,    0,    0,\n",
       "           0,    0,    0,    0,    0,    0,    0,    0,    0,    0,    0,\n",
       "           0,    1,    1,    1,    1,    1,    1,    1,    1,    1,    1,\n",
       "           1,    1,    1,    1,    1,    1,    1,    1,    1,  126,  132,\n",
       "         132,  133,  128,  131,  139,  135,  132,  135,  132,  134,  135,\n",
       "         131,  128,   99,   94,   83,   85,   82,   77,   78,  107,   93,\n",
       "          57,   87,   92,   89,  103,   95,   88,   73,   69,   66,   57,\n",
       "          76,   69,  115,   58,   65,   37,   36,   34,   46,   38,   93,\n",
       "        7879], dtype=int32),\n",
       " array([   0,    0,    0,    0,    0,    0,    0,    0,    0,    0,    0,\n",
       "           0,    0,    0,    0,    0,    0,    0,    0,    0,    0,    0,\n",
       "           0,    0,    0,    0,    0,    0,    0,  182,  185,  191,  192,\n",
       "         194,  197,  196,  197,  194,  193,  197,  192,  192,  189,  192,\n",
       "         189,  182,  180,  177,  177,  180,  184,  195,  199,  205,  204,\n",
       "         205,  202,  221,  222,  225,  225,  215,  218,  221,  220,  216,\n",
       "         211,  223,  220,  264,  229,  245,  223,  197,  178,  141,  125,\n",
       "         127,  178,  161,  176,  210,  198,  203,  285,  270,  253,  185,\n",
       "         260,  263,  252,  336,  264,  470,  621,  215,  996, 5888, 1325],\n",
       "       dtype=int32),\n",
       " array([  0,   0,   0,   0,   0,   0,   0,   0,   0,   0,   0,   0,   0,\n",
       "          0,   0,   0,   0,   0,   0,   0,   0,   0,   0,   0,   0,   0,\n",
       "          0,   0,   0,   0,   0,   0,   0,   0,   0,   0,   0,   0,   0,\n",
       "          0,   0,   0,   0,   0,   0,   0,   0,   0,   0,   0,   0,   0,\n",
       "          0,  96,  89,  79,  65,   1,   1,  64,  64,  63,  82,  79,  75,\n",
       "         69,  68,  58,  14,  14,  47,  40,  35,  34,  34,  27,   3,  33,\n",
       "         45,  50,  45,  35,  26,  27,  25,  21,  20,  20,  17,  33,  25,\n",
       "         10,  11,  58,  28,  18,  29, 247, 625], dtype=int32),\n",
       " array([   0,    0,    0,    0,    0,    0,    0,    0,    0,    0,    0,\n",
       "           0,    0,    0,    0,    0,    0,    0,    0,    0,    0,    0,\n",
       "           0,    0,    0,    0,    0,    0,    0,    0,    0,    0,    0,\n",
       "           0,    0,    0,    0,    0,    0,    0,    0,    0,    0,    0,\n",
       "           0,    0,    0,    0,    0,    0,    0,  224,  231,  233,  237,\n",
       "         231,  164,  149,  148,  136,  133,  125,  165,  154,  157,  155,\n",
       "         159,  166,  159,  159,  166,  160,  145,  151,  140,  104,   90,\n",
       "         103,   88,   80,   75,  181,  469,  410,  350,  327,  403,  355,\n",
       "         305,  280,  358,  697,  553,  542,  486,  458,  270,  328, 4607],\n",
       "       dtype=int32),\n",
       " array([    0,     0,     0,     0,     0,     0,   270,   269,   275,\n",
       "          277,   285,   281,   280,   282,   279,   280,   284,   285,\n",
       "          204,   202,   203,   203,   209,   284,   294,   297,   296,\n",
       "          290,   290,   271,   269,   269,   270,   273,   274,   300,\n",
       "          303,   318,   324,   327,   329,   335,   341,   352,   352,\n",
       "          365,   369,   384,   389,   394,   434,   433,   408,   410,\n",
       "          438,   453,   448,   456,   466,   573,   561,   567,   574,\n",
       "          586,   617,   625,   651,   678,   700,   708,   718,   907,\n",
       "         1676,  1643,  1626,  1690,  1524,  1810,  1810,  1759,  1302,\n",
       "         1448,  1435,  5307,  6477,  6333,  5927,  4470,  4956,  4146,\n",
       "         3882,  3084,  2361,  2659,  6315, 19289, 21632, 12895,  2664,\n",
       "          495], dtype=int32),\n",
       " array([     0,      0,      0,      0,      0,      0,      0,      0,\n",
       "             0,      0,      0,      0,      0,      0,      0,      0,\n",
       "             0,      0,      0,      0,      0,      0,      0,      0,\n",
       "             0,    351,      0,      0,      0,      0,      0,      0,\n",
       "             0,      0,      1,      1,      1,      1,      1,      1,\n",
       "             1,      1,      1,      1,      1,      1,    214,    211,\n",
       "           216,    187,    216,    192,    202,    232,    227,    224,\n",
       "           213,    207,    209,    209,    201,    197,    193,    184,\n",
       "           191,    201,    192,    191,    181,    187,    193,    200,\n",
       "           191,    271,    261,    235,    210,    220,    307,    313,\n",
       "           291,    284,    252,    270,    367,    332,    300,    378,\n",
       "          1259,    210,    307,   1253,   1214,   1194,   1734,   2732,\n",
       "         20130,  42803, 119236], dtype=int32)]"
      ]
     },
     "execution_count": 249,
     "metadata": {},
     "output_type": "execute_result"
    }
   ],
   "source": [
    "grnr"
   ]
  },
  {
   "cell_type": "code",
   "execution_count": null,
   "id": "nearby-record",
   "metadata": {},
   "outputs": [],
   "source": []
  },
  {
   "cell_type": "code",
   "execution_count": 94,
   "id": "preliminary-bunny",
   "metadata": {},
   "outputs": [
    {
     "data": {
      "text/plain": [
       "'http://www.tng-project.org/api/TNG50-1/snapshots/99/subhalos/0'"
      ]
     },
     "execution_count": 94,
     "metadata": {},
     "output_type": "execute_result"
    }
   ],
   "source": [
    "url = f'http://www.tng-project.org/api/TNG50-1/snapshots/99/subhalos/' + str(0) + '/lhalotree/mpb.hdf5'"
   ]
  },
  {
   "cell_type": "code",
   "execution_count": 95,
   "id": "variable-horse",
   "metadata": {},
   "outputs": [],
   "source": [
    "sub = get(url)"
   ]
  },
  {
   "cell_type": "code",
   "execution_count": 123,
   "id": "adverse-former",
   "metadata": {},
   "outputs": [
    {
     "data": {
      "text/plain": [
       "dict_keys(['snap', 'id', 'bhmdot', 'cm_x', 'cm_y', 'cm_z', 'gasmetallicity', 'gasmetallicityhalfrad', 'gasmetallicitymaxrad', 'gasmetallicitysfr', 'gasmetallicitysfrweighted', 'pos_x', 'pos_y', 'pos_z', 'halfmassrad', 'halfmassrad_gas', 'halfmassrad_dm', 'halfmassrad_stars', 'halfmassrad_bhs', 'len', 'len_gas', 'len_dm', 'len_stars', 'len_bhs', 'mass', 'mass_gas', 'mass_dm', 'mass_stars', 'mass_bhs', 'massinhalfrad', 'massinhalfrad_gas', 'massinhalfrad_dm', 'massinhalfrad_stars', 'massinhalfrad_bhs', 'massinmaxrad', 'massinmaxrad_gas', 'massinmaxrad_dm', 'massinmaxrad_stars', 'massinmaxrad_bhs', 'massinrad', 'massinrad_gas', 'massinrad_dm', 'massinrad_stars', 'massinrad_bhs', 'sfr', 'sfrinhalfrad', 'sfrinmaxrad', 'sfrinrad', 'spin_x', 'spin_y', 'spin_z', 'starmetallicity', 'starmetallicityhalfrad', 'starmetallicitymaxrad', 'stellarphotometrics_u', 'stellarphotometrics_b', 'stellarphotometrics_v', 'stellarphotometrics_k', 'stellarphotometrics_g', 'stellarphotometrics_r', 'stellarphotometrics_i', 'stellarphotometrics_z', 'stellarphotometricsmassinrad', 'stellarphotometricsrad', 'vel_x', 'vel_y', 'vel_z', 'veldisp', 'vmax', 'vmaxrad', 'windmass', 'prog_snap', 'prog_sfid', 'desc_snap', 'desc_sfid', 'parent', 'grnr', 'primary_flag', 'mass_log_msun', 'related', 'cutouts', 'trees', 'supplementary_data', 'vis', 'meta'])"
      ]
     },
     "execution_count": 123,
     "metadata": {},
     "output_type": "execute_result"
    }
   ],
   "source": [
    "sub.keys()"
   ]
  },
  {
   "cell_type": "markdown",
   "id": "basic-dressing",
   "metadata": {},
   "source": [
    "**sublink_simple**\n",
    "\n",
    "retrieve a simple representation of the SubLink tree, the Main Progenitor Branch (in 'Main') and a list of past mergers (in 'Mergers') only. In both cases a snapshot number and subhalo ID pair is given."
   ]
  },
  {
   "cell_type": "code",
   "execution_count": 121,
   "id": "floppy-grill",
   "metadata": {
    "scrolled": true
   },
   "outputs": [
    {
     "data": {
      "text/plain": [
       "{'sublink': 'http://www.tng-project.org/api/TNG50-1/snapshots/99/subhalos/0/sublink/full.hdf5',\n",
       " 'sublink_mpb': 'http://www.tng-project.org/api/TNG50-1/snapshots/99/subhalos/0/sublink/mpb.hdf5',\n",
       " 'sublink_mdb': 'http://www.tng-project.org/api/TNG50-1/snapshots/99/subhalos/0/sublink/mdb.hdf5',\n",
       " 'sublink_simple': 'http://www.tng-project.org/api/TNG50-1/snapshots/99/subhalos/0/sublink/simple.json',\n",
       " 'lhalotree': 'http://www.tng-project.org/api/TNG50-1/snapshots/99/subhalos/0/lhalotree/full.hdf5',\n",
       " 'lhalotree_mpb': 'http://www.tng-project.org/api/TNG50-1/snapshots/99/subhalos/0/lhalotree/mpb.hdf5'}"
      ]
     },
     "execution_count": 121,
     "metadata": {},
     "output_type": "execute_result"
    }
   ],
   "source": [
    "sub['trees']"
   ]
  },
  {
   "cell_type": "code",
   "execution_count": 192,
   "id": "wound-march",
   "metadata": {},
   "outputs": [],
   "source": [
    "submpb = get_save(sub['trees']['sublink_mpb'], 'sublink_mpb')"
   ]
  },
  {
   "cell_type": "code",
   "execution_count": 195,
   "id": "boxed-muscle",
   "metadata": {
    "scrolled": true
   },
   "outputs": [
    {
     "name": "stderr",
     "output_type": "stream",
     "text": [
      "/home/ehko/anaconda3/lib/python3.7/site-packages/ipykernel_launcher.py:1: H5pyDeprecationWarning: The default file mode will change to 'r' (read-only) in h5py 3.0. To suppress this warning, pass the mode you need to h5py.File(), or set the global default h5.get_config().default_file_mode, or set the environment variable H5PY_DEFAULT_READONLY=1. Available modes are: 'r', 'r+', 'w', 'w-'/'x', 'a'. See the docs for details.\n",
      "  \"\"\"Entry point for launching an IPython kernel.\n"
     ]
    }
   ],
   "source": [
    "submpb = h5py.File('sublink_mpb')"
   ]
  },
  {
   "cell_type": "code",
   "execution_count": 196,
   "id": "literary-variance",
   "metadata": {},
   "outputs": [
    {
     "data": {
      "text/plain": [
       "<KeysViewHDF5 ['DescendantID', 'FirstProgenitorID', 'FirstSubhaloInFOFGroupID', 'GroupBHMass', 'GroupBHMdot', 'GroupCM', 'GroupFirstSub', 'GroupGasMetalFractions', 'GroupGasMetallicity', 'GroupLen', 'GroupLenType', 'GroupMass', 'GroupMassType', 'GroupNsubs', 'GroupPos', 'GroupSFR', 'GroupStarMetalFractions', 'GroupStarMetallicity', 'GroupVel', 'GroupWindMass', 'Group_M_Crit200', 'Group_M_Crit500', 'Group_M_Mean200', 'Group_M_TopHat200', 'Group_R_Crit200', 'Group_R_Crit500', 'Group_R_Mean200', 'Group_R_TopHat200', 'LastProgenitorID', 'MainLeafProgenitorID', 'Mass', 'MassHistory', 'NextProgenitorID', 'NextSubhaloInFOFGroupID', 'NumParticles', 'RootDescendantID', 'SnapNum', 'SubfindID', 'SubhaloBHMass', 'SubhaloBHMdot', 'SubhaloCM', 'SubhaloGasMetalFractions', 'SubhaloGasMetalFractionsHalfRad', 'SubhaloGasMetalFractionsMaxRad', 'SubhaloGasMetalFractionsSfr', 'SubhaloGasMetalFractionsSfrWeighted', 'SubhaloGasMetallicity', 'SubhaloGasMetallicityHalfRad', 'SubhaloGasMetallicityMaxRad', 'SubhaloGasMetallicitySfr', 'SubhaloGasMetallicitySfrWeighted', 'SubhaloGrNr', 'SubhaloHalfmassRad', 'SubhaloHalfmassRadType', 'SubhaloID', 'SubhaloIDMostbound', 'SubhaloIDRaw', 'SubhaloLen', 'SubhaloLenType', 'SubhaloMass', 'SubhaloMassInHalfRad', 'SubhaloMassInHalfRadType', 'SubhaloMassInMaxRad', 'SubhaloMassInMaxRadType', 'SubhaloMassInRad', 'SubhaloMassInRadType', 'SubhaloMassType', 'SubhaloParent', 'SubhaloPos', 'SubhaloSFR', 'SubhaloSFRinHalfRad', 'SubhaloSFRinMaxRad', 'SubhaloSFRinRad', 'SubhaloSpin', 'SubhaloStarMetalFractions', 'SubhaloStarMetalFractionsHalfRad', 'SubhaloStarMetalFractionsMaxRad', 'SubhaloStarMetallicity', 'SubhaloStarMetallicityHalfRad', 'SubhaloStarMetallicityMaxRad', 'SubhaloStellarPhotometrics', 'SubhaloStellarPhotometricsMassInRad', 'SubhaloStellarPhotometricsRad', 'SubhaloVel', 'SubhaloVelDisp', 'SubhaloVmax', 'SubhaloVmaxRad', 'SubhaloWindMass', 'TreeID']>"
      ]
     },
     "execution_count": 196,
     "metadata": {},
     "output_type": "execute_result"
    }
   ],
   "source": [
    "submpb.keys()"
   ]
  },
  {
   "cell_type": "code",
   "execution_count": 246,
   "id": "czech-vintage",
   "metadata": {},
   "outputs": [
    {
     "data": {
      "text/plain": [
       "array([99, 98, 97, 96, 95, 94, 93, 92, 91, 90, 89, 88, 87, 86, 85, 84, 83,\n",
       "       82, 81, 80, 79, 78, 77, 76, 75, 74, 73, 72, 71, 70, 69, 68, 67, 66,\n",
       "       65, 64, 63, 62, 61, 60, 59, 58, 57, 56, 55, 54, 53, 52, 51, 50, 49,\n",
       "       48, 47, 46, 45, 44, 43, 42, 41, 40, 39, 38, 37, 36, 35, 34, 33, 32,\n",
       "       31, 30, 29, 28, 27, 26, 25, 24, 23, 22, 21, 20, 19, 18, 17, 16, 15,\n",
       "       14, 13, 12, 11, 10,  9,  8,  7,  6,  5,  4,  3,  2,  1,  0],\n",
       "      dtype=int16)"
      ]
     },
     "execution_count": 246,
     "metadata": {},
     "output_type": "execute_result"
    }
   ],
   "source": [
    "submpb['SnapNum'][:]"
   ]
  },
  {
   "cell_type": "code",
   "execution_count": 247,
   "id": "incredible-cause",
   "metadata": {},
   "outputs": [
    {
     "data": {
      "text/plain": [
       "array([  0,   0,   0,   0,   0,   0,   0,   0,   0,   0,   0,   0,   0,\n",
       "         0,   0,   0,   0,   0,   0,   0,   0,   0,   0,   0,   0,   0,\n",
       "         0,   0,   0,   0,   0,   0,   0,   0,   0,   0,   0,   0,   0,\n",
       "         0,   0,   0,   0,   0,   0,   0,   0,   0,   0,   0,   0,   0,\n",
       "         0,   1,   1,   1,   1,   1,   1,   1,   1,   1,   1,   1,   1,\n",
       "         2,   1,   2,   2,   2,   2,   2,   2,   2,   1,   1,   2,   2,\n",
       "         2,   2,   2,   2,   3,   2,   7,  11,  11,  10,   8,   7,   7,\n",
       "         6,   6,   7,   9,  77, 278, 276, 768, 743], dtype=int32)"
      ]
     },
     "execution_count": 247,
     "metadata": {},
     "output_type": "execute_result"
    }
   ],
   "source": [
    "submpb['SubhaloGrNr'][:]"
   ]
  },
  {
   "cell_type": "code",
   "execution_count": 226,
   "id": "manual-columbus",
   "metadata": {},
   "outputs": [],
   "source": [
    "# submpb['TreeID'][:]"
   ]
  },
  {
   "cell_type": "code",
   "execution_count": 223,
   "id": "terminal-shade",
   "metadata": {},
   "outputs": [
    {
     "data": {
      "text/plain": [
       "array([    0,     0,     0,     0,     0,     0,     0,     0,     0,\n",
       "           0,     0,     2,     0,     0,     0,     0,     0,     0,\n",
       "           0,     0,     0,     0,     0,     0,     0,     0,     0,\n",
       "           0,     0,     0,     0,     0,     0,     0,     0,     0,\n",
       "           0,     0,     0,     0,     0,     0,     0,     0,     0,\n",
       "           0,     0,     0,     0,     0,     0,     0,     0, 15511,\n",
       "       15404, 15624, 15693, 15268, 15472, 15216, 15220, 15195,  9247,\n",
       "        8857,  8266, 15343,  8068, 14355, 13700, 13673, 13021,  9440,\n",
       "       10323,  8987,  3769,  3258,  5996,  4230,  3857,  3618,  3738,\n",
       "        2918,  3119,  1836,  4458,  4301,  4308,  3400,  2314,  2120,\n",
       "        2017,  1470,  1393,  1317,  1329,  3971,  6134,  4334,  3853,\n",
       "        1171], dtype=int32)"
      ]
     },
     "execution_count": 223,
     "metadata": {},
     "output_type": "execute_result"
    }
   ],
   "source": [
    "submpb['SubfindID'][:]\n",
    "# submpb['SubhaloID'][:]"
   ]
  },
  {
   "cell_type": "code",
   "execution_count": 198,
   "id": "collective-material",
   "metadata": {},
   "outputs": [],
   "source": [
    "lhalompb = get_save(sub['trees']['lhalotree_mpb'], 'lhalotree_mpb')"
   ]
  },
  {
   "cell_type": "code",
   "execution_count": 232,
   "id": "above-schedule",
   "metadata": {},
   "outputs": [],
   "source": [
    "lhalompb = h5py.File('lhalotree_mpb', 'r')"
   ]
  },
  {
   "cell_type": "code",
   "execution_count": 201,
   "id": "latest-saudi",
   "metadata": {},
   "outputs": [
    {
     "data": {
      "text/plain": [
       "<KeysViewHDF5 ['Descendant', 'FileNr', 'FirstHaloInFOFGroup', 'FirstProgenitor', 'GroupCM', 'GroupMassType', 'Group_M_Crit200', 'Group_M_Crit500', 'Group_M_Mean200', 'Group_M_TopHat200', 'Group_R_Crit200', 'Group_R_Crit500', 'Group_R_Mean200', 'Group_R_TopHat200', 'NextHaloInFOFGroup', 'NextProgenitor', 'SnapNum', 'SubhaloBHMass', 'SubhaloBHMdot', 'SubhaloGasMetalFractions', 'SubhaloGasMetalFractionsSfr', 'SubhaloGasMetallicity', 'SubhaloGasMetallicitySfr', 'SubhaloGrNr', 'SubhaloHalfmassRad', 'SubhaloHalfmassRadType', 'SubhaloIDMostBound', 'SubhaloLen', 'SubhaloLenType', 'SubhaloMassInRadType', 'SubhaloMassType', 'SubhaloNumber', 'SubhaloOffsetType', 'SubhaloPos', 'SubhaloSFR', 'SubhaloSFRinRad', 'SubhaloSpin', 'SubhaloStarMetalFractions', 'SubhaloStarMetallicity', 'SubhaloStellarPhotometrics', 'SubhaloVMax', 'SubhaloVel', 'SubhaloVelDisp']>"
      ]
     },
     "execution_count": 201,
     "metadata": {},
     "output_type": "execute_result"
    }
   ],
   "source": [
    "lhalompb.keys()"
   ]
  },
  {
   "cell_type": "code",
   "execution_count": 234,
   "id": "alternate-guest",
   "metadata": {},
   "outputs": [],
   "source": [
    "# lhalompb['SnapNum'][:]"
   ]
  },
  {
   "cell_type": "code",
   "execution_count": 214,
   "id": "eastern-beginning",
   "metadata": {},
   "outputs": [
    {
     "data": {
      "text/plain": [
       "array([ 0,  0,  0,  0,  0,  0,  0,  0,  0,  0,  0,  0,  0,  0,  0,  0,  0,\n",
       "        0,  0,  0,  0,  0,  0,  0,  0,  0,  0,  0,  0,  0,  0,  0,  0,  0,\n",
       "        0,  0,  0,  0,  0,  0,  0,  0,  0,  0,  0,  0,  0,  0,  0,  0,  0,\n",
       "        0,  0, 10,  9,  9,  9,  9,  9,  8,  8,  8,  5,  5,  5,  9,  4,  8,\n",
       "        7,  7,  6,  5,  5,  4,  2,  1,  2,  2,  1,  1,  1,  1,  1,  0,  1,\n",
       "        1,  1,  1,  0,  0,  0,  0,  0,  0,  0,  0,  1,  1,  3, 13],\n",
       "      dtype=int32)"
      ]
     },
     "execution_count": 214,
     "metadata": {},
     "output_type": "execute_result"
    }
   ],
   "source": [
    "lhalompb['FileNr'][:]"
   ]
  },
  {
   "cell_type": "code",
   "execution_count": 145,
   "id": "inner-seattle",
   "metadata": {},
   "outputs": [],
   "source": [
    "mpb = get_save(sub['trees']['lhalotree_mpb'], 'lhalotree_mpb')"
   ]
  },
  {
   "cell_type": "code",
   "execution_count": 146,
   "id": "toxic-westminster",
   "metadata": {},
   "outputs": [
    {
     "name": "stderr",
     "output_type": "stream",
     "text": [
      "/home/ehko/anaconda3/lib/python3.7/site-packages/ipykernel_launcher.py:1: H5pyDeprecationWarning: The default file mode will change to 'r' (read-only) in h5py 3.0. To suppress this warning, pass the mode you need to h5py.File(), or set the global default h5.get_config().default_file_mode, or set the environment variable H5PY_DEFAULT_READONLY=1. Available modes are: 'r', 'r+', 'w', 'w-'/'x', 'a'. See the docs for details.\n",
      "  \"\"\"Entry point for launching an IPython kernel.\n"
     ]
    }
   ],
   "source": [
    "mpb = h5py.File('lhalotree_mpb')"
   ]
  },
  {
   "cell_type": "code",
   "execution_count": 190,
   "id": "planned-device",
   "metadata": {},
   "outputs": [
    {
     "data": {
      "text/plain": [
       "<KeysViewHDF5 ['Descendant', 'FileNr', 'FirstHaloInFOFGroup', 'FirstProgenitor', 'GroupCM', 'GroupMassType', 'Group_M_Crit200', 'Group_M_Crit500', 'Group_M_Mean200', 'Group_M_TopHat200', 'Group_R_Crit200', 'Group_R_Crit500', 'Group_R_Mean200', 'Group_R_TopHat200', 'NextHaloInFOFGroup', 'NextProgenitor', 'SnapNum', 'SubhaloBHMass', 'SubhaloBHMdot', 'SubhaloGasMetalFractions', 'SubhaloGasMetalFractionsSfr', 'SubhaloGasMetallicity', 'SubhaloGasMetallicitySfr', 'SubhaloGrNr', 'SubhaloHalfmassRad', 'SubhaloHalfmassRadType', 'SubhaloIDMostBound', 'SubhaloLen', 'SubhaloLenType', 'SubhaloMassInRadType', 'SubhaloMassType', 'SubhaloNumber', 'SubhaloOffsetType', 'SubhaloPos', 'SubhaloSFR', 'SubhaloSFRinRad', 'SubhaloSpin', 'SubhaloStarMetalFractions', 'SubhaloStarMetallicity', 'SubhaloStellarPhotometrics', 'SubhaloVMax', 'SubhaloVel', 'SubhaloVelDisp']>"
      ]
     },
     "execution_count": 190,
     "metadata": {},
     "output_type": "execute_result"
    }
   ],
   "source": [
    "mpb.keys()"
   ]
  },
  {
   "cell_type": "code",
   "execution_count": 189,
   "id": "adaptive-principal",
   "metadata": {},
   "outputs": [
    {
     "data": {
      "text/plain": [
       "array([99, 98, 97, 96, 95, 94, 93, 92, 91, 90, 89, 88, 87, 86, 85, 84, 83,\n",
       "       82, 81, 80, 79, 78, 77, 76, 75, 74, 73, 72, 71, 70, 69, 68, 67, 66,\n",
       "       65, 64, 63, 62, 61, 60, 59, 58, 57, 56, 55, 54, 53, 52, 51, 50, 49,\n",
       "       48, 47, 46, 45, 44, 43, 42, 41, 40, 39, 38, 37, 36, 35, 34, 33, 32,\n",
       "       31, 30, 29, 28, 27, 26, 25, 24, 23, 22, 21, 20, 19, 18, 17, 16, 15,\n",
       "       14, 13, 12, 11, 10,  9,  8,  7,  6,  5,  4,  3,  2,  1,  0],\n",
       "      dtype=int32)"
      ]
     },
     "execution_count": 189,
     "metadata": {},
     "output_type": "execute_result"
    }
   ],
   "source": [
    "mpb['SnapNum'][:]"
   ]
  },
  {
   "cell_type": "code",
   "execution_count": 228,
   "id": "prime-blame",
   "metadata": {},
   "outputs": [
    {
     "data": {
      "text/plain": [
       "array([ 0,  1,  2,  3,  4,  5,  6,  7,  8,  9, 10, 11, 12, 13, 14, 15, 16,\n",
       "       17, 18, 19, 20, 21, 22, 23, 24, 25, 26, 27, 28, 29, 30, 31, 32, 33,\n",
       "       34, 35, 36, 37, 38, 39, 40, 41, 42, 43, 44, 45, 46, 47, 48, 49, 50,\n",
       "       51, 52, 53, 54, 55, 56, 57, 58, 59, 60, 61, 62, 63, 64, 65, 66, 67,\n",
       "       68, 69, 70, 71, 72, 73, 74, 75, 76, 77, 78, 79, 80, 81, 82, 83, 84,\n",
       "       85, 86, 87, 88, 89, 90, 91, 92, 93, 94, 95, 96, 97, 98, 99],\n",
       "      dtype=int32)"
      ]
     },
     "execution_count": 228,
     "metadata": {},
     "output_type": "execute_result"
    }
   ],
   "source": [
    "mpb['FirstHaloInFOFGroup'][:]"
   ]
  },
  {
   "cell_type": "code",
   "execution_count": 126,
   "id": "binary-gender",
   "metadata": {},
   "outputs": [],
   "source": [
    "temp = get(sub['trees']['sublink_simple']) #Main, Merger"
   ]
  },
  {
   "cell_type": "code",
   "execution_count": 251,
   "id": "executive-tablet",
   "metadata": {},
   "outputs": [],
   "source": [
    "# sub['trees']['sublink_simple']"
   ]
  },
  {
   "cell_type": "code",
   "execution_count": 244,
   "id": "double-cocktail",
   "metadata": {},
   "outputs": [
    {
     "data": {
      "text/plain": [
       "[[99, 0],\n",
       " [98, 0],\n",
       " [97, 0],\n",
       " [96, 0],\n",
       " [95, 0],\n",
       " [94, 0],\n",
       " [93, 0],\n",
       " [92, 0],\n",
       " [91, 0],\n",
       " [90, 0],\n",
       " [89, 0],\n",
       " [88, 2],\n",
       " [87, 0],\n",
       " [86, 0],\n",
       " [85, 0],\n",
       " [84, 0],\n",
       " [83, 0],\n",
       " [82, 0],\n",
       " [81, 0],\n",
       " [80, 0],\n",
       " [79, 0],\n",
       " [78, 0],\n",
       " [77, 0],\n",
       " [76, 0],\n",
       " [75, 0],\n",
       " [74, 0],\n",
       " [73, 0],\n",
       " [72, 0],\n",
       " [71, 0],\n",
       " [70, 0],\n",
       " [69, 0],\n",
       " [68, 0],\n",
       " [67, 0],\n",
       " [66, 0],\n",
       " [65, 0],\n",
       " [64, 0],\n",
       " [63, 0],\n",
       " [62, 0],\n",
       " [61, 0],\n",
       " [60, 0],\n",
       " [59, 0],\n",
       " [58, 0],\n",
       " [57, 0],\n",
       " [56, 0],\n",
       " [55, 0],\n",
       " [54, 0],\n",
       " [53, 0],\n",
       " [52, 0],\n",
       " [51, 0],\n",
       " [50, 0],\n",
       " [49, 0],\n",
       " [48, 0],\n",
       " [47, 0],\n",
       " [46, 15511],\n",
       " [45, 15404],\n",
       " [44, 15624],\n",
       " [43, 15693],\n",
       " [42, 15268],\n",
       " [41, 15472],\n",
       " [40, 15216],\n",
       " [39, 15220],\n",
       " [38, 15195],\n",
       " [37, 9247],\n",
       " [36, 8857],\n",
       " [35, 8266],\n",
       " [34, 15343],\n",
       " [33, 8068],\n",
       " [32, 14355],\n",
       " [31, 13700],\n",
       " [30, 13673],\n",
       " [29, 13021],\n",
       " [28, 9440],\n",
       " [27, 10323],\n",
       " [26, 8987],\n",
       " [25, 3769],\n",
       " [24, 3258],\n",
       " [23, 5996],\n",
       " [22, 4230],\n",
       " [21, 3857],\n",
       " [20, 3618],\n",
       " [19, 3738],\n",
       " [18, 2918],\n",
       " [17, 3119],\n",
       " [16, 1836],\n",
       " [15, 4458],\n",
       " [14, 4301],\n",
       " [13, 4308],\n",
       " [12, 3400],\n",
       " [11, 2314],\n",
       " [10, 2120],\n",
       " [9, 2017],\n",
       " [8, 1470],\n",
       " [7, 1393],\n",
       " [6, 1317],\n",
       " [5, 1329],\n",
       " [4, 3971],\n",
       " [3, 6134],\n",
       " [2, 4334],\n",
       " [1, 3853],\n",
       " [0, 1171]]"
      ]
     },
     "execution_count": 244,
     "metadata": {},
     "output_type": "execute_result"
    }
   ],
   "source": [
    "temp['Main']"
   ]
  },
  {
   "cell_type": "code",
   "execution_count": 140,
   "id": "experienced-stock",
   "metadata": {
    "scrolled": true
   },
   "outputs": [],
   "source": [
    "temp2 = np.array(temp['Mergers'])"
   ]
  },
  {
   "cell_type": "code",
   "execution_count": 175,
   "id": "mexican-teach",
   "metadata": {},
   "outputs": [
    {
     "data": {
      "text/plain": [
       "array([], shape=(0, 2), dtype=int64)"
      ]
     },
     "execution_count": 175,
     "metadata": {},
     "output_type": "execute_result"
    }
   ],
   "source": [
    "temp2[(temp2[:, 0] == 98) & (temp2[:, 1] == 0)]"
   ]
  },
  {
   "cell_type": "code",
   "execution_count": null,
   "id": "angry-benjamin",
   "metadata": {},
   "outputs": [],
   "source": [
    "for i in range(100)\n",
    "\n",
    "    # request the full subhalo details of the descendant by following the sublink URL\n",
    "    sub = get(sub['related']['sublink_projenitor'])"
   ]
  },
  {
   "cell_type": "code",
   "execution_count": null,
   "id": "changing-soviet",
   "metadata": {},
   "outputs": [],
   "source": [
    "#find halos whose masses are greater than 14.\n",
    "# link the halos in the direction of redshift\n",
    "# check gas, star-forming galxy distribution\n",
    "\n",
    "#reference: IllustriTNG-50 page"
   ]
  }
 ],
 "metadata": {
  "kernelspec": {
   "display_name": "Python 3",
   "language": "python",
   "name": "python3"
  },
  "language_info": {
   "codemirror_mode": {
    "name": "ipython",
    "version": 3
   },
   "file_extension": ".py",
   "mimetype": "text/x-python",
   "name": "python",
   "nbconvert_exporter": "python",
   "pygments_lexer": "ipython3",
   "version": "3.7.10"
  },
  "varInspector": {
   "cols": {
    "lenName": 16,
    "lenType": 16,
    "lenVar": 40
   },
   "kernels_config": {
    "python": {
     "delete_cmd_postfix": "",
     "delete_cmd_prefix": "del ",
     "library": "var_list.py",
     "varRefreshCmd": "print(var_dic_list())"
    },
    "r": {
     "delete_cmd_postfix": ") ",
     "delete_cmd_prefix": "rm(",
     "library": "var_list.r",
     "varRefreshCmd": "cat(var_dic_list()) "
    }
   },
   "types_to_exclude": [
    "module",
    "function",
    "builtin_function_or_method",
    "instance",
    "_Feature"
   ],
   "window_display": false
  }
 },
 "nbformat": 4,
 "nbformat_minor": 5
}
